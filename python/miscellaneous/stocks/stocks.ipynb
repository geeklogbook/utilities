{
 "cells": [
  {
   "cell_type": "code",
   "execution_count": 1,
   "metadata": {},
   "outputs": [
    {
     "name": "stdout",
     "output_type": "stream",
     "text": [
      "{'address1': 'One Apple Park Way', 'city': 'Cupertino', 'state': 'CA', 'zip': '95014', 'country': 'United States', 'phone': '408 996 1010', 'website': 'https://www.apple.com', 'industry': 'Consumer Electronics', 'industryKey': 'consumer-electronics', 'industryDisp': 'Consumer Electronics', 'sector': 'Technology', 'sectorKey': 'technology', 'sectorDisp': 'Technology', 'longBusinessSummary': 'Apple Inc. designs, manufactures, and markets smartphones, personal computers, tablets, wearables, and accessories worldwide. The company offers iPhone, a line of smartphones; Mac, a line of personal computers; iPad, a line of multi-purpose tablets; and wearables, home, and accessories comprising AirPods, Apple TV, Apple Watch, Beats products, and HomePod. It also provides AppleCare support and cloud services; and operates various platforms, including the App Store that allow customers to discover and download applications and digital content, such as books, music, video, games, and podcasts. In addition, the company offers various services, such as Apple Arcade, a game subscription service; Apple Fitness+, a personalized fitness service; Apple Music, which offers users a curated listening experience with on-demand radio stations; Apple News+, a subscription news and magazine service; Apple TV+, which offers exclusive original content; Apple Card, a co-branded credit card; and Apple Pay, a cashless payment service, as well as licenses its intellectual property. The company serves consumers, and small and mid-sized businesses; and the education, enterprise, and government markets. It distributes third-party applications for its products through the App Store. The company also sells its products through its retail and online stores, and direct sales force; and third-party cellular network carriers, wholesalers, retailers, and resellers. Apple Inc. was founded in 1976 and is headquartered in Cupertino, California.', 'fullTimeEmployees': 161000, 'companyOfficers': [{'maxAge': 1, 'name': 'Mr. Timothy D. Cook', 'age': 62, 'title': 'CEO & Director', 'yearBorn': 1961, 'fiscalYear': 2023, 'totalPay': 16239562, 'exercisedValue': 0, 'unexercisedValue': 0}, {'maxAge': 1, 'name': 'Mr. Luca  Maestri', 'age': 60, 'title': 'CFO & Senior VP', 'yearBorn': 1963, 'fiscalYear': 2023, 'totalPay': 4612242, 'exercisedValue': 0, 'unexercisedValue': 0}, {'maxAge': 1, 'name': 'Mr. Jeffrey E. Williams', 'age': 59, 'title': 'Chief Operating Officer', 'yearBorn': 1964, 'fiscalYear': 2023, 'totalPay': 4637585, 'exercisedValue': 0, 'unexercisedValue': 0}, {'maxAge': 1, 'name': 'Ms. Katherine L. Adams', 'age': 59, 'title': 'Senior VP, General Counsel & Secretary', 'yearBorn': 1964, 'fiscalYear': 2023, 'totalPay': 4618064, 'exercisedValue': 0, 'unexercisedValue': 0}, {'maxAge': 1, 'name': \"Ms. Deirdre  O'Brien\", 'age': 56, 'title': 'Senior Vice President of Retail', 'yearBorn': 1967, 'fiscalYear': 2023, 'totalPay': 4613369, 'exercisedValue': 0, 'unexercisedValue': 0}, {'maxAge': 1, 'name': 'Mr. Chris  Kondo', 'title': 'Senior Director of Corporate Accounting', 'fiscalYear': 2023, 'exercisedValue': 0, 'unexercisedValue': 0}, {'maxAge': 1, 'name': 'Mr. James  Wilson', 'title': 'Chief Technology Officer', 'fiscalYear': 2023, 'exercisedValue': 0, 'unexercisedValue': 0}, {'maxAge': 1, 'name': 'Suhasini  Chandramouli', 'title': 'Director of Investor Relations', 'fiscalYear': 2023, 'exercisedValue': 0, 'unexercisedValue': 0}, {'maxAge': 1, 'name': 'Mr. Greg  Joswiak', 'title': 'Senior Vice President of Worldwide Marketing', 'fiscalYear': 2023, 'exercisedValue': 0, 'unexercisedValue': 0}, {'maxAge': 1, 'name': 'Mr. Adrian  Perica', 'age': 49, 'title': 'Head of Corporate Development', 'yearBorn': 1974, 'fiscalYear': 2023, 'exercisedValue': 0, 'unexercisedValue': 0}], 'auditRisk': 6, 'boardRisk': 1, 'compensationRisk': 2, 'shareHolderRightsRisk': 1, 'overallRisk': 1, 'governanceEpochDate': 1722470400, 'compensationAsOfEpochDate': 1703980800, 'irWebsite': 'http://investor.apple.com/', 'maxAge': 86400, 'priceHint': 2, 'previousClose': 218.36, 'open': 219.15, 'dayLow': 217.71, 'dayHigh': 225.6, 'regularMarketPreviousClose': 218.36, 'regularMarketOpen': 219.15, 'regularMarketDayLow': 217.71, 'regularMarketDayHigh': 225.6, 'dividendRate': 1.0, 'dividendYield': 0.0045, 'exDividendDate': 1723420800, 'payoutRatio': 0.1476, 'fiveYearAvgDividendYield': 0.68, 'beta': 1.244, 'trailingPE': 33.46423, 'forwardPE': 29.994543, 'volume': 98083537, 'regularMarketVolume': 98083537, 'averageVolume': 65593241, 'averageVolume10days': 53190520, 'averageDailyVolume10Day': 53190520, 'bid': 219.48, 'ask': 219.9, 'bidSize': 500, 'askSize': 100, 'marketCap': 3342773518336, 'fiftyTwoWeekLow': 164.08, 'fiftyTwoWeekHigh': 237.23, 'priceToSalesTrailing12Months': 8.668951, 'fiftyDayAverage': 212.5994, 'twoHundredDayAverage': 189.52155, 'trailingAnnualDividendRate': 0.97, 'trailingAnnualDividendYield': 0.0044422057, 'currency': 'USD', 'enterpriseValue': 3382284648448, 'profitMargins': 0.26441, 'floatShares': 15179658339, 'sharesOutstanding': 15204100096, 'sharesShort': 135383184, 'sharesShortPriorMonth': 153405579, 'sharesShortPreviousMonthDate': 1718323200, 'dateShortInterest': 1721001600, 'sharesPercentSharesOut': 0.0088, 'heldPercentInsiders': 0.05258, 'heldPercentInstitutions': 0.58059, 'shortRatio': 1.83, 'shortPercentOfFloat': 0.0088, 'impliedSharesOutstanding': 15410899968, 'bookValue': 4.382, 'priceToBook': 50.17344, 'lastFiscalYearEnd': 1696032000, 'nextFiscalYearEnd': 1727654400, 'mostRecentQuarter': 1719619200, 'earningsQuarterlyGrowth': 0.079, 'netIncomeToCommon': 101956001792, 'trailingEps': 6.57, 'forwardEps': 7.33, 'pegRatio': 2.97, 'lastSplitFactor': '4:1', 'lastSplitDate': 1598832000, 'enterpriseToRevenue': 8.771, 'enterpriseToEbitda': 25.666, '52WeekChange': 0.22929835, 'SandP52WeekChange': 0.1832757, 'lastDividendValue': 0.25, 'lastDividendDate': 1715299200, 'exchange': 'NMS', 'quoteType': 'EQUITY', 'symbol': 'AAPL', 'underlyingSymbol': 'AAPL', 'shortName': 'Apple Inc.', 'longName': 'Apple Inc.', 'firstTradeDateEpochUtc': 345479400, 'timeZoneFullName': 'America/New_York', 'timeZoneShortName': 'EDT', 'uuid': '8b10e4ae-9eeb-3684-921a-9ab27e4d87aa', 'messageBoardId': 'finmb_24937', 'gmtOffSetMilliseconds': -14400000, 'currentPrice': 219.86, 'targetHighPrice': 300.0, 'targetLowPrice': 170.0, 'targetMeanPrice': 226.86, 'targetMedianPrice': 225.0, 'recommendationMean': 2.0, 'recommendationKey': 'buy', 'numberOfAnalystOpinions': 37, 'totalCash': 61801000960, 'totalCashPerShare': 4.065, 'ebitda': 131781001216, 'totalDebt': 101304000512, 'quickRatio': 0.798, 'currentRatio': 0.953, 'totalRevenue': 385603010560, 'debtToEquity': 151.862, 'revenuePerShare': 24.957, 'returnOnAssets': 0.22612, 'returnOnEquity': 1.60583, 'freeCashflow': 86158123008, 'operatingCashflow': 113040998400, 'earningsGrowth': 0.111, 'revenueGrowth': 0.049, 'grossMargins': 0.45962003, 'ebitdaMargins': 0.34175, 'operatingMargins': 0.29556, 'financialCurrency': 'USD', 'trailingPegRatio': 2.3049}\n"
     ]
    }
   ],
   "source": [
    "import yfinance as yf\n",
    "\n",
    "# Fetching all NYSE stocks\n",
    "apple = yf.Ticker('AAPL')  # Using NYSE Composite Index\n",
    "\n",
    "print(apple.info)"
   ]
  },
  {
   "cell_type": "code",
   "execution_count": null,
   "metadata": {},
   "outputs": [],
   "source": []
  }
 ],
 "metadata": {
  "kernelspec": {
   "display_name": ".venv",
   "language": "python",
   "name": "python3"
  },
  "language_info": {
   "codemirror_mode": {
    "name": "ipython",
    "version": 3
   },
   "file_extension": ".py",
   "mimetype": "text/x-python",
   "name": "python",
   "nbconvert_exporter": "python",
   "pygments_lexer": "ipython3",
   "version": "3.12.2"
  }
 },
 "nbformat": 4,
 "nbformat_minor": 2
}
