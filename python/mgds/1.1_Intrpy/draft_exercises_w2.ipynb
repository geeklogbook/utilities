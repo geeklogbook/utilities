{
 "cells": [
  {
   "cell_type": "markdown",
   "metadata": {},
   "source": [
    "1"
   ]
  },
  {
   "cell_type": "code",
   "execution_count": null,
   "metadata": {},
   "outputs": [],
   "source": [
    "lista = [['A1', 'B1', 'C1', 'D1'],\n",
    "         ['A2', 'B2', 'C2', 'D2'],\n",
    "         ['A3', 'B7', 'C3', 'D3'],\n",
    "         ['A4', 'B4', 'C4', 'D4']]"
   ]
  },
  {
   "cell_type": "code",
   "execution_count": null,
   "metadata": {},
   "outputs": [],
   "source": [
    "lista[2][1] = 'B3'"
   ]
  },
  {
   "cell_type": "code",
   "execution_count": null,
   "metadata": {},
   "outputs": [],
   "source": [
    "lista"
   ]
  },
  {
   "cell_type": "markdown",
   "metadata": {},
   "source": [
    "2"
   ]
  },
  {
   "cell_type": "code",
   "execution_count": null,
   "metadata": {},
   "outputs": [],
   "source": [
    "votos = [['Alicia', 35],\n",
    "         ['Bob', 42],\n",
    "         ['Carlos', 29],\n",
    "         ['David', 33]]"
   ]
  },
  {
   "cell_type": "code",
   "execution_count": null,
   "metadata": {},
   "outputs": [],
   "source": [
    "mejor = ['', 0]\n",
    "for candidato in votos:\n",
    "    if candidato[1] > mejor[1]:\n",
    "        mejor = candidato\n",
    "print(mejor[0])"
   ]
  },
  {
   "cell_type": "markdown",
   "metadata": {},
   "source": [
    "3"
   ]
  },
  {
   "cell_type": "code",
   "execution_count": null,
   "metadata": {},
   "outputs": [],
   "source": [
    "lista = [[-1, 2, -5, 40],\n",
    "         [9, 65, -6, -34],\n",
    "         [0, -4, 9, 2]]"
   ]
  },
  {
   "cell_type": "code",
   "execution_count": null,
   "metadata": {},
   "outputs": [],
   "source": [
    "fils = len(lista)\n",
    "cols = len(lista[0])\n",
    "for i in range( fils ):\n",
    "    for k in range( cols ):\n",
    "        if lista[i][k] < 0:\n",
    "            lista[i][k] = 0"
   ]
  },
  {
   "cell_type": "code",
   "execution_count": null,
   "metadata": {},
   "outputs": [],
   "source": [
    "lista"
   ]
  },
  {
   "cell_type": "markdown",
   "metadata": {},
   "source": [
    "4"
   ]
  },
  {
   "cell_type": "code",
   "execution_count": null,
   "metadata": {},
   "outputs": [],
   "source": [
    "lista = [['', 'YYZZ', 'ZY', ''],\n",
    "         ['YZZY', 'YY', 'Y', 'YZYY'],\n",
    "         ['Y', 'YZ', 'YZ', 'Y']]"
   ]
  },
  {
   "cell_type": "code",
   "execution_count": null,
   "metadata": {},
   "outputs": [],
   "source": [
    "y = 0\n",
    "for fila in lista:\n",
    "    for dato in fila:\n",
    "        y += dato.count('Y')\n",
    "print(y)\n"
   ]
  },
  {
   "cell_type": "code",
   "execution_count": null,
   "metadata": {},
   "outputs": [],
   "source": [
    "'YZYY'.count('Y')"
   ]
  },
  {
   "cell_type": "markdown",
   "metadata": {},
   "source": [
    "5"
   ]
  },
  {
   "cell_type": "code",
   "execution_count": null,
   "metadata": {},
   "outputs": [],
   "source": [
    "ingredientes_amigos = [['Pan', 'Salchichas', 'Mostaza', 'Ketchup'],\n",
    "                       ['Pan', 'Tomate', 'Chucrut'],\n",
    "                       ['Ketchup','Salchichas'],\n",
    "                       ['Chucrut', 'Pan']]\n",
    "ingredientes_favoritos = ['Pan', 'Tomate', 'Salchichas', 'Chucrut', 'Mostaza', 'Ketchup','Mayonesa','Palta']"
   ]
  },
  {
   "cell_type": "code",
   "execution_count": null,
   "metadata": {},
   "outputs": [],
   "source": [
    "for amigo in ingredientes_amigos:\n",
    "    for ingrediente in amigo:\n",
    "        if ingrediente in ingredientes_favoritos:\n",
    "            ingredientes_favoritos.remove(ingrediente)\n",
    "print(ingredientes_favoritos)\n"
   ]
  },
  {
   "cell_type": "markdown",
   "metadata": {},
   "source": [
    "6"
   ]
  },
  {
   "cell_type": "code",
   "execution_count": 27,
   "metadata": {},
   "outputs": [],
   "source": [
    "lista = [[0,1,2,3,4],\n",
    "         [0,1,2,3,4],\n",
    "         [0,1,2,3,4],\n",
    "         [0,1,2,3,4],\n",
    "         [0,1,2,3,4],\n",
    "         [4,0,2,3,1],\n",
    "         [0,1,2,3,4],\n",
    "         [0,1,2,3,4]]"
   ]
  },
  {
   "cell_type": "code",
   "execution_count": 28,
   "metadata": {},
   "outputs": [
    {
     "name": "stdout",
     "output_type": "stream",
     "text": [
      "[4, 0, 2, 3, 1]\n"
     ]
    }
   ],
   "source": [
    "for lista_int in lista:\n",
    "    if lista_int != lista[0]:\n",
    "        print(lista_int)\n",
    "\n"
   ]
  },
  {
   "cell_type": "markdown",
   "metadata": {},
   "source": [
    "sum 2"
   ]
  },
  {
   "cell_type": "code",
   "execution_count": 90,
   "metadata": {},
   "outputs": [],
   "source": [
    "# expected = [\n",
    "# [1, 1, 1],\n",
    "# [1, 9, 1],\n",
    "# [1, 1, 1]\n",
    "# ]\n",
    "\n",
    "# lista = [\n",
    "# [0, 0, 9],\n",
    "# [0, 0, 0],\n",
    "# [0, 0, 0]\n",
    "# ]\n",
    "\n",
    "'''\n",
    "[[-1, -1], [0, -1], [+1, -1]]\n",
    "[[-1,  0], [0,  0], [+1,  0]]\n",
    "[[-1, +1], [0, +1], [+1, +1]]\n",
    "\n",
    "[[-1, -1], [0, -1], [+1, -1]]\n",
    "[[-1,  0],    9,    [+1,  0]]\n",
    "[[-1, +1], [0, +1], [+1, +1]]\n",
    "\n",
    "'''\n",
    "\n",
    "\n",
    "lista = [\n",
    "[0, 0, 0, 0, 0, 0, 0, 0],\n",
    "[0, 0, 0, 9, 0, 0, 0, 0],\n",
    "[0, 0, 0, 0, 0, 0, 9, 0],\n",
    "[0, 0, 9, 0, 0, 0, 9, 0],\n",
    "[0, 0, 0, 0, 9, 0, 9, 0],\n",
    "[0, 9, 0, 0, 0, 0, 0, 0],\n",
    "[0, 0, 0, 9, 0, 0, 0, 0],\n",
    "[9, 0, 0, 0, 0, 9, 0, 0]\n",
    "]\n",
    "\n",
    "solucion=[\n",
    "    [0, 0, 1, 1, 1, 0, 0, 0],\n",
    "    [0, 0, 1, 9, 1, 1, 1, 1],\n",
    "    [0, 1, 2, 2, 1, 2, 9, 2],\n",
    "    [0, 1, 9, 2, 1, 4, 9, 3],\n",
    "    [1, 2, 2, 2, 9, 3, 9, 2],\n",
    "    [1, 9, 2, 2, 2, 2, 1, 1],\n",
    "    [2, 2, 2, 9, 2, 1, 1, 0],\n",
    "    [9, 1, 1, 1, 2, 9, 1, 0]\n",
    "]"
   ]
  },
  {
   "cell_type": "code",
   "execution_count": 91,
   "metadata": {},
   "outputs": [],
   "source": [
    "# [[-1, -1], [-1, 0], [-1, +1,]]\n",
    "# [[ 0, -1], [ 0, 0], [ 0, +1,]]\n",
    "# [[+1, -1], [+1, 0], [+1, +1,]]\n",
    "\n",
    "def colocar_numeros(tablero):\n",
    "    tam = len(tablero)\n",
    "    resultado = tablero\n",
    "\n",
    "    for fila in range(tam):\n",
    "        for columna in range(tam):\n",
    "            if resultado[fila][columna] == 9:\n",
    "                for x in range(fila - 1, fila + 2):\n",
    "                    for y in range(columna - 1, columna + 2):\n",
    "                        if 0 <= x < tam and 0 <= y < tam and resultado[x][y] != 9:\n",
    "                            resultado[x][y] += 1\n",
    "    return resultado"
   ]
  },
  {
   "cell_type": "code",
   "execution_count": 92,
   "metadata": {},
   "outputs": [
    {
     "name": "stdout",
     "output_type": "stream",
     "text": [
      "[0, 0, 1, 1, 1, 0, 0, 0]\n",
      "[0, 0, 1, 9, 1, 1, 1, 1]\n",
      "[0, 1, 2, 2, 1, 2, 9, 2]\n",
      "[0, 1, 9, 2, 1, 4, 9, 3]\n",
      "[1, 2, 2, 2, 9, 3, 9, 2]\n",
      "[1, 9, 2, 2, 2, 2, 1, 1]\n",
      "[2, 2, 2, 9, 2, 1, 1, 0]\n",
      "[9, 1, 1, 1, 2, 9, 1, 0]\n"
     ]
    }
   ],
   "source": [
    "resultado = colocar_numeros(lista)\n",
    "for r in resultado:\n",
    "    print(r)\n"
   ]
  },
  {
   "cell_type": "code",
   "execution_count": 93,
   "metadata": {},
   "outputs": [
    {
     "data": {
      "text/plain": [
       "True"
      ]
     },
     "execution_count": 93,
     "metadata": {},
     "output_type": "execute_result"
    }
   ],
   "source": [
    "resultado == solucion"
   ]
  },
  {
   "cell_type": "code",
   "execution_count": null,
   "metadata": {},
   "outputs": [],
   "source": []
  }
 ],
 "metadata": {
  "kernelspec": {
   "display_name": ".env",
   "language": "python",
   "name": "python3"
  },
  "language_info": {
   "codemirror_mode": {
    "name": "ipython",
    "version": 3
   },
   "file_extension": ".py",
   "mimetype": "text/x-python",
   "name": "python",
   "nbconvert_exporter": "python",
   "pygments_lexer": "ipython3",
   "version": "3.12.2"
  }
 },
 "nbformat": 4,
 "nbformat_minor": 2
}
