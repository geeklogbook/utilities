{
 "cells": [
  {
   "cell_type": "code",
   "execution_count": 1,
   "metadata": {},
   "outputs": [],
   "source": [
    "lista = [['User ID', 'Gender', 'Age', 'AnnualSalary', 'Purchased'],\n",
    "[385, 'Male', 35, 20000, 0],\n",
    "[681, 'Female', 51, 43500, 0],\n",
    "[353, 'Female', 59, 74000, 0],\n",
    "[896, 'Male', 30, 10500, 1],\n",
    "[382, 'Male', 29, 20000, 0],\n",
    "[682, 'Female', 60, 43500, 0],\n",
    "[351, 'Female', 35, 107500, 0],\n",
    "[894, 'Male', 56, 107500, 1]\n",
    "]"
   ]
  },
  {
   "cell_type": "code",
   "execution_count": 2,
   "metadata": {},
   "outputs": [
    {
     "data": {
      "text/plain": [
       "[['User ID', 'Gender', 'Age', 'AnnualSalary', 'Purchased'],\n",
       " [385, 'Male', 35, 20000, 0],\n",
       " [681, 'Female', 51, 43500, 0],\n",
       " [353, 'Female', 59, 74000, 0],\n",
       " [896, 'Male', 30, 10500, 1],\n",
       " [382, 'Male', 29, 20000, 0],\n",
       " [682, 'Female', 60, 43500, 0],\n",
       " [351, 'Female', 35, 107500, 0],\n",
       " [894, 'Male', 56, 107500, 1]]"
      ]
     },
     "execution_count": 2,
     "metadata": {},
     "output_type": "execute_result"
    }
   ],
   "source": [
    "lista"
   ]
  },
  {
   "cell_type": "code",
   "execution_count": 70,
   "metadata": {},
   "outputs": [],
   "source": [
    "# Rico >= 100.000 and Gender == 'Male' \n",
    "\"\"\"\n",
    "[\n",
    "  [Menor 30 - Hombre - No Rico, 1,2,3,4,5],\n",
    "  [Menor 30 - Mujer  - No Rico, 1,2,3,4,5]\n",
    "]\n",
    "\"\"\"\n",
    "def _dividir_sexo(lista):\n",
    "      hombres = []\n",
    "      mujeres = []\n",
    "      for elem in lista:\n",
    "            if elem[1] == \"Male\":\n",
    "                  hombres.append(elem)\n",
    "            elif elem[1] == \"Female\":\n",
    "                  mujeres.append(elem)\n",
    "      return hombres, mujeres\n",
    "\n",
    "def _dividir_salario(lista):\n",
    "      ricos = []\n",
    "      no_ricos = []\n",
    "      for elem in lista:\n",
    "            if elem[3] >= 100000:\n",
    "                  ricos.append(elem)\n",
    "            elif elem[3] < 100000:\n",
    "                  no_ricos.append(elem)\n",
    "      return ricos, no_ricos\n",
    "\n",
    "def _sumarizar_por_edad(lista):\n",
    "      menores_30 = 0\n",
    "      de_30_a_50 = 0\n",
    "      mayores_53 = 0\n",
    "      for elem in lista:\n",
    "            if elem[2] < 30:\n",
    "                  menores_30 += 1\n",
    "            else:\n",
    "                  if elem[2] <= 53:\n",
    "                        de_30_a_50 += 1\n",
    "                  else:\n",
    "                        mayores_53 += 1\n",
    "      return [menores_30, de_30_a_50, mayores_53]\n",
    "                  \n",
    "\n",
    "def distribucion_clientes(lista):\n",
    "    hombres, mujeres = _dividir_sexo(lista)\n",
    "    hombres_ricos, hombres_no_ricos = _dividir_salario(hombres)\n",
    "    sumarizado_hombres_ricos      = _sumarizar_por_edad(hombres_ricos)\n",
    "    sumarizado_hombres_no_ricos     = _sumarizar_por_edad(hombres_no_ricos)\n",
    "    mujeres_ricas, mujeres_no_ricas = _dividir_salario(mujeres)\n",
    "    sumarizado_mujeres_ricas      = _sumarizar_por_edad(mujeres_ricas)\n",
    "    sumarizado_mujeres_no_ricas     = _sumarizar_por_edad(mujeres_no_ricas)\n",
    "    return [sumarizado_hombres_no_ricos + sumarizado_hombres_ricos,sumarizado_mujeres_no_ricas + sumarizado_mujeres_ricas]"
   ]
  },
  {
   "cell_type": "code",
   "execution_count": 71,
   "metadata": {},
   "outputs": [],
   "source": [
    "res = distribucion_clientes(lista)"
   ]
  },
  {
   "cell_type": "code",
   "execution_count": 72,
   "metadata": {},
   "outputs": [],
   "source": [
    "res_test = [[1,2,0,0,0,1], [0,1,2,0,1,0]]"
   ]
  },
  {
   "cell_type": "code",
   "execution_count": 73,
   "metadata": {},
   "outputs": [
    {
     "data": {
      "text/plain": [
       "True"
      ]
     },
     "execution_count": 73,
     "metadata": {},
     "output_type": "execute_result"
    }
   ],
   "source": [
    "res == res_test"
   ]
  },
  {
   "cell_type": "markdown",
   "metadata": {},
   "source": [
    "2"
   ]
  },
  {
   "cell_type": "code",
   "execution_count": 3,
   "metadata": {},
   "outputs": [],
   "source": [
    "lista = [['User ID', 'Gender', 'Age', 'AnnualSalary', 'Purchased'],\n",
    "[385, 'Male', 35, 20000, 0],\n",
    "[681, 'Male', 50, 43500, 0],\n",
    "[353, 'Male', 59, 74000, 0],\n",
    "[895, 'Male', 53, 107500, 1]\n",
    "]"
   ]
  },
  {
   "cell_type": "code",
   "execution_count": 4,
   "metadata": {},
   "outputs": [],
   "source": [
    "#probabilidad = cantidad de clientes en el rango de edad que compraron vehículos / cantidad total de clientes en el rango de edad\n",
    "\n",
    "def prob_compra_edad(lista):\n",
    "    final_dict = dict()\n",
    "    for elem in lista[1:]:\n",
    "        age = elem[2]\n",
    "        floor = (age // 10) * 10\n",
    "        ceiling = floor + 9\n",
    "        final_dict_key = str(floor)+'-'+str(ceiling)\n",
    "        if final_dict_key in final_dict:\n",
    "            final_dict[final_dict_key]['total_clients'] += 1\n",
    "            if elem[4] == 1:\n",
    "                final_dict[final_dict_key]['purchased_car'] += 1\n",
    "        else:\n",
    "            total_clients = 1\n",
    "            purchased_car = 1 if elem[4] == 1 else 0\n",
    "            final_dict[final_dict_key] = {\n",
    "                'total_clients': total_clients,\n",
    "                'purchased_car': purchased_car\n",
    "            }\n",
    "\n",
    "    for key, value in final_dict.items():\n",
    "        total_clients = value['total_clients']\n",
    "        purchased_car = value['purchased_car']\n",
    "        value['probability'] = round(purchased_car / total_clients,2) if total_clients > 0 else 0\n",
    "    \n",
    "    output_dict = {key: value['probability'] for key, value in final_dict.items()}\n",
    "    \n",
    "    return output_dict"
   ]
  },
  {
   "cell_type": "code",
   "execution_count": 5,
   "metadata": {},
   "outputs": [
    {
     "data": {
      "text/plain": [
       "{'30-39': 0.0, '50-59': 0.33}"
      ]
     },
     "execution_count": 5,
     "metadata": {},
     "output_type": "execute_result"
    }
   ],
   "source": [
    "prob_compra_edad(lista)"
   ]
  }
 ],
 "metadata": {
  "kernelspec": {
   "display_name": ".env",
   "language": "python",
   "name": "python3"
  },
  "language_info": {
   "codemirror_mode": {
    "name": "ipython",
    "version": 3
   },
   "file_extension": ".py",
   "mimetype": "text/x-python",
   "name": "python",
   "nbconvert_exporter": "python",
   "pygments_lexer": "ipython3",
   "version": "3.12.2"
  }
 },
 "nbformat": 4,
 "nbformat_minor": 2
}
