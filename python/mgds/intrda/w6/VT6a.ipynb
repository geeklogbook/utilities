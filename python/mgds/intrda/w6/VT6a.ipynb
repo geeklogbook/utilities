{
 "cells": [
  {
   "cell_type": "code",
   "execution_count": 4,
   "metadata": {},
   "outputs": [],
   "source": [
    "import pandas as pd"
   ]
  },
  {
   "cell_type": "markdown",
   "metadata": {},
   "source": [
    "# Data Cleaning"
   ]
  },
  {
   "cell_type": "code",
   "execution_count": 11,
   "metadata": {},
   "outputs": [],
   "source": [
    "df1 = pd.read_csv(\"..\\\\data\\\\peliculas\\\\movie_metadata.csv\").dropna(how='all')\n",
    "df1 = df1[['movie_title', 'title_year', 'language', 'genres',\n",
    "           'duration', 'gross', 'movie_facebook_likes', 'director_name', 'country',\n",
    "           'actor_2_name','actor_2_name','actor_3_name']]"
   ]
  },
  {
   "cell_type": "code",
   "execution_count": 12,
   "metadata": {},
   "outputs": [
    {
     "data": {
      "text/plain": [
       "Index(['movie_title', 'title_year', 'language', 'genres', 'duration', 'gross',\n",
       "       'movie_facebook_likes', 'director_name', 'country', 'actor_2_name',\n",
       "       'actor_2_name', 'actor_3_name'],\n",
       "      dtype='object')"
      ]
     },
     "execution_count": 12,
     "metadata": {},
     "output_type": "execute_result"
    }
   ],
   "source": [
    "df1.columns"
   ]
  },
  {
   "cell_type": "code",
   "execution_count": 13,
   "metadata": {},
   "outputs": [
    {
     "data": {
      "text/html": [
       "<div>\n",
       "<style scoped>\n",
       "    .dataframe tbody tr th:only-of-type {\n",
       "        vertical-align: middle;\n",
       "    }\n",
       "\n",
       "    .dataframe tbody tr th {\n",
       "        vertical-align: top;\n",
       "    }\n",
       "\n",
       "    .dataframe thead th {\n",
       "        text-align: right;\n",
       "    }\n",
       "</style>\n",
       "<table border=\"1\" class=\"dataframe\">\n",
       "  <thead>\n",
       "    <tr style=\"text-align: right;\">\n",
       "      <th></th>\n",
       "      <th>movie_title</th>\n",
       "      <th>title_year</th>\n",
       "      <th>language</th>\n",
       "      <th>genres</th>\n",
       "      <th>duration</th>\n",
       "      <th>gross</th>\n",
       "      <th>movie_facebook_likes</th>\n",
       "      <th>director_name</th>\n",
       "      <th>country</th>\n",
       "      <th>actor_2_name</th>\n",
       "      <th>actor_2_name</th>\n",
       "      <th>actor_3_name</th>\n",
       "    </tr>\n",
       "  </thead>\n",
       "  <tbody>\n",
       "    <tr>\n",
       "      <th>0</th>\n",
       "      <td>Avatar</td>\n",
       "      <td>2009.0</td>\n",
       "      <td>English</td>\n",
       "      <td>Action|Adventure|Fantasy|Sci-Fi</td>\n",
       "      <td>178.0</td>\n",
       "      <td>760505847.0</td>\n",
       "      <td>33000</td>\n",
       "      <td>James Cameron</td>\n",
       "      <td>USA</td>\n",
       "      <td>Joel David Moore</td>\n",
       "      <td>Joel David Moore</td>\n",
       "      <td>Wes Studi</td>\n",
       "    </tr>\n",
       "    <tr>\n",
       "      <th>1</th>\n",
       "      <td>Pirates of the Caribbean: At World's End</td>\n",
       "      <td>2007.0</td>\n",
       "      <td>English</td>\n",
       "      <td>Action|Adventure|Fantasy</td>\n",
       "      <td>169.0</td>\n",
       "      <td>309404152.0</td>\n",
       "      <td>0</td>\n",
       "      <td>Gore Verbinski</td>\n",
       "      <td>USA</td>\n",
       "      <td>Orlando Bloom</td>\n",
       "      <td>Orlando Bloom</td>\n",
       "      <td>Jack Davenport</td>\n",
       "    </tr>\n",
       "    <tr>\n",
       "      <th>2</th>\n",
       "      <td>Spectre</td>\n",
       "      <td>2015.0</td>\n",
       "      <td>English</td>\n",
       "      <td>Action|Adventure|Thriller</td>\n",
       "      <td>148.0</td>\n",
       "      <td>200074175.0</td>\n",
       "      <td>85000</td>\n",
       "      <td>Sam Mendes</td>\n",
       "      <td>UK</td>\n",
       "      <td>Rory Kinnear</td>\n",
       "      <td>Rory Kinnear</td>\n",
       "      <td>Stephanie Sigman</td>\n",
       "    </tr>\n",
       "    <tr>\n",
       "      <th>3</th>\n",
       "      <td>The Dark Knight Rises</td>\n",
       "      <td>2012.0</td>\n",
       "      <td>English</td>\n",
       "      <td>Action|Thriller</td>\n",
       "      <td>164.0</td>\n",
       "      <td>448130642.0</td>\n",
       "      <td>164000</td>\n",
       "      <td>Christopher Nolan</td>\n",
       "      <td>USA</td>\n",
       "      <td>Christian Bale</td>\n",
       "      <td>Christian Bale</td>\n",
       "      <td>Joseph Gordon-Levitt</td>\n",
       "    </tr>\n",
       "    <tr>\n",
       "      <th>4</th>\n",
       "      <td>Star Wars: Episode VII - The Force Awakens    ...</td>\n",
       "      <td>NaN</td>\n",
       "      <td>NaN</td>\n",
       "      <td>Documentary</td>\n",
       "      <td>NaN</td>\n",
       "      <td>NaN</td>\n",
       "      <td>0</td>\n",
       "      <td>Doug Walker</td>\n",
       "      <td>NaN</td>\n",
       "      <td>Rob Walker</td>\n",
       "      <td>Rob Walker</td>\n",
       "      <td>NaN</td>\n",
       "    </tr>\n",
       "  </tbody>\n",
       "</table>\n",
       "</div>"
      ],
      "text/plain": [
       "                                         movie_title  title_year language  \\\n",
       "0                                            Avatar       2009.0  English   \n",
       "1          Pirates of the Caribbean: At World's End       2007.0  English   \n",
       "2                                           Spectre       2015.0  English   \n",
       "3                             The Dark Knight Rises       2012.0  English   \n",
       "4  Star Wars: Episode VII - The Force Awakens    ...         NaN      NaN   \n",
       "\n",
       "                            genres  duration        gross  \\\n",
       "0  Action|Adventure|Fantasy|Sci-Fi     178.0  760505847.0   \n",
       "1         Action|Adventure|Fantasy     169.0  309404152.0   \n",
       "2        Action|Adventure|Thriller     148.0  200074175.0   \n",
       "3                  Action|Thriller     164.0  448130642.0   \n",
       "4                      Documentary       NaN          NaN   \n",
       "\n",
       "   movie_facebook_likes      director_name country      actor_2_name  \\\n",
       "0                 33000      James Cameron     USA  Joel David Moore   \n",
       "1                     0     Gore Verbinski     USA     Orlando Bloom   \n",
       "2                 85000         Sam Mendes      UK      Rory Kinnear   \n",
       "3                164000  Christopher Nolan     USA    Christian Bale   \n",
       "4                     0        Doug Walker     NaN        Rob Walker   \n",
       "\n",
       "       actor_2_name          actor_3_name  \n",
       "0  Joel David Moore             Wes Studi  \n",
       "1     Orlando Bloom        Jack Davenport  \n",
       "2      Rory Kinnear      Stephanie Sigman  \n",
       "3    Christian Bale  Joseph Gordon-Levitt  \n",
       "4        Rob Walker                   NaN  "
      ]
     },
     "execution_count": 13,
     "metadata": {},
     "output_type": "execute_result"
    }
   ],
   "source": [
    "df1.head()"
   ]
  },
  {
   "cell_type": "code",
   "execution_count": 16,
   "metadata": {},
   "outputs": [
    {
     "data": {
      "text/plain": [
       "array(['Avatar', \"Pirates of the Caribbean: At World's End\", 'Spectre',\n",
       "       ..., 'A Plague So Pleasant', 'Shanghai Calling',\n",
       "       'My Date with Drew'], dtype=object)"
      ]
     },
     "execution_count": 16,
     "metadata": {},
     "output_type": "execute_result"
    }
   ],
   "source": [
    "df1 ['movie_title'].unique()"
   ]
  },
  {
   "cell_type": "code",
   "execution_count": 15,
   "metadata": {},
   "outputs": [],
   "source": [
    "df1 = df1.replace('\\xa0', '', regex=True)"
   ]
  },
  {
   "cell_type": "code",
   "execution_count": 18,
   "metadata": {},
   "outputs": [
    {
     "data": {
      "text/plain": [
       "(123, 126)"
      ]
     },
     "execution_count": 18,
     "metadata": {},
     "output_type": "execute_result"
    }
   ],
   "source": [
    "df1.duplicated().sum(), df1['movie_title'].duplicated().sum()"
   ]
  },
  {
   "cell_type": "code",
   "execution_count": 19,
   "metadata": {},
   "outputs": [
    {
     "data": {
      "text/html": [
       "<div>\n",
       "<style scoped>\n",
       "    .dataframe tbody tr th:only-of-type {\n",
       "        vertical-align: middle;\n",
       "    }\n",
       "\n",
       "    .dataframe tbody tr th {\n",
       "        vertical-align: top;\n",
       "    }\n",
       "\n",
       "    .dataframe thead th {\n",
       "        text-align: right;\n",
       "    }\n",
       "</style>\n",
       "<table border=\"1\" class=\"dataframe\">\n",
       "  <thead>\n",
       "    <tr style=\"text-align: right;\">\n",
       "      <th></th>\n",
       "      <th>movie_title</th>\n",
       "      <th>title_year</th>\n",
       "      <th>language</th>\n",
       "      <th>genres</th>\n",
       "      <th>duration</th>\n",
       "      <th>gross</th>\n",
       "      <th>movie_facebook_likes</th>\n",
       "      <th>director_name</th>\n",
       "      <th>country</th>\n",
       "      <th>actor_2_name</th>\n",
       "      <th>actor_2_name</th>\n",
       "      <th>actor_3_name</th>\n",
       "    </tr>\n",
       "  </thead>\n",
       "  <tbody>\n",
       "    <tr>\n",
       "      <th>6</th>\n",
       "      <td>Spider-Man 3</td>\n",
       "      <td>2007.0</td>\n",
       "      <td>English</td>\n",
       "      <td>Action|Adventure|Romance</td>\n",
       "      <td>156.0</td>\n",
       "      <td>336530303.0</td>\n",
       "      <td>0</td>\n",
       "      <td>Sam Raimi</td>\n",
       "      <td>USA</td>\n",
       "      <td>James Franco</td>\n",
       "      <td>James Franco</td>\n",
       "      <td>Kirsten Dunst</td>\n",
       "    </tr>\n",
       "    <tr>\n",
       "      <th>17</th>\n",
       "      <td>The Avengers</td>\n",
       "      <td>2012.0</td>\n",
       "      <td>English</td>\n",
       "      <td>Action|Adventure|Sci-Fi</td>\n",
       "      <td>173.0</td>\n",
       "      <td>623279547.0</td>\n",
       "      <td>123000</td>\n",
       "      <td>Joss Whedon</td>\n",
       "      <td>USA</td>\n",
       "      <td>Robert Downey Jr.</td>\n",
       "      <td>Robert Downey Jr.</td>\n",
       "      <td>Scarlett Johansson</td>\n",
       "    </tr>\n",
       "    <tr>\n",
       "      <th>25</th>\n",
       "      <td>King Kong</td>\n",
       "      <td>2005.0</td>\n",
       "      <td>English</td>\n",
       "      <td>Action|Adventure|Drama|Romance</td>\n",
       "      <td>201.0</td>\n",
       "      <td>218051260.0</td>\n",
       "      <td>0</td>\n",
       "      <td>Peter Jackson</td>\n",
       "      <td>New Zealand</td>\n",
       "      <td>Thomas Kretschmann</td>\n",
       "      <td>Thomas Kretschmann</td>\n",
       "      <td>Evan Parke</td>\n",
       "    </tr>\n",
       "    <tr>\n",
       "      <th>30</th>\n",
       "      <td>Skyfall</td>\n",
       "      <td>2012.0</td>\n",
       "      <td>English</td>\n",
       "      <td>Action|Adventure|Thriller</td>\n",
       "      <td>143.0</td>\n",
       "      <td>304360277.0</td>\n",
       "      <td>80000</td>\n",
       "      <td>Sam Mendes</td>\n",
       "      <td>UK</td>\n",
       "      <td>Helen McCrory</td>\n",
       "      <td>Helen McCrory</td>\n",
       "      <td>Rory Kinnear</td>\n",
       "    </tr>\n",
       "    <tr>\n",
       "      <th>33</th>\n",
       "      <td>Alice in Wonderland</td>\n",
       "      <td>2010.0</td>\n",
       "      <td>English</td>\n",
       "      <td>Adventure|Family|Fantasy</td>\n",
       "      <td>108.0</td>\n",
       "      <td>334185206.0</td>\n",
       "      <td>24000</td>\n",
       "      <td>Tim Burton</td>\n",
       "      <td>USA</td>\n",
       "      <td>Alan Rickman</td>\n",
       "      <td>Alan Rickman</td>\n",
       "      <td>Anne Hathaway</td>\n",
       "    </tr>\n",
       "  </tbody>\n",
       "</table>\n",
       "</div>"
      ],
      "text/plain": [
       "            movie_title  title_year language                          genres  \\\n",
       "6          Spider-Man 3      2007.0  English        Action|Adventure|Romance   \n",
       "17         The Avengers      2012.0  English         Action|Adventure|Sci-Fi   \n",
       "25            King Kong      2005.0  English  Action|Adventure|Drama|Romance   \n",
       "30              Skyfall      2012.0  English       Action|Adventure|Thriller   \n",
       "33  Alice in Wonderland      2010.0  English        Adventure|Family|Fantasy   \n",
       "\n",
       "    duration        gross  movie_facebook_likes  director_name      country  \\\n",
       "6      156.0  336530303.0                     0      Sam Raimi          USA   \n",
       "17     173.0  623279547.0                123000    Joss Whedon          USA   \n",
       "25     201.0  218051260.0                     0  Peter Jackson  New Zealand   \n",
       "30     143.0  304360277.0                 80000     Sam Mendes           UK   \n",
       "33     108.0  334185206.0                 24000     Tim Burton          USA   \n",
       "\n",
       "          actor_2_name        actor_2_name        actor_3_name  \n",
       "6         James Franco        James Franco       Kirsten Dunst  \n",
       "17   Robert Downey Jr.   Robert Downey Jr.  Scarlett Johansson  \n",
       "25  Thomas Kretschmann  Thomas Kretschmann          Evan Parke  \n",
       "30       Helen McCrory       Helen McCrory        Rory Kinnear  \n",
       "33        Alan Rickman        Alan Rickman       Anne Hathaway  "
      ]
     },
     "execution_count": 19,
     "metadata": {},
     "output_type": "execute_result"
    }
   ],
   "source": [
    "duplicados_df1 = df1[df1.duplicated(keep=False)]\n",
    "duplicados_df1.head()"
   ]
  },
  {
   "cell_type": "code",
   "execution_count": 20,
   "metadata": {},
   "outputs": [],
   "source": [
    "df1 = df1.drop_duplicates(subset=['movie_title'])"
   ]
  },
  {
   "cell_type": "code",
   "execution_count": 21,
   "metadata": {},
   "outputs": [
    {
     "data": {
      "text/plain": [
       "(0, 0)"
      ]
     },
     "execution_count": 21,
     "metadata": {},
     "output_type": "execute_result"
    }
   ],
   "source": [
    "df1.duplicated().sum(), df1['movie_title'].duplicated().sum()"
   ]
  },
  {
   "cell_type": "code",
   "execution_count": 22,
   "metadata": {},
   "outputs": [
    {
     "data": {
      "text/plain": [
       "movie_title               0\n",
       "title_year              106\n",
       "language                 14\n",
       "genres                    0\n",
       "duration                 15\n",
       "gross                   863\n",
       "movie_facebook_likes      0\n",
       "director_name           102\n",
       "country                   5\n",
       "actor_2_name             13\n",
       "actor_2_name             13\n",
       "actor_3_name             23\n",
       "dtype: int64"
      ]
     },
     "execution_count": 22,
     "metadata": {},
     "output_type": "execute_result"
    }
   ],
   "source": [
    "df1.isna().sum()"
   ]
  },
  {
   "cell_type": "code",
   "execution_count": 25,
   "metadata": {},
   "outputs": [
    {
     "data": {
      "text/html": [
       "<div>\n",
       "<style scoped>\n",
       "    .dataframe tbody tr th:only-of-type {\n",
       "        vertical-align: middle;\n",
       "    }\n",
       "\n",
       "    .dataframe tbody tr th {\n",
       "        vertical-align: top;\n",
       "    }\n",
       "\n",
       "    .dataframe thead th {\n",
       "        text-align: right;\n",
       "    }\n",
       "</style>\n",
       "<table border=\"1\" class=\"dataframe\">\n",
       "  <thead>\n",
       "    <tr style=\"text-align: right;\">\n",
       "      <th></th>\n",
       "      <th>movie_title</th>\n",
       "      <th>title_year</th>\n",
       "      <th>language</th>\n",
       "      <th>genres</th>\n",
       "      <th>duration</th>\n",
       "      <th>gross</th>\n",
       "      <th>movie_facebook_likes</th>\n",
       "      <th>director_name</th>\n",
       "      <th>country</th>\n",
       "      <th>actor_2_name</th>\n",
       "      <th>actor_2_name</th>\n",
       "      <th>actor_3_name</th>\n",
       "    </tr>\n",
       "  </thead>\n",
       "  <tbody>\n",
       "  </tbody>\n",
       "</table>\n",
       "</div>"
      ],
      "text/plain": [
       "Empty DataFrame\n",
       "Columns: [movie_title, title_year, language, genres, duration, gross, movie_facebook_likes, director_name, country, actor_2_name, actor_2_name, actor_3_name]\n",
       "Index: []"
      ]
     },
     "execution_count": 25,
     "metadata": {},
     "output_type": "execute_result"
    }
   ],
   "source": [
    "df1[(df1['gross'].isna())&(df1['movie_facebook_likes']==0)].head()"
   ]
  },
  {
   "cell_type": "code",
   "execution_count": 24,
   "metadata": {},
   "outputs": [],
   "source": [
    "df1 = df1[~(df1['gross'].isna())|~(df1['movie_facebook_likes']==0)]"
   ]
  },
  {
   "cell_type": "code",
   "execution_count": 26,
   "metadata": {},
   "outputs": [
    {
     "data": {
      "text/html": [
       "<div>\n",
       "<style scoped>\n",
       "    .dataframe tbody tr th:only-of-type {\n",
       "        vertical-align: middle;\n",
       "    }\n",
       "\n",
       "    .dataframe tbody tr th {\n",
       "        vertical-align: top;\n",
       "    }\n",
       "\n",
       "    .dataframe thead th {\n",
       "        text-align: right;\n",
       "    }\n",
       "</style>\n",
       "<table border=\"1\" class=\"dataframe\">\n",
       "  <thead>\n",
       "    <tr style=\"text-align: right;\">\n",
       "      <th></th>\n",
       "      <th>movie_title</th>\n",
       "      <th>title_year</th>\n",
       "      <th>language</th>\n",
       "      <th>genres</th>\n",
       "      <th>duration</th>\n",
       "      <th>gross</th>\n",
       "      <th>movie_facebook_likes</th>\n",
       "      <th>director_name</th>\n",
       "      <th>country</th>\n",
       "      <th>actor_2_name</th>\n",
       "      <th>actor_2_name</th>\n",
       "      <th>actor_3_name</th>\n",
       "    </tr>\n",
       "  </thead>\n",
       "  <tbody>\n",
       "    <tr>\n",
       "      <th>0</th>\n",
       "      <td>Avatar</td>\n",
       "      <td>2009.0</td>\n",
       "      <td>English</td>\n",
       "      <td>Action|Adventure|Fantasy|Sci-Fi</td>\n",
       "      <td>178.0</td>\n",
       "      <td>760505847.0</td>\n",
       "      <td>33000</td>\n",
       "      <td>James Cameron</td>\n",
       "      <td>USA</td>\n",
       "      <td>Joel David Moore</td>\n",
       "      <td>Joel David Moore</td>\n",
       "      <td>Wes Studi</td>\n",
       "    </tr>\n",
       "    <tr>\n",
       "      <th>1</th>\n",
       "      <td>Pirates of the Caribbean: At World's End</td>\n",
       "      <td>2007.0</td>\n",
       "      <td>English</td>\n",
       "      <td>Action|Adventure|Fantasy</td>\n",
       "      <td>169.0</td>\n",
       "      <td>309404152.0</td>\n",
       "      <td>0</td>\n",
       "      <td>Gore Verbinski</td>\n",
       "      <td>USA</td>\n",
       "      <td>Orlando Bloom</td>\n",
       "      <td>Orlando Bloom</td>\n",
       "      <td>Jack Davenport</td>\n",
       "    </tr>\n",
       "    <tr>\n",
       "      <th>2</th>\n",
       "      <td>Spectre</td>\n",
       "      <td>2015.0</td>\n",
       "      <td>English</td>\n",
       "      <td>Action|Adventure|Thriller</td>\n",
       "      <td>148.0</td>\n",
       "      <td>200074175.0</td>\n",
       "      <td>85000</td>\n",
       "      <td>Sam Mendes</td>\n",
       "      <td>UK</td>\n",
       "      <td>Rory Kinnear</td>\n",
       "      <td>Rory Kinnear</td>\n",
       "      <td>Stephanie Sigman</td>\n",
       "    </tr>\n",
       "    <tr>\n",
       "      <th>3</th>\n",
       "      <td>The Dark Knight Rises</td>\n",
       "      <td>2012.0</td>\n",
       "      <td>English</td>\n",
       "      <td>Action|Thriller</td>\n",
       "      <td>164.0</td>\n",
       "      <td>448130642.0</td>\n",
       "      <td>164000</td>\n",
       "      <td>Christopher Nolan</td>\n",
       "      <td>USA</td>\n",
       "      <td>Christian Bale</td>\n",
       "      <td>Christian Bale</td>\n",
       "      <td>Joseph Gordon-Levitt</td>\n",
       "    </tr>\n",
       "    <tr>\n",
       "      <th>5</th>\n",
       "      <td>John Carter</td>\n",
       "      <td>2012.0</td>\n",
       "      <td>English</td>\n",
       "      <td>Action|Adventure|Sci-Fi</td>\n",
       "      <td>132.0</td>\n",
       "      <td>73058679.0</td>\n",
       "      <td>24000</td>\n",
       "      <td>Andrew Stanton</td>\n",
       "      <td>USA</td>\n",
       "      <td>Samantha Morton</td>\n",
       "      <td>Samantha Morton</td>\n",
       "      <td>Polly Walker</td>\n",
       "    </tr>\n",
       "  </tbody>\n",
       "</table>\n",
       "</div>"
      ],
      "text/plain": [
       "                                movie_title  title_year language  \\\n",
       "0                                    Avatar      2009.0  English   \n",
       "1  Pirates of the Caribbean: At World's End      2007.0  English   \n",
       "2                                   Spectre      2015.0  English   \n",
       "3                     The Dark Knight Rises      2012.0  English   \n",
       "5                               John Carter      2012.0  English   \n",
       "\n",
       "                            genres  duration        gross  \\\n",
       "0  Action|Adventure|Fantasy|Sci-Fi     178.0  760505847.0   \n",
       "1         Action|Adventure|Fantasy     169.0  309404152.0   \n",
       "2        Action|Adventure|Thriller     148.0  200074175.0   \n",
       "3                  Action|Thriller     164.0  448130642.0   \n",
       "5          Action|Adventure|Sci-Fi     132.0   73058679.0   \n",
       "\n",
       "   movie_facebook_likes      director_name country      actor_2_name  \\\n",
       "0                 33000      James Cameron     USA  Joel David Moore   \n",
       "1                     0     Gore Verbinski     USA     Orlando Bloom   \n",
       "2                 85000         Sam Mendes      UK      Rory Kinnear   \n",
       "3                164000  Christopher Nolan     USA    Christian Bale   \n",
       "5                 24000     Andrew Stanton     USA   Samantha Morton   \n",
       "\n",
       "       actor_2_name          actor_3_name  \n",
       "0  Joel David Moore             Wes Studi  \n",
       "1     Orlando Bloom        Jack Davenport  \n",
       "2      Rory Kinnear      Stephanie Sigman  \n",
       "3    Christian Bale  Joseph Gordon-Levitt  \n",
       "5   Samantha Morton          Polly Walker  "
      ]
     },
     "execution_count": 26,
     "metadata": {},
     "output_type": "execute_result"
    }
   ],
   "source": [
    "df1.head()"
   ]
  },
  {
   "cell_type": "code",
   "execution_count": 30,
   "metadata": {},
   "outputs": [
    {
     "data": {
      "text/plain": [
       "count    4644.000000\n",
       "mean      107.655798\n",
       "std        23.813111\n",
       "min         7.000000\n",
       "25%        94.000000\n",
       "50%       104.000000\n",
       "75%       118.000000\n",
       "max       334.000000\n",
       "Name: duration, dtype: float64"
      ]
     },
     "execution_count": 30,
     "metadata": {},
     "output_type": "execute_result"
    }
   ],
   "source": [
    "df1['duration'].describe()"
   ]
  },
  {
   "cell_type": "code",
   "execution_count": 29,
   "metadata": {},
   "outputs": [],
   "source": [
    "df1['duration'] = df1['duration'].fillna(df1['duration'].mean())"
   ]
  },
  {
   "cell_type": "code",
   "execution_count": 31,
   "metadata": {},
   "outputs": [],
   "source": [
    "df1 = df1.fillna('Desconocido')"
   ]
  },
  {
   "cell_type": "code",
   "execution_count": 32,
   "metadata": {},
   "outputs": [
    {
     "data": {
      "text/plain": [
       "movie_title             0\n",
       "title_year              0\n",
       "language                0\n",
       "genres                  0\n",
       "duration                0\n",
       "gross                   0\n",
       "movie_facebook_likes    0\n",
       "director_name           0\n",
       "country                 0\n",
       "actor_2_name            0\n",
       "actor_2_name            0\n",
       "actor_3_name            0\n",
       "dtype: int64"
      ]
     },
     "execution_count": 32,
     "metadata": {},
     "output_type": "execute_result"
    }
   ],
   "source": [
    "df1.isna().sum()"
   ]
  },
  {
   "cell_type": "code",
   "execution_count": null,
   "metadata": {},
   "outputs": [],
   "source": []
  }
 ],
 "metadata": {
  "kernelspec": {
   "display_name": ".env",
   "language": "python",
   "name": "python3"
  },
  "language_info": {
   "codemirror_mode": {
    "name": "ipython",
    "version": 3
   },
   "file_extension": ".py",
   "mimetype": "text/x-python",
   "name": "python",
   "nbconvert_exporter": "python",
   "pygments_lexer": "ipython3",
   "version": "3.12.2"
  }
 },
 "nbformat": 4,
 "nbformat_minor": 2
}
