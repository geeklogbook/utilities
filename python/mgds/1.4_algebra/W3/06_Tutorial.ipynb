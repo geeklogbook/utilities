{
 "cells": [
  {
   "cell_type": "markdown",
   "metadata": {},
   "source": [
    "<hr style=\"border:2px solid #FEC60D\"> </hr>\n",
    "<center><h1 style=\"color:#173F8A;\"> Algebra Lineal Aplicada para Ciencia de Datos</h1></center> \n",
    "<center><h1 style=\"color:#173F8A;\"> MDS3120</h1></center>\n",
    "<hr style=\"border:2px solid #FEC60D\"> </hr>\n",
    "<h3 style=\"color:#0176DE;text-align:right;\"> Profesores: &nbsp;Manuel A. Sanchez<br>Carlos Sing-Long<br></h3>\n",
    "\n",
    "<h3 style=\"color:#03122E;text-align:right;\"> \n",
    "    Magister en Ciencia de Datos - MDS <br> \n",
    "    Instituto de Ingenieria Matematica y Computacional - IMC<br>  \n",
    "    Pontificia Universidad Catolica de Chile <br>   \n",
    "</h3>\n",
    "\n",
    "<hr style=\"border:2px solid #03122E\"> </hr>\n",
    "<center><h1 style=\"color:#173F8A;\"> Tutorial 6: Factorizacion QR</h1></center> \n",
    "<hr style=\"border:2px solid #03122E\"> </hr>\n",
    "\n",
    "<!-- Palette colors UC:\n",
    "Primaria: \n",
    "celeste:#0176DE, azul #173F8A, azul oscuro: #03122E, amarillo: #FEC60D, amarillo oscuro: #E3AE00 \n",
    "Secundaria\n",
    "gris oscuro: #707070\n",
    "-->"
   ]
  },
  {
   "cell_type": "code",
   "execution_count": 2,
   "metadata": {},
   "outputs": [
    {
     "data": {
      "text/html": [
       "<style>.output {display: flex;align-items: center;text-align: center;}</style>"
      ],
      "text/plain": [
       "<IPython.core.display.HTML object>"
      ]
     },
     "metadata": {},
     "output_type": "display_data"
    }
   ],
   "source": [
    "import numpy as np\n",
    "import scipy.linalg as lg\n",
    "import matplotlib.pyplot as plt\n",
    "import pandas as pd\n",
    "import sklearn as skl\n",
    "# !pip install threadpoolctl==3.2.0\n",
    "from IPython.display import display, HTML\n",
    "display(HTML(\"\"\"<style>.output {display: flex;align-items: center;text-align: center;}</style>\"\"\"))"
   ]
  },
  {
   "cell_type": "markdown",
   "metadata": {},
   "source": [
    "## Tabla de Contenidos\n",
    "1. [**Tutorial:** Ejemplo: Gram-Schmidt](#Ejemplo:-Gram-Schmidt)\n",
    "2. [**Tutorial:** Ejemplo: Gram-Schmidt comparacion](#Ejemplo:-Gram-Schmidt-comparacion)\n",
    "3. [**Tutorial:** Ejemplo: Algoritmo Householder](#Ejemplo:-Algoritmo-Householder)\n",
    "4. [**Tutorial:** Algoritmo rotaciones de Givens](#Algoritmo-rotaciones-de-Givens) \n"
   ]
  },
  {
   "cell_type": "markdown",
   "metadata": {},
   "source": [
    "## Ejemplo: Gram Schmidt\n",
    "\n",
    "\\begin{align*}\n",
    "A_1 &= \\begin{bmatrix}\n",
    "1/2 & 2 \\\\ 2 & 1 \\end{bmatrix} \\\\\n",
    "A_2 &= \\begin{bmatrix}\n",
    "1 & 1 & 2 \\\\ 1 & 0 & -2 \\\\ -1 & 2 & 3 \\end{bmatrix}\n",
    "\\end{align*}"
   ]
  },
  {
   "cell_type": "code",
   "execution_count": null,
   "metadata": {},
   "outputs": [
    {
     "name": "stdout",
     "output_type": "stream",
     "text": [
      "Q1:\n",
      " [[ 0.24253563  0.9701425 ]\n",
      " [ 0.9701425  -0.24253563]]\n",
      "||Q1^T Q1 - I||:\n",
      " 8.368033164341516e-17 \n",
      "\n",
      "Q2:\n",
      " [[ 0.57735027  0.6172134   0.53452248]\n",
      " [ 0.57735027  0.15430335 -0.80178373]\n",
      " [-0.57735027  0.77151675 -0.26726124]]\n",
      "||Q2^T Q2 - I||:\n",
      " 4.563891378090311e-16 \n",
      "\n",
      "[ 0.57735027  0.57735027 -0.57735027]\n",
      "[0.6172134  0.15430335 0.77151675]\n",
      "[ 0.53452248 -0.80178373 -0.26726124]\n"
     ]
    }
   ],
   "source": [
    "def GramSchmidt_clasico(A):\n",
    "    m = A.shape[0]; n = A.shape[1]\n",
    "    R = np.zeros((n,n))\n",
    "    Q = np.zeros((m,n))\n",
    "    for j in range(0, n):\n",
    "        vj = A[:,j]\n",
    "        for i in range(0,j):\n",
    "            R[i,j] = np.dot(Q[:,i],A[:,j])\n",
    "            vj = vj - R[i,j]*Q[:,i]\n",
    "        R[j,j] = np.linalg.norm(vj)\n",
    "        Q[:,j] = (1.0/R[j,j])*vj\n",
    "    return Q, R\n",
    "\n",
    "A1 = np.array([[0.5 ,2.0],[2.0, 1.0]],dtype=np.float64)\n",
    "A2 = np.array([[1 ,1, 2],[1, 0, -2],[-1,2,3]],dtype=np.float64)\n",
    "\n",
    "Q1, R1 = GramSchmidt_clasico(A1)\n",
    "Q2, R2 = GramSchmidt_clasico(A2)\n",
    "print(\"Q1:\\n\", Q1)\n",
    "print(\"||Q1^T Q1 - I||:\\n\", np.linalg.norm(Q1.T@Q1 - np.eye(2)), \"\\n\")\n",
    "print(\"Q2:\\n\", Q2)\n",
    "print(\"||Q2^T Q2 - I||:\\n\", np.linalg.norm(Q2.T@Q2 - np.eye(3)), \"\\n\")\n",
    "print(1/np.sqrt(3.0)*np.array([1,1,-1]))\n",
    "print(1/np.sqrt(42.0)*np.array([4,1,5]))\n",
    "print(1/np.sqrt(14.0)*np.array([2,-3,-1]))"
   ]
  },
  {
   "cell_type": "markdown",
   "metadata": {},
   "source": [
    "## Ejemplo: Gram Schmidt comparacion\n",
    "\n",
    "Comparacion de algortimos de Gram-Schmidt clasico vs. Gram Schmidt modificado\n",
    "\n",
    "Resolvemos la factorizacion QR de la siguiente matriz\n",
    "\\begin{equation*}\n",
    "A = \n",
    "\\begin{bmatrix}\n",
    "1 & 1 & \\ldots &1 \\\\\n",
    "\\vdots &\\vdots & \\ddots &\\vdots \\\\\n",
    "1 & 1 & \\ldots &1\n",
    "\\end{bmatrix}\n",
    "+\\epsilon\n",
    "I, \\quad A\\in \\mathbb R^{10\\times 10}\n",
    "\\end{equation*}"
   ]
  },
  {
   "cell_type": "code",
   "execution_count": 5,
   "metadata": {},
   "outputs": [],
   "source": [
    "\n",
    "def GramSchmidt_modificado(A):\n",
    "    m = A.shape[0]; n = A.shape[1];\n",
    "    R = np.zeros((n,n));\n",
    "    Q = np.zeros((m,n));\n",
    "    v = np.zeros((m,n));\n",
    "    for i in range(0, n):\n",
    "        v[:,i] = A[:,i];\n",
    "    for i in range(0, n):\n",
    "        R[i,i] = np.linalg.norm(v[:,i]);\n",
    "        Q[:,i] = (1.0/R[i,i])*v[:,i];\n",
    "        for j in range(i,n):\n",
    "            R[i,j] = np.dot(Q[:,i],v[:,j]);\n",
    "            v[:,j]= v[:,j] - R[i,j]*Q[:,i];\n",
    "    return Q, R"
   ]
  },
  {
   "cell_type": "code",
   "execution_count": 7,
   "metadata": {},
   "outputs": [
    {
     "name": "stdout",
     "output_type": "stream",
     "text": [
      "*** Gram-Schmidt clasico.\n",
      "\n",
      "    || A - QR ||2    : 9.019494489765868e-16\n",
      "    || Q.T@Q - I ||2 : 0.3674695563835977\n",
      "    || q1*q2 ||2     : -0.005948312637853892\n",
      "\n",
      "\n",
      " \n",
      "*** Gram-Schmidt modified.\n",
      "\n",
      "    || A - QR ||2    : 1.0295784775289034e-15\n",
      "    || Q.T@Q - I ||2 : 7.830815093173928e-09\n",
      "    || q1*q2 ||2     : -4.440892098500626e-16\n",
      "\n",
      "\n",
      " \n",
      "*** QR numpy.\n",
      "\n",
      "    || A - QR ||2    : 1.85775845048325e-15\n",
      "    || Q.T@Q - I ||2 : 1.3847704561580154e-15\n",
      "    || q1*q2 ||2     : 1.1102230246251565e-16\n"
     ]
    }
   ],
   "source": [
    "ep = 10**(-7)\n",
    "A = np.ones((10,10)) + ep*np.eye((10));\n",
    "#print(A)\n",
    "Q, R = GramSchmidt_clasico(A)\n",
    "print(\"*** Gram-Schmidt clasico.\\n\")\n",
    "print(\"    || A - QR ||2    :\", np.linalg.norm(A -np.dot(Q,R)))\n",
    "print(\"    || Q.T@Q - I ||2 :\", np.linalg.norm(Q.T@ Q-np.eye(10)))\n",
    "print(\"    || q1*q2 ||2     :\", np.dot(Q[:,1], Q[:,2]))\n",
    "\n",
    "Q, R = GramSchmidt_modificado(A)\n",
    "print(\"\\n\\n \")\n",
    "print(\"*** Gram-Schmidt modified.\\n\")\n",
    "print(\"    || A - QR ||2    :\", np.linalg.norm(A -np.dot(Q,R)))\n",
    "print(\"    || Q.T@Q - I ||2 :\", np.linalg.norm(np.dot(Q.T, Q)-np.eye(10)))\n",
    "\n",
    "print(\"    || q1*q2 ||2     :\", np.dot(Q[:,1], Q[:,2]))\n",
    "\n",
    "Q, R = np.linalg.qr(A)\n",
    "\n",
    "print(\"\\n\\n \")\n",
    "print(\"*** QR numpy.\\n\")\n",
    "print(\"    || A - QR ||2    :\", np.linalg.norm(A -np.dot(Q,R)))\n",
    "print(\"    || Q.T@Q - I ||2 :\", np.linalg.norm(np.dot(Q.T, Q)-np.eye(10)))\n",
    "\n",
    "print(\"    || q1*q2 ||2     :\", np.dot(Q[:,1], Q[:,2]))\n"
   ]
  },
  {
   "cell_type": "markdown",
   "metadata": {},
   "source": [
    "## Ejemplo: Algoritmo Householder\n"
   ]
  },
  {
   "cell_type": "code",
   "execution_count": 9,
   "metadata": {},
   "outputs": [
    {
     "name": "stderr",
     "output_type": "stream",
     "text": [
      "<>:2: SyntaxWarning: invalid escape sequence '\\i'\n",
      "<>:2: SyntaxWarning: invalid escape sequence '\\i'\n",
      "C:\\Users\\h\\AppData\\Local\\Temp\\ipykernel_10792\\296894522.py:2: SyntaxWarning: invalid escape sequence '\\i'\n",
      "  '''\n"
     ]
    }
   ],
   "source": [
    "def house(x):\n",
    "    '''\n",
    "    Compute Householder vector\n",
    "    Input: x \\in \\mathbb R^{m}\n",
    "    Output: Householder vector v, with v[0]=1, and beta such that\n",
    "            P = I-beta * v * v.T es orthogonal and Px = \\|x\\|*e_1\n",
    "    '''\n",
    "    m = x.size\n",
    "    if m > 1:\n",
    "        sigma = x[1:].dot(x[1:])\n",
    "        v  = x.copy(); v[0] = 1.0\n",
    "        if sigma == 0:\n",
    "            beta = 0\n",
    "        else:\n",
    "            mu = np.sqrt(x[0]*x[0]+sigma)\n",
    "            if x[0]<0:\n",
    "                v[0] = x[0] - mu\n",
    "            else:\n",
    "                v[0] = -sigma/(x[0]+mu)\n",
    "            beta = 2.0 * v[0]*v[0]/(sigma+v[0]**2)\n",
    "            v = v / v[0]\n",
    "        return v, beta\n",
    "    else:\n",
    "        return np.array([0.0]),0.0\n",
    "\n",
    "def applyP(v, beta, x):\n",
    "    # compute Px = (I - beta v v^T )x\n",
    "    return x - beta * v.dot(x) * v\n",
    "\n",
    "def Householder_qr(Ain):\n",
    "    ''' \n",
    "    Compute QR decomposition using Householder\n",
    "    update A in place with QR ... R is upper triangular (at and above diagonal)\n",
    "    below the diagonal, A holds the \"essential\" parts of the Householder vectors.\n",
    "    the essential part gets shorter because they are only applied to the remaining\n",
    "    bottom right square of A\n",
    "    Input : A, m\\times n matrix\n",
    "    Output: overwrite A\n",
    "    '''\n",
    "    A = Ain.copy()\n",
    "    m,n = A.shape\n",
    "    betas = np.empty(n)\n",
    "    for j in range(n):\n",
    "        # usando funcion house\n",
    "        v, betas[j] = house(A[j:, j])\n",
    "        A[j:,j:] -= betas[j] * np.outer(v, v.dot(A[j:,j:]))\n",
    "        if j < m:\n",
    "            A[j+1:,j] = v[1:m-j+1]\n",
    "    \n",
    "    R = np.triu(A)\n",
    "    Q = fullQ_house(A, betas)\n",
    "    return Q, R\n",
    "\n",
    "def fullQ_house(A, betas):\n",
    "    '''\n",
    "    Take the \"packed\" Householder vectors stored in A's lower triangle,\n",
    "    along with the respective \\beta s and expand to a full Q matrix \n",
    "        (note, R still lives in A's upper triangle)\n",
    "    '''\n",
    "    m,n = A.shape\n",
    "    Q = np.eye(n)\n",
    "    for j in reversed(range(n)):\n",
    "        v = A[j:,j].copy()\n",
    "        v[0] = 1.0\n",
    "        Q[j:,j:] = (np.eye(n-j) - betas[j] * np.outer(v,v)).dot(Q[j:,j:])\n",
    "    return Q"
   ]
  },
  {
   "cell_type": "code",
   "execution_count": 10,
   "metadata": {},
   "outputs": [],
   "source": [
    "def compare(M):\n",
    "    # compare three QR decomposition: 1) Gram-Schmidt clasico, 2) Gram-Schmidt modificado, 3) Householder\n",
    "    \n",
    "    Q, R = GramSchmidt_clasico(M);\n",
    "    \n",
    "    errorQRLinf = np.linalg.norm(np.matmul(Q,R) - M, np.inf)\n",
    "    errororthLinf = np.linalg.norm(np.matmul(Q.T,Q) - np.eye(Q.shape[0]), np.inf)\n",
    "    \n",
    "    print(\"*** Gram-Schmidt clasico.\\n\")\n",
    "    print(\"    ||Q*R-M ||_inf   : \",errorQRLinf)\n",
    "    print(\"    ||Q'*Q - I||_inf : \", errororthLinf)\n",
    "    \n",
    "    \n",
    "    Q, R = GramSchmidt_modificado(M);\n",
    "    \n",
    "    errorQRLinf = np.linalg.norm(np.matmul(Q,R) - M, np.inf)\n",
    "    errororthLinf = np.linalg.norm(np.matmul(Q.T,Q) - np.eye(Q.shape[0]), np.inf)\n",
    "    \n",
    "    print(\"\\n\\n \")\n",
    "    print(\"*** Gram-Schmidt modified.\\n\")\n",
    "    print(\"    ||Q*R-M ||_inf   : \",errorQRLinf)\n",
    "    print(\"    ||Q'*Q - I||_inf : \", errororthLinf)\n",
    "\n",
    "    Q, R = Householder_qr(M)\n",
    "    errorQRLinf = np.linalg.norm(np.matmul(Q,R) - M, np.inf)\n",
    "    errororthLinf = np.linalg.norm(np.matmul(Q.T,Q) - np.eye(Q.shape[0]), np.inf)\n",
    "    \n",
    "    print(\"\\n\\n\")\n",
    "    print(\"*** Householder.\\n\")\n",
    "    print(\"    ||Q*R-M ||_inf   : \",errorQRLinf)\n",
    "    print(\"    ||Q'*Q - I||_inf : \", errororthLinf)\n",
    "    \n",
    "\n",
    "    Q, R = np.linalg.qr(M)\n",
    "    errorQRLinf = np.linalg.norm(np.matmul(Q,R) - M, np.inf)\n",
    "    errororthLinf = np.linalg.norm(np.matmul(Q.T,Q) - np.eye(Q.shape[0]), np.inf)\n",
    "    \n",
    "    print(\"\\n\\n\")\n",
    "    print(\"*** Householder numpy qr.\\n\")\n",
    "    print(\"    ||Q*R-M ||_inf   : \",errorQRLinf)\n",
    "    print(\"    ||Q'*Q - I||_inf : \", errororthLinf)\n",
    "    pass"
   ]
  },
  {
   "cell_type": "code",
   "execution_count": 11,
   "metadata": {},
   "outputs": [
    {
     "name": "stdout",
     "output_type": "stream",
     "text": [
      "*** Gram-Schmidt clasico.\n",
      "\n",
      "    ||Q*R-M ||_inf   :  2.220446049250313e-16\n",
      "    ||Q'*Q - I||_inf :  8.9898295762051\n",
      "\n",
      "\n",
      " \n",
      "*** Gram-Schmidt modified.\n",
      "\n",
      "    ||Q*R-M ||_inf   :  3.677613769070831e-16\n",
      "    ||Q'*Q - I||_inf :  1.686092924942988\n",
      "\n",
      "\n",
      "\n",
      "*** Householder.\n",
      "\n",
      "    ||Q*R-M ||_inf   :  5.134781488891349e-16\n",
      "    ||Q'*Q - I||_inf :  2.1531783556771636e-15\n",
      "\n",
      "\n",
      "\n",
      "*** Householder numpy qr.\n",
      "\n",
      "    ||Q*R-M ||_inf   :  2.525757381022231e-15\n",
      "    ||Q'*Q - I||_inf :  2.007928590585528e-15\n"
     ]
    }
   ],
   "source": [
    "from scipy.linalg import hilbert\n",
    "H = hilbert(16)\n",
    "#print(H)\n",
    "compare(H)"
   ]
  },
  {
   "cell_type": "markdown",
   "metadata": {},
   "source": [
    "## Algoritmo rotaciones de Givens"
   ]
  },
  {
   "cell_type": "code",
   "execution_count": 12,
   "metadata": {},
   "outputs": [],
   "source": [
    "def Givens(a,b):\n",
    "    if b == 0:\n",
    "        c = 1; s = 0\n",
    "        return c, s\n",
    "    else:\n",
    "        if abs(b) > abs(a):\n",
    "            tau = -a/b; s = 1.0/np.sqrt(1.0+tau*tau); c = s*tau\n",
    "            return c, s\n",
    "        else:\n",
    "            tau = -b/a; c = 1.0/np.sqrt(1.0+tau*tau); s = c*tau\n",
    "            return c, s\n",
    "\n",
    "def computeGx(i,k,x):\n",
    "    y = x.copy()\n",
    "    (c, s) = Givens(x[i],x[k])  \n",
    "    print(c,s)\n",
    "    y[i] = c*x[i] - s*x[k]\n",
    "    y[k] = s*x[i] + c*x[k]\n",
    "    return y\n",
    "\n",
    "def Givens_qr(Ain):\n",
    "    '''\n",
    "    Compute QR decomposition of A m\\times n\n",
    "    Input :\n",
    "    Output:\n",
    "    '''\n",
    "    A = Ain.copy()\n",
    "    m, n = A.shape\n",
    "    for j in range(n):\n",
    "        for i in reversed(range(j+1,m)):\n",
    "            (c, s) = Givens(A[i-1,j],A[i,j])  \n",
    "            A[[i-1,i],j:] = np.array([[c,-s],[s,c]])@A[[i-1,i],j:]\n",
    "            plt.spy(A,precision=1e-14)\n",
    "            plt.show()\n",
    "    return A\n",
    "    \n",
    "    "
   ]
  },
  {
   "cell_type": "code",
   "execution_count": 13,
   "metadata": {},
   "outputs": [
    {
     "name": "stdout",
     "output_type": "stream",
     "text": [
      "0.4472135954999579 -0.8944271909999159\n",
      "-0.4472135954999579 0.8944271909999159\n"
     ]
    },
    {
     "data": {
      "image/png": "[encoded data removed]",
      "text/plain": [
       "<Figure size 640x480 with 1 Axes>"
      ]
     },
     "metadata": {},
     "output_type": "display_data"
    },
    {
     "data": {
      "image/png": "[encoded data removed]",
      "text/plain": [
       "<Figure size 640x480 with 1 Axes>"
      ]
     },
     "metadata": {},
     "output_type": "display_data"
    },
    {
     "data": {
      "image/png": "[encoded data removed]",
      "text/plain": [
       "<Figure size 640x480 with 1 Axes>"
      ]
     },
     "metadata": {},
     "output_type": "display_data"
    },
    {
     "data": {
      "image/png": "[encoded data removed]",
      "text/plain": [
       "<Figure size 640x480 with 1 Axes>"
      ]
     },
     "metadata": {},
     "output_type": "display_data"
    },
    {
     "data": {
      "image/png": "[encoded data removed]",
      "text/plain": [
       "<Figure size 640x480 with 1 Axes>"
      ]
     },
     "metadata": {},
     "output_type": "display_data"
    },
    {
     "data": {
      "image/png": "[encoded data removed]",
      "text/plain": [
       "<Figure size 640x480 with 1 Axes>"
      ]
     },
     "metadata": {},
     "output_type": "display_data"
    },
    {
     "data": {
      "image/png": "[encoded data removed]",
      "text/plain": [
       "<Figure size 640x480 with 1 Axes>"
      ]
     },
     "metadata": {},
     "output_type": "display_data"
    },
    {
     "data": {
      "image/png": "[encoded data removed]",
      "text/plain": [
       "<Figure size 640x480 with 1 Axes>"
      ]
     },
     "metadata": {},
     "output_type": "display_data"
    },
    {
     "data": {
      "image/png": "[encoded data removed]",
      "text/plain": [
       "<Figure size 640x480 with 1 Axes>"
      ]
     },
     "metadata": {},
     "output_type": "display_data"
    },
    {
     "data": {
      "image/png": "[encoded data removed]",
      "text/plain": [
       "<Figure size 640x480 with 1 Axes>"
      ]
     },
     "metadata": {},
     "output_type": "display_data"
    }
   ],
   "source": [
    "## ejemplo\n",
    "np.set_printoptions(precision=6)\n",
    "x = np.array([1.0,2.0,3.0,4.0])\n",
    "print(1.0/np.sqrt(5.0), -2.0/np.sqrt(5.0))\n",
    "computeGx(1,3,x)\n",
    "A = hilbert(5)\n",
    "newA = Givens_qr(A)\n"
   ]
  },
  {
   "cell_type": "code",
   "execution_count": null,
   "metadata": {},
   "outputs": [],
   "source": []
  }
 ],
 "metadata": {
  "kernelspec": {
   "display_name": ".venv",
   "language": "python",
   "name": "python3"
  },
  "language_info": {
   "codemirror_mode": {
    "name": "ipython",
    "version": 3
   },
   "file_extension": ".py",
   "mimetype": "text/x-python",
   "name": "python",
   "nbconvert_exporter": "python",
   "pygments_lexer": "ipython3",
   "version": "3.12.2"
  },
  "varInspector": {
   "cols": {
    "lenName": 16,
    "lenType": 16,
    "lenVar": 40
   },
   "kernels_config": {
    "python": {
     "delete_cmd_postfix": "",
     "delete_cmd_prefix": "del ",
     "library": "var_list.py",
     "varRefreshCmd": "print(var_dic_list())"
    },
    "r": {
     "delete_cmd_postfix": ") ",
     "delete_cmd_prefix": "rm(",
     "library": "var_list.r",
     "varRefreshCmd": "cat(var_dic_list()) "
    }
   },
   "types_to_exclude": [
    "module",
    "function",
    "builtin_function_or_method",
    "instance",
    "_Feature"
   ],
   "window_display": false
  }
 },
 "nbformat": 4,
 "nbformat_minor": 5
}
