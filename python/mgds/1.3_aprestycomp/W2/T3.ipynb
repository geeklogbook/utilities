{
 "cells": [
  {
   "cell_type": "code",
   "execution_count": 1,
   "metadata": {},
   "outputs": [],
   "source": [
    "import pandas as pd\n",
    "import numpy as np\n",
    "from sklearn.linear_model import LinearRegression\n",
    "from sklearn.feature_selection import f_regression"
   ]
  },
  {
   "cell_type": "markdown",
   "metadata": {},
   "source": [
    "Selecccion de variables en el modelado de la regresion lineal"
   ]
  },
  {
   "cell_type": "code",
   "execution_count": 2,
   "metadata": {},
   "outputs": [],
   "source": [
    "dataset = pd.read_csv ('..\\\\data\\\\50_Startups.csv')\n",
    "X = dataset.iloc[:, 0:3].values\n",
    "y = dataset.iloc[:, -1].values\n",
    "X_back = X"
   ]
  },
  {
   "cell_type": "code",
   "execution_count": 3,
   "metadata": {},
   "outputs": [],
   "source": [
    "num_vars = X_back.shape[1]\n",
    "for i in range(num_vars, 0, -1):\n",
    "    model = LinearRegression()\n",
    "    model.fit(X_back[:, :i], y)\n",
    "\n",
    "    p_values = f_regression(X_back, y)[1]\n",
    "    max_p_value = np.max(p_values)\n",
    "\n",
    "    if max_p_value > 0.05:\n",
    "        var_to_remove = np.argmax(p_values)\n",
    "        X_back = np.delete(X_back, var_to_remove,1)"
   ]
  },
  {
   "cell_type": "code",
   "execution_count": null,
   "metadata": {},
   "outputs": [],
   "source": [
    "print(X_back)"
   ]
  },
  {
   "cell_type": "code",
   "execution_count": null,
   "metadata": {},
   "outputs": [],
   "source": [
    "from sklearn.linear_model import Lasso\n",
    "\n",
    "model = Lasso(alpha=0.1)\n",
    "\n",
    "model.fit(X, y)\n",
    "\n",
    "selected_variables = np.where(model.coef_ != 0)[0]\n",
    "\n",
    "X_lasso = X[:, selected_variables]\n",
    "\n",
    "print(X_lasso)"
   ]
  },
  {
   "cell_type": "markdown",
   "metadata": {},
   "source": [
    "* Seleccion de variables: \n",
    "    * eliminacion hacia atras\n",
    "    * eliminacion hacia adelante\n",
    "    * tecnica de lasso (funcion de penalizacion de L1)\n",
    "* En conjuntos de datos con un gran numreo de predictores, LASSO puede ser menos eficiente"
   ]
  },
  {
   "cell_type": "markdown",
   "metadata": {},
   "source": []
  }
 ],
 "metadata": {
  "kernelspec": {
   "display_name": ".env",
   "language": "python",
   "name": "python3"
  },
  "language_info": {
   "codemirror_mode": {
    "name": "ipython",
    "version": 3
   },
   "file_extension": ".py",
   "mimetype": "text/x-python",
   "name": "python",
   "nbconvert_exporter": "python",
   "pygments_lexer": "ipython3",
   "version": "3.12.2"
  }
 },
 "nbformat": 4,
 "nbformat_minor": 2
}
