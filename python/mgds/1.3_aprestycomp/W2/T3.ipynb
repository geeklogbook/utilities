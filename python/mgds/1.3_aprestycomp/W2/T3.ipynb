{
 "cells": [
  {
   "cell_type": "code",
   "execution_count": 1,
   "metadata": {},
   "outputs": [],
   "source": [
    "import pandas as pd\n",
    "import numpy as np\n",
    "from sklearn.linear_model import LinearRegression\n",
    "from sklearn.feature_selection import f_regression"
   ]
  },
  {
   "cell_type": "markdown",
   "metadata": {},
   "source": [
    "Selecccion de variables en el modelado de la regresion lineal"
   ]
  },
  {
   "cell_type": "code",
   "execution_count": 2,
   "metadata": {},
   "outputs": [],
   "source": [
    "dataset = pd.read_csv ('..\\\\data\\\\50_Startups.csv')\n",
    "X = dataset.iloc[:, 0:3].values\n",
    "y = dataset.iloc[:, -1].values\n",
    "X_back = X"
   ]
  },
  {
   "cell_type": "code",
   "execution_count": 3,
   "metadata": {},
   "outputs": [],
   "source": [
    "num_vars = X_back.shape[1]\n",
    "for i in range(num_vars, 0, -1):\n",
    "    model = LinearRegression()\n",
    "    model.fit(X_back[:, :i], y)\n",
    "\n",
    "    p_values = f_regression(X_back, y)[1]\n",
    "    max_p_value = np.max(p_values)\n",
    "\n",
    "    if max_p_value > 0.05:\n",
    "        var_to_remove = np.argmax(p_values)\n",
    "        X_back = np.delete(X_back, var_to_remove,1)"
   ]
  },
  {
   "cell_type": "code",
   "execution_count": 4,
   "metadata": {},
   "outputs": [
    {
     "name": "stdout",
     "output_type": "stream",
     "text": [
      "[[165349.2  471784.1 ]\n",
      " [162597.7  443898.53]\n",
      " [153441.51 407934.54]\n",
      " [144372.41 383199.62]\n",
      " [142107.34 366168.42]\n",
      " [131876.9  362861.36]\n",
      " [134615.46 127716.82]\n",
      " [130298.13 323876.68]\n",
      " [120542.52 311613.29]\n",
      " [123334.88 304981.62]\n",
      " [101913.08 229160.95]\n",
      " [100671.96 249744.55]\n",
      " [ 93863.75 249839.44]\n",
      " [ 91992.39 252664.93]\n",
      " [119943.24 256512.92]\n",
      " [114523.61 261776.23]\n",
      " [ 78013.11 264346.06]\n",
      " [ 94657.16 282574.31]\n",
      " [ 91749.16 294919.57]\n",
      " [ 86419.7       0.  ]\n",
      " [ 76253.86 298664.47]\n",
      " [ 78389.47 299737.29]\n",
      " [ 73994.56 303319.26]\n",
      " [ 67532.53 304768.73]\n",
      " [ 77044.01 140574.81]\n",
      " [ 64664.71 137962.62]\n",
      " [ 75328.87 134050.07]\n",
      " [ 72107.6  353183.81]\n",
      " [ 66051.52 118148.2 ]\n",
      " [ 65605.48 107138.38]\n",
      " [ 61994.48  91131.24]\n",
      " [ 61136.38  88218.23]\n",
      " [ 63408.86  46085.25]\n",
      " [ 55493.95 214634.81]\n",
      " [ 46426.07 210797.67]\n",
      " [ 46014.02 205517.64]\n",
      " [ 28663.76 201126.82]\n",
      " [ 44069.95 197029.42]\n",
      " [ 20229.59 185265.1 ]\n",
      " [ 38558.51 174999.3 ]\n",
      " [ 28754.33 172795.67]\n",
      " [ 27892.92 164470.71]\n",
      " [ 23640.93 148001.11]\n",
      " [ 15505.73  35534.17]\n",
      " [ 22177.74  28334.72]\n",
      " [  1000.23   1903.93]\n",
      " [  1315.46 297114.46]\n",
      " [     0.        0.  ]\n",
      " [   542.05      0.  ]\n",
      " [     0.    45173.06]]\n"
     ]
    }
   ],
   "source": [
    "print(X_back)"
   ]
  },
  {
   "cell_type": "code",
   "execution_count": 5,
   "metadata": {},
   "outputs": [
    {
     "name": "stdout",
     "output_type": "stream",
     "text": [
      "[[165349.2  136897.8  471784.1 ]\n",
      " [162597.7  151377.59 443898.53]\n",
      " [153441.51 101145.55 407934.54]\n",
      " [144372.41 118671.85 383199.62]\n",
      " [142107.34  91391.77 366168.42]\n",
      " [131876.9   99814.71 362861.36]\n",
      " [134615.46 147198.87 127716.82]\n",
      " [130298.13 145530.06 323876.68]\n",
      " [120542.52 148718.95 311613.29]\n",
      " [123334.88 108679.17 304981.62]\n",
      " [101913.08 110594.11 229160.95]\n",
      " [100671.96  91790.61 249744.55]\n",
      " [ 93863.75 127320.38 249839.44]\n",
      " [ 91992.39 135495.07 252664.93]\n",
      " [119943.24 156547.42 256512.92]\n",
      " [114523.61 122616.84 261776.23]\n",
      " [ 78013.11 121597.55 264346.06]\n",
      " [ 94657.16 145077.58 282574.31]\n",
      " [ 91749.16 114175.79 294919.57]\n",
      " [ 86419.7  153514.11      0.  ]\n",
      " [ 76253.86 113867.3  298664.47]\n",
      " [ 78389.47 153773.43 299737.29]\n",
      " [ 73994.56 122782.75 303319.26]\n",
      " [ 67532.53 105751.03 304768.73]\n",
      " [ 77044.01  99281.34 140574.81]\n",
      " [ 64664.71 139553.16 137962.62]\n",
      " [ 75328.87 144135.98 134050.07]\n",
      " [ 72107.6  127864.55 353183.81]\n",
      " [ 66051.52 182645.56 118148.2 ]\n",
      " [ 65605.48 153032.06 107138.38]\n",
      " [ 61994.48 115641.28  91131.24]\n",
      " [ 61136.38 152701.92  88218.23]\n",
      " [ 63408.86 129219.61  46085.25]\n",
      " [ 55493.95 103057.49 214634.81]\n",
      " [ 46426.07 157693.92 210797.67]\n",
      " [ 46014.02  85047.44 205517.64]\n",
      " [ 28663.76 127056.21 201126.82]\n",
      " [ 44069.95  51283.14 197029.42]\n",
      " [ 20229.59  65947.93 185265.1 ]\n",
      " [ 38558.51  82982.09 174999.3 ]\n",
      " [ 28754.33 118546.05 172795.67]\n",
      " [ 27892.92  84710.77 164470.71]\n",
      " [ 23640.93  96189.63 148001.11]\n",
      " [ 15505.73 127382.3   35534.17]\n",
      " [ 22177.74 154806.14  28334.72]\n",
      " [  1000.23 124153.04   1903.93]\n",
      " [  1315.46 115816.21 297114.46]\n",
      " [     0.   135426.92      0.  ]\n",
      " [   542.05  51743.15      0.  ]\n",
      " [     0.   116983.8   45173.06]]\n"
     ]
    }
   ],
   "source": [
    "from sklearn.linear_model import Lasso\n",
    "\n",
    "model = Lasso(alpha=0.1)\n",
    "\n",
    "model.fit(X, y)\n",
    "\n",
    "selected_variables = np.where(model.coef_ != 0)[0]\n",
    "\n",
    "X_lasso = X[:, selected_variables]\n",
    "\n",
    "print(X_lasso)"
   ]
  },
  {
   "cell_type": "markdown",
   "metadata": {},
   "source": [
    "* Seleccion de variables: \n",
    "    * eliminacion hacia atras\n",
    "    * eliminacion hacia adelante\n",
    "    * tecnica de lasso (funcion de penalizacion de L1)\n",
    "* En conjuntos de datos con un gran numreo de predictores, LASSO puede ser menos eficiente"
   ]
  },
  {
   "cell_type": "markdown",
   "metadata": {},
   "source": []
  }
 ],
 "metadata": {
  "kernelspec": {
   "display_name": ".env",
   "language": "python",
   "name": "python3"
  },
  "language_info": {
   "codemirror_mode": {
    "name": "ipython",
    "version": 3
   },
   "file_extension": ".py",
   "mimetype": "text/x-python",
   "name": "python",
   "nbconvert_exporter": "python",
   "pygments_lexer": "ipython3",
   "version": "3.12.2"
  }
 },
 "nbformat": 4,
 "nbformat_minor": 2
}
