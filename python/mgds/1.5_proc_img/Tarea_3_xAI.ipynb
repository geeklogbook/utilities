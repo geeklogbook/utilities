{
 "cells": [
  {
   "cell_type": "code",
   "execution_count": 7,
   "metadata": {},
   "outputs": [],
   "source": [
    "import lime\n",
    "from lime.lime_tabular import LimeTabularExplainer\n",
    "import numpy as np\n",
    "import pandas as pd"
   ]
  },
  {
   "cell_type": "markdown",
   "metadata": {},
   "source": [
    "<center><h1> MCD - Ciencia de Datos Responsable </h1><center>\n",
    "<center><h2> Tarea 3: Modelos interpretables y xAI <h2><center>    "
   ]
  },
  {
   "cell_type": "markdown",
   "metadata": {},
   "source": [
    "    \n",
    "## Instrucciones:\n",
    "\n",
    "- La siguiente tarea es **individual**. \n",
    "- La calificación de esta tarea se hará de forma **manual**, es decir, esta tarea no cuenta con test cases automáticos. Es por esto que al hacer entrega de su tarea podrá ver una calificación de \"0%\" y \"Aprobado\", independiente del contenido de su notebook.\n",
    "- Cuenta con intentos ilimitados para el envío de su tarea.\n",
    "- Ante cualquier duda o consulta pueden comunicarse a través de Foros o Salesforce. "
   ]
  },
  {
   "cell_type": "code",
   "execution_count": 8,
   "metadata": {},
   "outputs": [
    {
     "data": {
      "text/html": [
       "<div>\n",
       "<style scoped>\n",
       "    .dataframe tbody tr th:only-of-type {\n",
       "        vertical-align: middle;\n",
       "    }\n",
       "\n",
       "    .dataframe tbody tr th {\n",
       "        vertical-align: top;\n",
       "    }\n",
       "\n",
       "    .dataframe thead th {\n",
       "        text-align: right;\n",
       "    }\n",
       "</style>\n",
       "<table border=\"1\" class=\"dataframe\">\n",
       "  <thead>\n",
       "    <tr style=\"text-align: right;\">\n",
       "      <th></th>\n",
       "      <th>age</th>\n",
       "      <th>workclass</th>\n",
       "      <th>education</th>\n",
       "      <th>education-num</th>\n",
       "      <th>marital-status</th>\n",
       "      <th>occupation</th>\n",
       "      <th>relationship</th>\n",
       "      <th>race</th>\n",
       "      <th>sex</th>\n",
       "      <th>capital-gain</th>\n",
       "      <th>capital-loss</th>\n",
       "      <th>hours-per-week</th>\n",
       "      <th>native-country</th>\n",
       "      <th>income</th>\n",
       "    </tr>\n",
       "  </thead>\n",
       "  <tbody>\n",
       "    <tr>\n",
       "      <th>0</th>\n",
       "      <td>25.0</td>\n",
       "      <td>Private</td>\n",
       "      <td>11th</td>\n",
       "      <td>7.0</td>\n",
       "      <td>Never-married</td>\n",
       "      <td>Machine-op-inspct</td>\n",
       "      <td>Own-child</td>\n",
       "      <td>Black</td>\n",
       "      <td>Male</td>\n",
       "      <td>0.0</td>\n",
       "      <td>0.0</td>\n",
       "      <td>40.0</td>\n",
       "      <td>United-States</td>\n",
       "      <td>&lt;=50K</td>\n",
       "    </tr>\n",
       "    <tr>\n",
       "      <th>1</th>\n",
       "      <td>38.0</td>\n",
       "      <td>Private</td>\n",
       "      <td>HS-grad</td>\n",
       "      <td>9.0</td>\n",
       "      <td>Married-civ-spouse</td>\n",
       "      <td>Farming-fishing</td>\n",
       "      <td>Husband</td>\n",
       "      <td>White</td>\n",
       "      <td>Male</td>\n",
       "      <td>0.0</td>\n",
       "      <td>0.0</td>\n",
       "      <td>50.0</td>\n",
       "      <td>United-States</td>\n",
       "      <td>&lt;=50K</td>\n",
       "    </tr>\n",
       "    <tr>\n",
       "      <th>2</th>\n",
       "      <td>28.0</td>\n",
       "      <td>Local-gov</td>\n",
       "      <td>Assoc-acdm</td>\n",
       "      <td>12.0</td>\n",
       "      <td>Married-civ-spouse</td>\n",
       "      <td>Protective-serv</td>\n",
       "      <td>Husband</td>\n",
       "      <td>White</td>\n",
       "      <td>Male</td>\n",
       "      <td>0.0</td>\n",
       "      <td>0.0</td>\n",
       "      <td>40.0</td>\n",
       "      <td>United-States</td>\n",
       "      <td>&gt;50K</td>\n",
       "    </tr>\n",
       "    <tr>\n",
       "      <th>3</th>\n",
       "      <td>44.0</td>\n",
       "      <td>Private</td>\n",
       "      <td>Some-college</td>\n",
       "      <td>10.0</td>\n",
       "      <td>Married-civ-spouse</td>\n",
       "      <td>Machine-op-inspct</td>\n",
       "      <td>Husband</td>\n",
       "      <td>Black</td>\n",
       "      <td>Male</td>\n",
       "      <td>7688.0</td>\n",
       "      <td>0.0</td>\n",
       "      <td>40.0</td>\n",
       "      <td>United-States</td>\n",
       "      <td>&gt;50K</td>\n",
       "    </tr>\n",
       "    <tr>\n",
       "      <th>4</th>\n",
       "      <td>34.0</td>\n",
       "      <td>Private</td>\n",
       "      <td>10th</td>\n",
       "      <td>6.0</td>\n",
       "      <td>Never-married</td>\n",
       "      <td>Other-service</td>\n",
       "      <td>Not-in-family</td>\n",
       "      <td>White</td>\n",
       "      <td>Male</td>\n",
       "      <td>0.0</td>\n",
       "      <td>0.0</td>\n",
       "      <td>30.0</td>\n",
       "      <td>United-States</td>\n",
       "      <td>&lt;=50K</td>\n",
       "    </tr>\n",
       "  </tbody>\n",
       "</table>\n",
       "</div>"
      ],
      "text/plain": [
       "    age  workclass     education  education-num      marital-status  \\\n",
       "0  25.0    Private          11th            7.0       Never-married   \n",
       "1  38.0    Private       HS-grad            9.0  Married-civ-spouse   \n",
       "2  28.0  Local-gov    Assoc-acdm           12.0  Married-civ-spouse   \n",
       "3  44.0    Private  Some-college           10.0  Married-civ-spouse   \n",
       "4  34.0    Private          10th            6.0       Never-married   \n",
       "\n",
       "          occupation   relationship   race   sex  capital-gain  capital-loss  \\\n",
       "0  Machine-op-inspct      Own-child  Black  Male           0.0           0.0   \n",
       "1    Farming-fishing        Husband  White  Male           0.0           0.0   \n",
       "2    Protective-serv        Husband  White  Male           0.0           0.0   \n",
       "3  Machine-op-inspct        Husband  Black  Male        7688.0           0.0   \n",
       "4      Other-service  Not-in-family  White  Male           0.0           0.0   \n",
       "\n",
       "   hours-per-week native-country income  \n",
       "0            40.0  United-States  <=50K  \n",
       "1            50.0  United-States  <=50K  \n",
       "2            40.0  United-States   >50K  \n",
       "3            40.0  United-States   >50K  \n",
       "4            30.0  United-States  <=50K  "
      ]
     },
     "execution_count": 8,
     "metadata": {},
     "output_type": "execute_result"
    }
   ],
   "source": [
    "df = pd.read_csv('adult_data.csv')\n",
    "df.head()"
   ]
  },
  {
   "cell_type": "markdown",
   "metadata": {},
   "source": [
    "### Pregunta 1: Preprocese los datos de Census Income Dataset. Luego, entrene un árbol de decisión y evalúe este modelo desde la perspectiva de la interpretabilidad global. Utilice tanto tree_plot como un gráfico de la importancia de las features (3 ptos). \n",
    "\n",
    "**Instrucciones adicionales:** \n",
    "\n",
    "- Haga uso de los métodos que le provee el mismo modelo (inherentemente interpretable).\n",
    "\n",
    "### Pregunta 2: Entrene otro modelo (que no sea interpretable) y realice el procedimiento necesario para obtener explicabilidad local de este modelo utilizando LIME. Obtenga las explicaciones para las predicciones de 3 registros de los datos de entrenamiento. Comente sus resultados (3 ptos).\n",
    "\n",
    "**Instrucciones adicionales:** \n",
    "\n",
    "- Recuerde el uso de LabelEncoder en el pre-procesamiento de sus datos.\n"
   ]
  },
  {
   "cell_type": "markdown",
   "metadata": {},
   "source": [
    "# Pregunta 1"
   ]
  },
  {
   "cell_type": "code",
   "execution_count": 10,
   "metadata": {},
   "outputs": [],
   "source": [
    "from sklearn import tree\n",
    "from sklearn.preprocessing import LabelEncoder\n",
    "from sklearn.model_selection import train_test_split\n",
    "from sklearn.metrics import f1_score\n",
    "from sklearn.tree import DecisionTreeClassifier\n",
    "\n",
    "from matplotlib import pyplot as plt\n",
    "%matplotlib inline\n",
    "import seaborn as sns"
   ]
  },
  {
   "cell_type": "code",
   "execution_count": 11,
   "metadata": {},
   "outputs": [
    {
     "name": "stdout",
     "output_type": "stream",
     "text": [
      "<class 'pandas.core.frame.DataFrame'>\n",
      "RangeIndex: 45222 entries, 0 to 45221\n",
      "Data columns (total 14 columns):\n",
      " #   Column          Non-Null Count  Dtype  \n",
      "---  ------          --------------  -----  \n",
      " 0   age             45222 non-null  float64\n",
      " 1   workclass       45222 non-null  object \n",
      " 2   education       45222 non-null  object \n",
      " 3   education-num   45222 non-null  float64\n",
      " 4   marital-status  45222 non-null  object \n",
      " 5   occupation      45222 non-null  object \n",
      " 6   relationship    45222 non-null  object \n",
      " 7   race            45222 non-null  object \n",
      " 8   sex             45222 non-null  object \n",
      " 9   capital-gain    45222 non-null  float64\n",
      " 10  capital-loss    45222 non-null  float64\n",
      " 11  hours-per-week  45222 non-null  float64\n",
      " 12  native-country  45222 non-null  object \n",
      " 13  income          45222 non-null  object \n",
      "dtypes: float64(5), object(9)\n",
      "memory usage: 4.8+ MB\n"
     ]
    }
   ],
   "source": [
    "df.info()"
   ]
  },
  {
   "cell_type": "code",
   "execution_count": 14,
   "metadata": {},
   "outputs": [
    {
     "name": "stdout",
     "output_type": "stream",
     "text": [
      "age \n",
      "Card:\t74\n",
      "Type:\t<class 'numpy.float64'>\n",
      "Unique values:\n",
      "[25. 38. 28. 44. 34. 63. 24. 55. 65. 36. 26. 48. 43. 20. 37. 45. 22. 23.\n",
      " 54. 32. 46. 56. 17. 29. 39. 52. 18. 21. 42. 33. 30. 47. 41. 19. 69. 50.\n",
      " 31. 59. 49. 58. 40. 27. 57. 61. 51. 73. 53. 80. 62. 35. 72. 64. 68. 66.\n",
      " 60. 67. 71. 70. 90. 77. 81. 74. 78. 82. 75. 85. 76. 89. 83. 79. 88. 87.\n",
      " 84. 86.]\n",
      "\n",
      "workclass \n",
      "Card:\t7\n",
      "Type:\t<class 'str'>\n",
      "Unique values:\n",
      "['Private' 'Local-gov' 'Self-emp-not-inc' 'Federal-gov' 'State-gov'\n",
      " 'Self-emp-inc' 'Without-pay']\n",
      "\n",
      "education \n",
      "Card:\t16\n",
      "Type:\t<class 'str'>\n",
      "Unique values:\n",
      "['11th' 'HS-grad' 'Assoc-acdm' 'Some-college' '10th' 'Prof-school'\n",
      " '7th-8th' 'Bachelors' 'Masters' '5th-6th' 'Assoc-voc' '9th' 'Doctorate'\n",
      " '12th' '1st-4th' 'Preschool']\n",
      "\n",
      "education-num \n",
      "Card:\t16\n",
      "Type:\t<class 'numpy.float64'>\n",
      "Unique values:\n",
      "[ 7.  9. 12. 10.  6. 15.  4. 13. 14.  3. 11.  5. 16.  8.  2.  1.]\n",
      "\n",
      "marital-status \n",
      "Card:\t7\n",
      "Type:\t<class 'str'>\n",
      "Unique values:\n",
      "['Never-married' 'Married-civ-spouse' 'Widowed' 'Separated' 'Divorced'\n",
      " 'Married-spouse-absent' 'Married-AF-spouse']\n",
      "\n",
      "occupation \n",
      "Card:\t14\n",
      "Type:\t<class 'str'>\n",
      "Unique values:\n",
      "['Machine-op-inspct' 'Farming-fishing' 'Protective-serv' 'Other-service'\n",
      " 'Prof-specialty' 'Craft-repair' 'Adm-clerical' 'Exec-managerial'\n",
      " 'Tech-support' 'Sales' 'Priv-house-serv' 'Transport-moving'\n",
      " 'Handlers-cleaners' 'Armed-Forces']\n",
      "\n",
      "relationship \n",
      "Card:\t6\n",
      "Type:\t<class 'str'>\n",
      "Unique values:\n",
      "['Own-child' 'Husband' 'Not-in-family' 'Unmarried' 'Wife' 'Other-relative']\n",
      "\n",
      "race \n",
      "Card:\t5\n",
      "Type:\t<class 'str'>\n",
      "Unique values:\n",
      "['Black' 'White' 'Other' 'Amer-Indian-Eskimo' 'Asian-Pac-Islander']\n",
      "\n",
      "sex \n",
      "Card:\t2\n",
      "Type:\t<class 'str'>\n",
      "Unique values:\n",
      "['Male' 'Female']\n",
      "\n",
      "capital-gain \n",
      "Card:\t121\n",
      "Type:\t<class 'numpy.float64'>\n",
      "Unique values:\n",
      "[    0.  7688.  3103.  6418.  7298.  3908. 14084.  5178. 15024.  2597.\n",
      "  2907.  4650.  6497.  5013. 27828.  4934.  4064.  3674.  2174. 10605.\n",
      " 99999.  1055.   114.  2580.  3411.  4508.  4386.  8614. 13550.  6849.\n",
      "  2463.  3137.  2885.  2964.  1471. 10566.  2354.  1424.  1455.  3325.\n",
      "  4416. 25236.  4787.  2829.  4865.  1264.  1506.   594. 10520.  3464.\n",
      " 20051.  4101.  1797.  2407.  3471.  2653.  1086.  1848. 14344.  1151.\n",
      "  2993.  2290. 15020.  9386.  2202.  3818.  2176.  5455.  3418. 11678.\n",
      "  7978.  7262.  6514. 41310.  3456.  7430.  2062. 34095.  1831.  6723.\n",
      "  5060. 15831.  2977.  2346.  3273.  2329.  9562.  2105.  2635.  2414.\n",
      "  4931.  1731.  6097.   914.  7896.  5556.  3781.  3942.  2538.  3887.\n",
      "  1409. 25124.  7443.  5721.   401.  1173.  4687.  6767.   991.  2036.\n",
      "  2050.  2961.  2228. 22040.  2936.  6360.  2009.  3432.  1639. 18481.\n",
      "  2387.]\n",
      "\n",
      "capital-loss \n",
      "Card:\t97\n",
      "Type:\t<class 'numpy.float64'>\n",
      "Unique values:\n",
      "[   0. 1721. 1876. 2415. 1887.  625. 1977. 2057. 1429. 1590. 1485. 2051.\n",
      " 2377. 1672. 1628. 1902. 1741. 2444. 1408. 2001. 2042. 1740. 1825. 1848.\n",
      " 1719. 3004. 2179. 1573. 2205. 1258. 2339. 1726. 2258. 1340. 1504. 2559.\n",
      " 1668. 1974. 1980. 1564. 2547. 2002. 1669. 1617.  323. 1602. 3175. 2472.\n",
      " 1579. 2129. 1735. 2282. 1870. 1911. 1092. 1762. 2457. 2231. 2238.  653.\n",
      " 1138. 2246. 2603. 2392. 1510. 1944. 1380. 1421. 3770. 1594.  213. 2824.\n",
      " 2174. 1844. 2149. 1411. 2467. 2163. 1651. 1816. 2206. 2352. 1539.  880.\n",
      "  810.  974. 1648. 1755. 3683. 4356. 2267. 2080.  419.  155. 3900. 2201.\n",
      " 2754.]\n",
      "\n",
      "hours-per-week \n",
      "Card:\t96\n",
      "Type:\t<class 'numpy.float64'>\n",
      "Unique values:\n",
      "[40. 50. 30. 32. 10. 39. 48. 25. 20. 47. 35. 43. 90. 54. 60. 38. 45. 36.\n",
      " 18. 24. 44. 56. 28. 16. 41. 22. 55. 14. 33. 37. 12. 70. 15. 75. 52. 84.\n",
      " 42. 80.  8. 68. 99. 65. 17. 72. 53. 96. 21. 46.  3.  1. 49. 67. 76. 23.\n",
      "  2. 58. 26. 34.  4.  7. 51. 78. 63.  5. 31. 92. 77. 27. 29. 85.  6. 13.\n",
      " 19. 98. 62. 66. 57. 86. 11. 59.  9. 64. 73. 61. 88. 79. 89. 74. 69. 87.\n",
      " 97. 94. 82. 91. 81. 95.]\n",
      "\n",
      "native-country \n",
      "Card:\t41\n",
      "Type:\t<class 'str'>\n",
      "Unique values:\n",
      "['United-States' 'Peru' 'Guatemala' 'Mexico' 'Dominican-Republic'\n",
      " 'Ireland' 'Germany' 'Philippines' 'Thailand' 'Haiti' 'El-Salvador'\n",
      " 'Puerto-Rico' 'Vietnam' 'South' 'Columbia' 'Japan' 'India' 'Cambodia'\n",
      " 'Poland' 'Laos' 'England' 'Cuba' 'Taiwan' 'Italy' 'Canada' 'Portugal'\n",
      " 'China' 'Nicaragua' 'Honduras' 'Iran' 'Scotland' 'Jamaica' 'Ecuador'\n",
      " 'Yugoslavia' 'Hungary' 'Hong' 'Greece' 'Trinadad&Tobago'\n",
      " 'Outlying-US(Guam-USVI-etc)' 'France' 'Holand-Netherlands']\n",
      "\n",
      "income \n",
      "Card:\t2\n",
      "Type:\t<class 'str'>\n",
      "Unique values:\n",
      "['<=50K' '>50K']\n",
      "\n"
     ]
    }
   ],
   "source": [
    "for i in df.columns:\n",
    "    print('{} \\nCard:\\t{}\\nType:\\t{}\\nUnique values:\\n{}\\n'.format(i, len(df[i].unique()), type(df[i][0]), df[i].unique()))"
   ]
  },
  {
   "cell_type": "code",
   "execution_count": 15,
   "metadata": {},
   "outputs": [
    {
     "data": {
      "text/html": [
       "<div>\n",
       "<style scoped>\n",
       "    .dataframe tbody tr th:only-of-type {\n",
       "        vertical-align: middle;\n",
       "    }\n",
       "\n",
       "    .dataframe tbody tr th {\n",
       "        vertical-align: top;\n",
       "    }\n",
       "\n",
       "    .dataframe thead th {\n",
       "        text-align: right;\n",
       "    }\n",
       "</style>\n",
       "<table border=\"1\" class=\"dataframe\">\n",
       "  <thead>\n",
       "    <tr style=\"text-align: right;\">\n",
       "      <th></th>\n",
       "      <th>8</th>\n",
       "      <th>13</th>\n",
       "      <th>7</th>\n",
       "      <th>6</th>\n",
       "      <th>1</th>\n",
       "      <th>4</th>\n",
       "      <th>5</th>\n",
       "      <th>2</th>\n",
       "      <th>3</th>\n",
       "      <th>12</th>\n",
       "      <th>0</th>\n",
       "      <th>11</th>\n",
       "      <th>10</th>\n",
       "      <th>9</th>\n",
       "    </tr>\n",
       "  </thead>\n",
       "  <tbody>\n",
       "    <tr>\n",
       "      <th>index</th>\n",
       "      <td>sex</td>\n",
       "      <td>income</td>\n",
       "      <td>race</td>\n",
       "      <td>relationship</td>\n",
       "      <td>workclass</td>\n",
       "      <td>marital-status</td>\n",
       "      <td>occupation</td>\n",
       "      <td>education</td>\n",
       "      <td>education-num</td>\n",
       "      <td>native-country</td>\n",
       "      <td>age</td>\n",
       "      <td>hours-per-week</td>\n",
       "      <td>capital-loss</td>\n",
       "      <td>capital-gain</td>\n",
       "    </tr>\n",
       "    <tr>\n",
       "      <th>0</th>\n",
       "      <td>2</td>\n",
       "      <td>2</td>\n",
       "      <td>5</td>\n",
       "      <td>6</td>\n",
       "      <td>7</td>\n",
       "      <td>7</td>\n",
       "      <td>14</td>\n",
       "      <td>16</td>\n",
       "      <td>16</td>\n",
       "      <td>41</td>\n",
       "      <td>74</td>\n",
       "      <td>96</td>\n",
       "      <td>97</td>\n",
       "      <td>121</td>\n",
       "    </tr>\n",
       "  </tbody>\n",
       "</table>\n",
       "</div>"
      ],
      "text/plain": [
       "        8       13    7             6          1               4           5   \\\n",
       "index  sex  income  race  relationship  workclass  marital-status  occupation   \n",
       "0        2       2     5             6          7               7          14   \n",
       "\n",
       "              2              3               12   0               11  \\\n",
       "index  education  education-num  native-country  age  hours-per-week   \n",
       "0             16             16              41   74              96   \n",
       "\n",
       "                 10            9   \n",
       "index  capital-loss  capital-gain  \n",
       "0                97           121  "
      ]
     },
     "execution_count": 15,
     "metadata": {},
     "output_type": "execute_result"
    }
   ],
   "source": [
    "df.apply(lambda x: len(x.unique()), axis = 0).reset_index().sort_values(by = 0).T"
   ]
  },
  {
   "cell_type": "code",
   "execution_count": 16,
   "metadata": {},
   "outputs": [
    {
     "data": {
      "text/html": [
       "<div>\n",
       "<style scoped>\n",
       "    .dataframe tbody tr th:only-of-type {\n",
       "        vertical-align: middle;\n",
       "    }\n",
       "\n",
       "    .dataframe tbody tr th {\n",
       "        vertical-align: top;\n",
       "    }\n",
       "\n",
       "    .dataframe thead th {\n",
       "        text-align: right;\n",
       "    }\n",
       "</style>\n",
       "<table border=\"1\" class=\"dataframe\">\n",
       "  <thead>\n",
       "    <tr style=\"text-align: right;\">\n",
       "      <th></th>\n",
       "      <th>age</th>\n",
       "      <th>workclass</th>\n",
       "      <th>education</th>\n",
       "      <th>marital-status</th>\n",
       "      <th>occupation</th>\n",
       "      <th>relationship</th>\n",
       "      <th>race</th>\n",
       "      <th>sex</th>\n",
       "      <th>capital-gain</th>\n",
       "      <th>capital-loss</th>\n",
       "      <th>hours-per-week</th>\n",
       "      <th>native-country</th>\n",
       "      <th>income</th>\n",
       "    </tr>\n",
       "  </thead>\n",
       "  <tbody>\n",
       "    <tr>\n",
       "      <th>0</th>\n",
       "      <td>25.0</td>\n",
       "      <td>Private</td>\n",
       "      <td>11th</td>\n",
       "      <td>Never-married</td>\n",
       "      <td>Machine-op-inspct</td>\n",
       "      <td>Own-child</td>\n",
       "      <td>Black</td>\n",
       "      <td>1</td>\n",
       "      <td>0.0</td>\n",
       "      <td>0.0</td>\n",
       "      <td>40.0</td>\n",
       "      <td>United-States</td>\n",
       "      <td>0</td>\n",
       "    </tr>\n",
       "    <tr>\n",
       "      <th>1</th>\n",
       "      <td>38.0</td>\n",
       "      <td>Private</td>\n",
       "      <td>HS-grad</td>\n",
       "      <td>Married-civ-spouse</td>\n",
       "      <td>Farming-fishing</td>\n",
       "      <td>Husband</td>\n",
       "      <td>White</td>\n",
       "      <td>1</td>\n",
       "      <td>0.0</td>\n",
       "      <td>0.0</td>\n",
       "      <td>50.0</td>\n",
       "      <td>United-States</td>\n",
       "      <td>0</td>\n",
       "    </tr>\n",
       "    <tr>\n",
       "      <th>2</th>\n",
       "      <td>28.0</td>\n",
       "      <td>Local-gov</td>\n",
       "      <td>Assoc-acdm</td>\n",
       "      <td>Married-civ-spouse</td>\n",
       "      <td>Protective-serv</td>\n",
       "      <td>Husband</td>\n",
       "      <td>White</td>\n",
       "      <td>1</td>\n",
       "      <td>0.0</td>\n",
       "      <td>0.0</td>\n",
       "      <td>40.0</td>\n",
       "      <td>United-States</td>\n",
       "      <td>1</td>\n",
       "    </tr>\n",
       "    <tr>\n",
       "      <th>3</th>\n",
       "      <td>44.0</td>\n",
       "      <td>Private</td>\n",
       "      <td>Some-college</td>\n",
       "      <td>Married-civ-spouse</td>\n",
       "      <td>Machine-op-inspct</td>\n",
       "      <td>Husband</td>\n",
       "      <td>Black</td>\n",
       "      <td>1</td>\n",
       "      <td>7688.0</td>\n",
       "      <td>0.0</td>\n",
       "      <td>40.0</td>\n",
       "      <td>United-States</td>\n",
       "      <td>1</td>\n",
       "    </tr>\n",
       "    <tr>\n",
       "      <th>4</th>\n",
       "      <td>34.0</td>\n",
       "      <td>Private</td>\n",
       "      <td>10th</td>\n",
       "      <td>Never-married</td>\n",
       "      <td>Other-service</td>\n",
       "      <td>Not-in-family</td>\n",
       "      <td>White</td>\n",
       "      <td>1</td>\n",
       "      <td>0.0</td>\n",
       "      <td>0.0</td>\n",
       "      <td>30.0</td>\n",
       "      <td>United-States</td>\n",
       "      <td>0</td>\n",
       "    </tr>\n",
       "  </tbody>\n",
       "</table>\n",
       "</div>"
      ],
      "text/plain": [
       "    age  workclass     education      marital-status         occupation  \\\n",
       "0  25.0    Private          11th       Never-married  Machine-op-inspct   \n",
       "1  38.0    Private       HS-grad  Married-civ-spouse    Farming-fishing   \n",
       "2  28.0  Local-gov    Assoc-acdm  Married-civ-spouse    Protective-serv   \n",
       "3  44.0    Private  Some-college  Married-civ-spouse  Machine-op-inspct   \n",
       "4  34.0    Private          10th       Never-married      Other-service   \n",
       "\n",
       "    relationship   race  sex  capital-gain  capital-loss  hours-per-week  \\\n",
       "0      Own-child  Black    1           0.0           0.0            40.0   \n",
       "1        Husband  White    1           0.0           0.0            50.0   \n",
       "2        Husband  White    1           0.0           0.0            40.0   \n",
       "3        Husband  Black    1        7688.0           0.0            40.0   \n",
       "4  Not-in-family  White    1           0.0           0.0            30.0   \n",
       "\n",
       "  native-country  income  \n",
       "0  United-States       0  \n",
       "1  United-States       0  \n",
       "2  United-States       1  \n",
       "3  United-States       1  \n",
       "4  United-States       0  "
      ]
     },
     "execution_count": 16,
     "metadata": {},
     "output_type": "execute_result"
    }
   ],
   "source": [
    "# Binarias variables de cardinalidad 2\n",
    "df['sex'] = df['sex'].map({'Male': 1, 'Female': 0})\n",
    "df['income'] = df['income'].map({'>50K': 1, '<=50K': 0})\n",
    "\n",
    "# education & education-num son redundantes\n",
    "df.drop(columns='education-num', inplace=True)\n",
    "\n",
    "# Parsear variables categóricas\n",
    "ignore = ['sex', 'income']\n",
    "catcol = df.select_dtypes(include='object').columns\n",
    "for col in catcol:\n",
    "    df[col] = df[col].astype('category')\n",
    "\n",
    "df.head()\n"
   ]
  },
  {
   "cell_type": "code",
   "execution_count": 17,
   "metadata": {},
   "outputs": [
    {
     "name": "stdout",
     "output_type": "stream",
     "text": [
      "<class 'pandas.core.frame.DataFrame'>\n",
      "RangeIndex: 45222 entries, 0 to 45221\n",
      "Data columns (total 13 columns):\n",
      " #   Column          Non-Null Count  Dtype   \n",
      "---  ------          --------------  -----   \n",
      " 0   age             45222 non-null  float64 \n",
      " 1   workclass       45222 non-null  category\n",
      " 2   education       45222 non-null  category\n",
      " 3   marital-status  45222 non-null  category\n",
      " 4   occupation      45222 non-null  category\n",
      " 5   relationship    45222 non-null  category\n",
      " 6   race            45222 non-null  category\n",
      " 7   sex             45222 non-null  int64   \n",
      " 8   capital-gain    45222 non-null  float64 \n",
      " 9   capital-loss    45222 non-null  float64 \n",
      " 10  hours-per-week  45222 non-null  float64 \n",
      " 11  native-country  45222 non-null  category\n",
      " 12  income          45222 non-null  int64   \n",
      "dtypes: category(7), float64(4), int64(2)\n",
      "memory usage: 2.4 MB\n"
     ]
    }
   ],
   "source": [
    "df.info()"
   ]
  },
  {
   "cell_type": "code",
   "execution_count": 18,
   "metadata": {},
   "outputs": [
    {
     "data": {
      "text/html": [
       "<div>\n",
       "<style scoped>\n",
       "    .dataframe tbody tr th:only-of-type {\n",
       "        vertical-align: middle;\n",
       "    }\n",
       "\n",
       "    .dataframe tbody tr th {\n",
       "        vertical-align: top;\n",
       "    }\n",
       "\n",
       "    .dataframe thead th {\n",
       "        text-align: right;\n",
       "    }\n",
       "</style>\n",
       "<table border=\"1\" class=\"dataframe\">\n",
       "  <thead>\n",
       "    <tr style=\"text-align: right;\">\n",
       "      <th></th>\n",
       "      <th>age</th>\n",
       "      <th>workclass</th>\n",
       "      <th>education</th>\n",
       "      <th>marital-status</th>\n",
       "      <th>occupation</th>\n",
       "      <th>relationship</th>\n",
       "      <th>race</th>\n",
       "      <th>sex</th>\n",
       "      <th>capital-gain</th>\n",
       "      <th>capital-loss</th>\n",
       "      <th>hours-per-week</th>\n",
       "      <th>native-country</th>\n",
       "    </tr>\n",
       "  </thead>\n",
       "  <tbody>\n",
       "    <tr>\n",
       "      <th>0</th>\n",
       "      <td>25.0</td>\n",
       "      <td>2</td>\n",
       "      <td>1</td>\n",
       "      <td>4</td>\n",
       "      <td>6</td>\n",
       "      <td>3</td>\n",
       "      <td>2</td>\n",
       "      <td>1</td>\n",
       "      <td>0.0</td>\n",
       "      <td>0.0</td>\n",
       "      <td>40.0</td>\n",
       "      <td>38</td>\n",
       "    </tr>\n",
       "    <tr>\n",
       "      <th>1</th>\n",
       "      <td>38.0</td>\n",
       "      <td>2</td>\n",
       "      <td>11</td>\n",
       "      <td>2</td>\n",
       "      <td>4</td>\n",
       "      <td>0</td>\n",
       "      <td>4</td>\n",
       "      <td>1</td>\n",
       "      <td>0.0</td>\n",
       "      <td>0.0</td>\n",
       "      <td>50.0</td>\n",
       "      <td>38</td>\n",
       "    </tr>\n",
       "    <tr>\n",
       "      <th>2</th>\n",
       "      <td>28.0</td>\n",
       "      <td>1</td>\n",
       "      <td>7</td>\n",
       "      <td>2</td>\n",
       "      <td>10</td>\n",
       "      <td>0</td>\n",
       "      <td>4</td>\n",
       "      <td>1</td>\n",
       "      <td>0.0</td>\n",
       "      <td>0.0</td>\n",
       "      <td>40.0</td>\n",
       "      <td>38</td>\n",
       "    </tr>\n",
       "    <tr>\n",
       "      <th>3</th>\n",
       "      <td>44.0</td>\n",
       "      <td>2</td>\n",
       "      <td>15</td>\n",
       "      <td>2</td>\n",
       "      <td>6</td>\n",
       "      <td>0</td>\n",
       "      <td>2</td>\n",
       "      <td>1</td>\n",
       "      <td>7688.0</td>\n",
       "      <td>0.0</td>\n",
       "      <td>40.0</td>\n",
       "      <td>38</td>\n",
       "    </tr>\n",
       "    <tr>\n",
       "      <th>4</th>\n",
       "      <td>34.0</td>\n",
       "      <td>2</td>\n",
       "      <td>0</td>\n",
       "      <td>4</td>\n",
       "      <td>7</td>\n",
       "      <td>1</td>\n",
       "      <td>4</td>\n",
       "      <td>1</td>\n",
       "      <td>0.0</td>\n",
       "      <td>0.0</td>\n",
       "      <td>30.0</td>\n",
       "      <td>38</td>\n",
       "    </tr>\n",
       "  </tbody>\n",
       "</table>\n",
       "</div>"
      ],
      "text/plain": [
       "    age  workclass  education  marital-status  occupation  relationship  race  \\\n",
       "0  25.0          2          1               4           6             3     2   \n",
       "1  38.0          2         11               2           4             0     4   \n",
       "2  28.0          1          7               2          10             0     4   \n",
       "3  44.0          2         15               2           6             0     2   \n",
       "4  34.0          2          0               4           7             1     4   \n",
       "\n",
       "   sex  capital-gain  capital-loss  hours-per-week  native-country  \n",
       "0    1           0.0           0.0            40.0              38  \n",
       "1    1           0.0           0.0            50.0              38  \n",
       "2    1           0.0           0.0            40.0              38  \n",
       "3    1        7688.0           0.0            40.0              38  \n",
       "4    1           0.0           0.0            30.0              38  "
      ]
     },
     "execution_count": 18,
     "metadata": {},
     "output_type": "execute_result"
    }
   ],
   "source": [
    "X = df.loc[:, df.columns != 'income']\n",
    "y = df.loc[:, df.columns == 'income']\n",
    "\n",
    "to_encode = X.select_dtypes(include='category')\n",
    "encoders = {}\n",
    "for catcol in to_encode.columns:\n",
    "    encoder = LabelEncoder()\n",
    "    X[catcol] = encoder.fit_transform(X[catcol])\n",
    "    encoders[catcol] = encoder\n",
    "\n",
    "X.head()"
   ]
  },
  {
   "cell_type": "code",
   "execution_count": 21,
   "metadata": {},
   "outputs": [],
   "source": [
    "X_train, X_test, y_train, y_test = train_test_split(X, y, test_size=0.2, random_state=101)"
   ]
  },
  {
   "cell_type": "code",
   "execution_count": 23,
   "metadata": {},
   "outputs": [
    {
     "data": {
      "text/plain": [
       "DecisionTreeClassifier(ccp_alpha=0.0, class_weight=None, criterion='gini',\n",
       "                       max_depth=None, max_features=None, max_leaf_nodes=None,\n",
       "                       min_impurity_decrease=0.0, min_impurity_split=None,\n",
       "                       min_samples_leaf=1, min_samples_split=2,\n",
       "                       min_weight_fraction_leaf=0.0, presort='deprecated',\n",
       "                       random_state=0, splitter='best')"
      ]
     },
     "execution_count": 23,
     "metadata": {},
     "output_type": "execute_result"
    }
   ],
   "source": [
    "dt = DecisionTreeClassifier(random_state=0)\n",
    "dt.fit(X_train, y_train)"
   ]
  },
  {
   "cell_type": "code",
   "execution_count": 24,
   "metadata": {},
   "outputs": [
    {
     "data": {
      "text/plain": [
       "0.8061912658927585"
      ]
     },
     "execution_count": 24,
     "metadata": {},
     "output_type": "execute_result"
    }
   ],
   "source": [
    "dt.score(X_test, y_test)"
   ]
  },
  {
   "cell_type": "code",
   "execution_count": 25,
   "metadata": {},
   "outputs": [
    {
     "data": {
      "text/plain": [
       "0.6036626723943026"
      ]
     },
     "execution_count": 25,
     "metadata": {},
     "output_type": "execute_result"
    }
   ],
   "source": [
    "y_pred = dt.predict(X_test)\n",
    "f1_score(y_test,y_pred)"
   ]
  },
  {
   "cell_type": "code",
   "execution_count": 27,
   "metadata": {},
   "outputs": [
    {
     "data": {
      "image/png": "[encoded data removed]",
      "text/plain": [
       "<Figure size 1296x864 with 1 Axes>"
      ]
     },
     "metadata": {
      "needs_background": "light"
     },
     "output_type": "display_data"
    }
   ],
   "source": [
    "fig, ax = plt.subplots(1, figsize=(18, 12))\n",
    "tree.plot_tree(dt,\n",
    "               feature_names = X_train.columns,\n",
    "               class_names = ['Low Income', 'High Income'],\n",
    "               max_depth=3,\n",
    "               proportion=True, filled=True, rounded=True, fontsize=7, ax=ax)\n",
    "plt.show()"
   ]
  },
  {
   "cell_type": "code",
   "execution_count": 29,
   "metadata": {},
   "outputs": [
    {
     "data": {
      "text/plain": [
       "array([0.17971245, 0.0514122 , 0.10334469, 0.01056277, 0.08043735,\n",
       "       0.22180233, 0.01995981, 0.0048762 , 0.14500921, 0.06093487,\n",
       "       0.10044835, 0.02149978])"
      ]
     },
     "execution_count": 29,
     "metadata": {},
     "output_type": "execute_result"
    }
   ],
   "source": [
    "dt.feature_importances_"
   ]
  },
  {
   "cell_type": "code",
   "execution_count": 32,
   "metadata": {},
   "outputs": [],
   "source": [
    "dt_importance_sorted_idx = np.argsort(dt.feature_importances_)\n",
    "tree_indices = np.arange(0, len(dt.feature_importances_))"
   ]
  },
  {
   "cell_type": "code",
   "execution_count": 38,
   "metadata": {},
   "outputs": [
    {
     "data": {
      "image/png": "[encoded data removed]",
      "text/plain": [
       "<Figure size 864x432 with 1 Axes>"
      ]
     },
     "metadata": {
      "needs_background": "light"
     },
     "output_type": "display_data"
    }
   ],
   "source": [
    "fig, ax = plt.subplots(1, figsize=(12, 6))\n",
    "\n",
    "ax.barh(range(0, 12), dt.feature_importances_[dt_importance_sorted_idx][-12:], height=0.7)\n",
    "ax.set_yticks(range(0, 12))\n",
    "ax.set_yticklabels(X_train.columns[dt_importance_sorted_idx][-12:])\n",
    "ax.set_ylim(0, len(dt.feature_importances_[-12:]))\n",
    "\n",
    "fig.tight_layout()\n",
    "plt.show()"
   ]
  },
  {
   "cell_type": "markdown",
   "metadata": {},
   "source": [
    "# Pregunta 2"
   ]
  },
  {
   "cell_type": "code",
   "execution_count": 39,
   "metadata": {},
   "outputs": [
    {
     "name": "stdout",
     "output_type": "stream",
     "text": [
      "Accuracy: 0.8378109452736319\n",
      "F1 Score: 0.6459087617668355\n"
     ]
    }
   ],
   "source": [
    "# Entrenamiento del modelo de Random Forest\n",
    "from sklearn.ensemble import RandomForestClassifier\n",
    "\n",
    "rf = RandomForestClassifier()\n",
    "rf.fit(X_train, np.ravel(y_train))\n",
    "\n",
    "# Evaluación del modelo\n",
    "accuracy = rf.score(X_test, y_test)\n",
    "print(f\"Accuracy: {accuracy}\")\n",
    "\n",
    "# Calcular F1 Score\n",
    "y_pred_rf = rf.predict(X_test)\n",
    "f1 = f1_score(y_test, y_pred_rf)\n",
    "print(f\"F1 Score: {f1}\")\n",
    "\n",
    "# Realizando predicciones en datos de entrenamiento\n",
    "y_pred_rf_train = rf.predict(X_train)\n"
   ]
  },
  {
   "cell_type": "code",
   "execution_count": 41,
   "metadata": {},
   "outputs": [
    {
     "data": {
      "text/plain": [
       "(36177, 12)"
      ]
     },
     "execution_count": 41,
     "metadata": {},
     "output_type": "execute_result"
    }
   ],
   "source": [
    "X_train.shape"
   ]
  },
  {
   "cell_type": "code",
   "execution_count": 42,
   "metadata": {},
   "outputs": [
    {
     "data": {
      "text/plain": [
       "(array([    3,     5,     7, ..., 36167, 36169, 36174]),)"
      ]
     },
     "execution_count": 42,
     "metadata": {},
     "output_type": "execute_result"
    }
   ],
   "source": [
    "y_pred_rf_train.nonzero()"
   ]
  },
  {
   "cell_type": "code",
   "execution_count": 43,
   "metadata": {},
   "outputs": [
    {
     "name": "stdout",
     "output_type": "stream",
     "text": [
      "0\n",
      "1\n",
      "0\n"
     ]
    }
   ],
   "source": [
    "print(y_pred_rf_train[0])\n",
    "print(y_pred_rf_train[3])\n",
    "print(y_pred_rf_train[10])"
   ]
  },
  {
   "cell_type": "code",
   "execution_count": 44,
   "metadata": {},
   "outputs": [],
   "source": [
    "categorical_features = [X_train.columns.get_loc(col) for col in to_encode.columns]\n",
    "categorical_names = {i: encoders[X_train.columns[i]].classes_ for i in categorical_features}\n",
    "\n",
    "from lime.lime_tabular import LimeTabularExplainer\n",
    "\n",
    "explainer = LimeTabularExplainer(X_train.values,\n",
    "                                 mode='classification',\n",
    "                                 feature_names=X_train.columns.tolist(),\n",
    "                                 categorical_features=categorical_features,\n",
    "                                 categorical_names=categorical_names,\n",
    "                                 discretize_continuous=True,\n",
    "                                 discretizer='decile',\n",
    "                                 kernel_width=5)\n",
    "\n",
    "exp0 = explainer.explain_instance(X_train.iloc[0, :], rf.predict_proba, num_features=4)\n",
    "exp3 = explainer.explain_instance(X_train.iloc[3, :], rf.predict_proba, num_features=4)\n",
    "exp10 = explainer.explain_instance(X_train.iloc[10, :], rf.predict_proba, num_features=4)\n"
   ]
  },
  {
   "cell_type": "code",
   "execution_count": 46,
   "metadata": {},
   "outputs": [
    {
     "data": {
      "image/png": "[encoded data removed]",
      "text/plain": [
       "<Figure size 432x288 with 1 Axes>"
      ]
     },
     "metadata": {
      "needs_background": "light"
     },
     "output_type": "display_data"
    },
    {
     "data": {
      "text/html": [
       "<div>\n",
       "<style scoped>\n",
       "    .dataframe tbody tr th:only-of-type {\n",
       "        vertical-align: middle;\n",
       "    }\n",
       "\n",
       "    .dataframe tbody tr th {\n",
       "        vertical-align: top;\n",
       "    }\n",
       "\n",
       "    .dataframe thead th {\n",
       "        text-align: right;\n",
       "    }\n",
       "</style>\n",
       "<table border=\"1\" class=\"dataframe\">\n",
       "  <thead>\n",
       "    <tr style=\"text-align: right;\">\n",
       "      <th></th>\n",
       "      <th>Feature</th>\n",
       "      <th>Contribution</th>\n",
       "    </tr>\n",
       "  </thead>\n",
       "  <tbody>\n",
       "    <tr>\n",
       "      <th>0</th>\n",
       "      <td>capital-gain &lt;= 0.00</td>\n",
       "      <td>-0.645016</td>\n",
       "    </tr>\n",
       "    <tr>\n",
       "      <th>1</th>\n",
       "      <td>age &lt;= 22.00</td>\n",
       "      <td>-0.112611</td>\n",
       "    </tr>\n",
       "    <tr>\n",
       "      <th>2</th>\n",
       "      <td>marital-status=Never-married</td>\n",
       "      <td>-0.072516</td>\n",
       "    </tr>\n",
       "    <tr>\n",
       "      <th>3</th>\n",
       "      <td>relationship=Own-child</td>\n",
       "      <td>-0.072000</td>\n",
       "    </tr>\n",
       "  </tbody>\n",
       "</table>\n",
       "</div>"
      ],
      "text/plain": [
       "                        Feature  Contribution\n",
       "0          capital-gain <= 0.00     -0.645016\n",
       "1                  age <= 22.00     -0.112611\n",
       "2  marital-status=Never-married     -0.072516\n",
       "3        relationship=Own-child     -0.072000"
      ]
     },
     "execution_count": 46,
     "metadata": {},
     "output_type": "execute_result"
    }
   ],
   "source": [
    "exp0.as_pyplot_figure()\n",
    "plt.show()\n",
    "pd.DataFrame(exp0.as_list(),columns=['Feature', 'Contribution'])"
   ]
  },
  {
   "cell_type": "code",
   "execution_count": 48,
   "metadata": {},
   "outputs": [
    {
     "data": {
      "image/png": "[encoded data removed]",
      "text/plain": [
       "<Figure size 432x288 with 1 Axes>"
      ]
     },
     "metadata": {
      "needs_background": "light"
     },
     "output_type": "display_data"
    },
    {
     "data": {
      "text/html": [
       "<div>\n",
       "<style scoped>\n",
       "    .dataframe tbody tr th:only-of-type {\n",
       "        vertical-align: middle;\n",
       "    }\n",
       "\n",
       "    .dataframe tbody tr th {\n",
       "        vertical-align: top;\n",
       "    }\n",
       "\n",
       "    .dataframe thead th {\n",
       "        text-align: right;\n",
       "    }\n",
       "</style>\n",
       "<table border=\"1\" class=\"dataframe\">\n",
       "  <thead>\n",
       "    <tr style=\"text-align: right;\">\n",
       "      <th></th>\n",
       "      <th>Feature</th>\n",
       "      <th>Contribution</th>\n",
       "    </tr>\n",
       "  </thead>\n",
       "  <tbody>\n",
       "    <tr>\n",
       "      <th>0</th>\n",
       "      <td>capital-gain &lt;= 0.00</td>\n",
       "      <td>-0.645016</td>\n",
       "    </tr>\n",
       "    <tr>\n",
       "      <th>1</th>\n",
       "      <td>age &lt;= 22.00</td>\n",
       "      <td>-0.112611</td>\n",
       "    </tr>\n",
       "    <tr>\n",
       "      <th>2</th>\n",
       "      <td>marital-status=Never-married</td>\n",
       "      <td>-0.072516</td>\n",
       "    </tr>\n",
       "    <tr>\n",
       "      <th>3</th>\n",
       "      <td>relationship=Own-child</td>\n",
       "      <td>-0.072000</td>\n",
       "    </tr>\n",
       "  </tbody>\n",
       "</table>\n",
       "</div>"
      ],
      "text/plain": [
       "                        Feature  Contribution\n",
       "0          capital-gain <= 0.00     -0.645016\n",
       "1                  age <= 22.00     -0.112611\n",
       "2  marital-status=Never-married     -0.072516\n",
       "3        relationship=Own-child     -0.072000"
      ]
     },
     "execution_count": 48,
     "metadata": {},
     "output_type": "execute_result"
    }
   ],
   "source": [
    "exp3.as_pyplot_figure()\n",
    "plt.show()\n",
    "pd.DataFrame(exp0.as_list(),columns=['Feature', 'Contribution'])"
   ]
  },
  {
   "cell_type": "code",
   "execution_count": 49,
   "metadata": {},
   "outputs": [
    {
     "data": {
      "image/png": "[encoded data removed]",
      "text/plain": [
       "<Figure size 432x288 with 1 Axes>"
      ]
     },
     "metadata": {
      "needs_background": "light"
     },
     "output_type": "display_data"
    },
    {
     "data": {
      "text/html": [
       "<div>\n",
       "<style scoped>\n",
       "    .dataframe tbody tr th:only-of-type {\n",
       "        vertical-align: middle;\n",
       "    }\n",
       "\n",
       "    .dataframe tbody tr th {\n",
       "        vertical-align: top;\n",
       "    }\n",
       "\n",
       "    .dataframe thead th {\n",
       "        text-align: right;\n",
       "    }\n",
       "</style>\n",
       "<table border=\"1\" class=\"dataframe\">\n",
       "  <thead>\n",
       "    <tr style=\"text-align: right;\">\n",
       "      <th></th>\n",
       "      <th>Feature</th>\n",
       "      <th>Contribution</th>\n",
       "    </tr>\n",
       "  </thead>\n",
       "  <tbody>\n",
       "    <tr>\n",
       "      <th>0</th>\n",
       "      <td>capital-gain &lt;= 0.00</td>\n",
       "      <td>-0.645016</td>\n",
       "    </tr>\n",
       "    <tr>\n",
       "      <th>1</th>\n",
       "      <td>age &lt;= 22.00</td>\n",
       "      <td>-0.112611</td>\n",
       "    </tr>\n",
       "    <tr>\n",
       "      <th>2</th>\n",
       "      <td>marital-status=Never-married</td>\n",
       "      <td>-0.072516</td>\n",
       "    </tr>\n",
       "    <tr>\n",
       "      <th>3</th>\n",
       "      <td>relationship=Own-child</td>\n",
       "      <td>-0.072000</td>\n",
       "    </tr>\n",
       "  </tbody>\n",
       "</table>\n",
       "</div>"
      ],
      "text/plain": [
       "                        Feature  Contribution\n",
       "0          capital-gain <= 0.00     -0.645016\n",
       "1                  age <= 22.00     -0.112611\n",
       "2  marital-status=Never-married     -0.072516\n",
       "3        relationship=Own-child     -0.072000"
      ]
     },
     "execution_count": 49,
     "metadata": {},
     "output_type": "execute_result"
    }
   ],
   "source": [
    "exp10.as_pyplot_figure()\n",
    "plt.show()\n",
    "pd.DataFrame(exp0.as_list(),columns=['Feature', 'Contribution'])"
   ]
  },
  {
   "cell_type": "code",
   "execution_count": null,
   "metadata": {},
   "outputs": [],
   "source": []
  }
 ],
 "metadata": {
  "kernelspec": {
   "display_name": "Python 3",
   "language": "python",
   "name": "python3"
  },
  "language_info": {
   "codemirror_mode": {
    "name": "ipython",
    "version": 3
   },
   "file_extension": ".py",
   "mimetype": "text/x-python",
   "name": "python",
   "nbconvert_exporter": "python",
   "pygments_lexer": "ipython3",
   "version": "3.7.6"
  }
 },
 "nbformat": 4,
 "nbformat_minor": 4
}
