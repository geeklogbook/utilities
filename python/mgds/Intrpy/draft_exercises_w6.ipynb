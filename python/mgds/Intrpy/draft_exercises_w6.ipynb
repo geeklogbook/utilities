{
 "cells": [
  {
   "cell_type": "code",
   "execution_count": 1,
   "metadata": {},
   "outputs": [
    {
     "name": "stdout",
     "output_type": "stream",
     "text": [
      "Start\n"
     ]
    }
   ],
   "source": [
    "print(\"Start\")"
   ]
  },
  {
   "cell_type": "markdown",
   "metadata": {},
   "source": [
    "1"
   ]
  },
  {
   "cell_type": "code",
   "execution_count": 2,
   "metadata": {},
   "outputs": [],
   "source": [
    "class Libro:\n",
    "    def __init__(self, t, a, g):\n",
    "        self.titulo = t\n",
    "        self.autor = a\n",
    "        self.genero = g\n",
    "    def __str__(self):\n",
    "        return self.titulo\n",
    "\n",
    "L1 = Libro('Harry Potter', 'J. K. Rowling', 'Fantasía')\n",
    "L2 = Libro('Juego de tronos', 'George R. R. Martin', 'Novela')\n",
    "L3 = Libro('El señor de los anillos', 'J. R. R. Tolkien', 'Novela')\n",
    "\n",
    "biblioteca = [L1, L2, L3]"
   ]
  },
  {
   "cell_type": "code",
   "execution_count": 4,
   "metadata": {},
   "outputs": [
    {
     "name": "stdout",
     "output_type": "stream",
     "text": [
      "Juego de tronos\n",
      "El señor de los anillos\n"
     ]
    }
   ],
   "source": [
    "for libro in biblioteca:\n",
    "    if libro.genero == 'Novela':\n",
    "        print(libro)\n",
    "\n"
   ]
  },
  {
   "cell_type": "markdown",
   "metadata": {},
   "source": [
    "2"
   ]
  },
  {
   "cell_type": "code",
   "execution_count": 6,
   "metadata": {},
   "outputs": [],
   "source": [
    "class Mascota:\n",
    "    def __init__(self, n, h):\n",
    "        self.nombre = n\n",
    "        self.dueño = h\n",
    "\n",
    "    def saludar(self, humano):\n",
    "        if humano.nombre == self.dueño.nombre:\n",
    "            return 'Hola '+ str(humano)\n",
    "        else:\n",
    "            return 'grrr, no te conozco ' + str(humano)\n",
    "\n",
    "class Humano:\n",
    "    def __init__(self, n):\n",
    "        self.nombre = n\n",
    "    def __str__(self):\n",
    "        return self.nombre\n",
    "\n",
    "humano = Humano('Alex')\n",
    "perro = Mascota('Rex' , humano)\n"
   ]
  },
  {
   "cell_type": "code",
   "execution_count": 7,
   "metadata": {},
   "outputs": [
    {
     "data": {
      "text/plain": [
       "'Hola Alex'"
      ]
     },
     "execution_count": 7,
     "metadata": {},
     "output_type": "execute_result"
    }
   ],
   "source": [
    "perro.saludar(humano)"
   ]
  },
  {
   "cell_type": "markdown",
   "metadata": {},
   "source": [
    "3"
   ]
  },
  {
   "cell_type": "code",
   "execution_count": 11,
   "metadata": {},
   "outputs": [],
   "source": [
    "class Aula:\n",
    "    def __init__(self, p):\n",
    "        self.profesor = p\n",
    "        self.estudiantes = []\n",
    "\n",
    "    def agregar_estudiante(self, estudiante):\n",
    "        self.estudiantes.append(estudiante)\n",
    "\n",
    "    def imprimir_mejor_nota(self):\n",
    "        mejor = 0\n",
    "        for estudiante in self.estudiantes:\n",
    "            if estudiante.nota_final > mejor:\n",
    "                mejor = estudiante.nota_final\n",
    "        print(mejor)\n",
    "\n",
    "class Estudiante:\n",
    "    def __init__(self, nom, nota):\n",
    "        self.nombre = nom\n",
    "        self.nota_final = nota\n",
    "\n",
    "class Profesor:\n",
    "    def __init__(self, n):\n",
    "        self.nombre = n\n"
   ]
  },
  {
   "cell_type": "code",
   "execution_count": 12,
   "metadata": {},
   "outputs": [
    {
     "name": "stdout",
     "output_type": "stream",
     "text": [
      "7\n"
     ]
    }
   ],
   "source": [
    "profesor = Profesor( 'Calamardo' )\n",
    "e1 = Estudiante( 'Bob', 6 )\n",
    "e2 = Estudiante( 'Patricio', 2 )\n",
    "e3 = Estudiante( 'Arenita', 7 )\n",
    "\n",
    "aula = Aula(profesor)\n",
    "aula.agregar_estudiante(e1)\n",
    "aula.agregar_estudiante(e2)\n",
    "aula.agregar_estudiante(e3)\n",
    "aula.imprimir_mejor_nota()"
   ]
  },
  {
   "cell_type": "markdown",
   "metadata": {},
   "source": [
    "4"
   ]
  },
  {
   "cell_type": "code",
   "execution_count": 14,
   "metadata": {},
   "outputs": [],
   "source": [
    "class Estudiante:\n",
    "    def __init__(self, nom):\n",
    "        self.nombre = nom\n",
    "        self.notas = []\n",
    "    def __add__(self, nota):\n",
    "        self.notas.append(nota)\n",
    "\n",
    "eva = Estudiante( 'Eva' )"
   ]
  },
  {
   "cell_type": "code",
   "execution_count": 17,
   "metadata": {},
   "outputs": [
    {
     "data": {
      "text/plain": [
       "[6.8, 6.8, 6.8]"
      ]
     },
     "execution_count": 17,
     "metadata": {},
     "output_type": "execute_result"
    }
   ],
   "source": [
    "eva + 6.8\n",
    "eva.notas"
   ]
  },
  {
   "cell_type": "markdown",
   "metadata": {},
   "source": [
    "5"
   ]
  },
  {
   "cell_type": "code",
   "execution_count": 18,
   "metadata": {},
   "outputs": [],
   "source": [
    "class Vehiculo:\n",
    "    def __init__(self):\n",
    "        self.ruedas = 4\n",
    "        self.kilometraje = 0\n",
    "        \n",
    "    def avanzar(self, km):\n",
    "        self.kilometraje += km\n",
    "\n",
    "    def cambiar_neumaticos(self):\n",
    "        print('Se han cambiado las ' +self.ruedas+' ruedas')"
   ]
  },
  {
   "cell_type": "code",
   "execution_count": 25,
   "metadata": {},
   "outputs": [],
   "source": [
    "class Camion(Vehiculo):\n",
    "    def __init__(self):\n",
    "        super().__init__()\n",
    "        self.ruedas = 6\n",
    "\n",
    "    def ver_kilometraje(self):\n",
    "        return self.kilometraje\n"
   ]
  },
  {
   "cell_type": "code",
   "execution_count": 27,
   "metadata": {},
   "outputs": [
    {
     "data": {
      "text/plain": [
       "6"
      ]
     },
     "execution_count": 27,
     "metadata": {},
     "output_type": "execute_result"
    }
   ],
   "source": [
    "camion = Camion()\n",
    "camion.ruedas"
   ]
  },
  {
   "cell_type": "markdown",
   "metadata": {},
   "source": [
    "6"
   ]
  },
  {
   "cell_type": "code",
   "execution_count": 40,
   "metadata": {},
   "outputs": [],
   "source": [
    "class Mueble:\n",
    "    def __init__(self, h, a, l, v):\n",
    "        self.alto = h\n",
    "        self.ancho = a\n",
    "        self.largo = l\n",
    "        self.valor = v\n",
    "\n",
    "    def precio(self):\n",
    "        return self.alto * self.ancho * self.largo * self.valor\n",
    "\n",
    "\n",
    "M1 = Mueble(1.0, 2.0, 3.0, 50)\n",
    "M2 = Mueble(2.0, 2.0, 2.0, 600)\n",
    "M3 = Mueble(1.5, 1.5, 3.0, 40)\n",
    "\n",
    "tienda = [M1, M2, M3]"
   ]
  },
  {
   "cell_type": "code",
   "execution_count": 43,
   "metadata": {},
   "outputs": [],
   "source": [
    "tienda_aux = []\n",
    "while len(tienda) > 0:\n",
    "        menor = tienda[0]\n",
    "        for mueble in tienda:\n",
    "            if menor.precio() > mueble.precio():\n",
    "                menor = mueble\n",
    "        tienda.remove(menor)\n",
    "        tienda_aux.append(menor)\n",
    "tienda = tienda_aux\n"
   ]
  },
  {
   "cell_type": "code",
   "execution_count": 44,
   "metadata": {},
   "outputs": [
    {
     "name": "stdout",
     "output_type": "stream",
     "text": [
      "270.0\n",
      "300.0\n",
      "4800.0\n"
     ]
    }
   ],
   "source": [
    "for elem in tienda:\n",
    "    print(elem.precio())"
   ]
  },
  {
   "cell_type": "code",
   "execution_count": null,
   "metadata": {},
   "outputs": [],
   "source": []
  },
  {
   "cell_type": "markdown",
   "metadata": {},
   "source": [
    "S"
   ]
  },
  {
   "cell_type": "code",
   "execution_count": 46,
   "metadata": {},
   "outputs": [],
   "source": [
    "class Envio:\n",
    "    def __init__(self, emisor, receptor):\n",
    "        self.emisor = emisor\n",
    "        self.receptor = receptor\n",
    "\n",
    "    def enviar(self):\n",
    "        pass"
   ]
  },
  {
   "cell_type": "code",
   "execution_count": 102,
   "metadata": {},
   "outputs": [],
   "source": [
    "# RECORDATORIO: \n",
    "# NO DEBEN DEFINIR LA CLASE ENVIO\n",
    "class Carta(Envio):\n",
    "    def __init__(self, emisor, receptor):\n",
    "        super().__init__(emisor, receptor)\n",
    "        self.estampilla = False\n",
    "\n",
    "    def poner_estampilla(self):\n",
    "        self.estampilla = True\n",
    "\n",
    "    def enviar(self):\n",
    "        enviado = False\n",
    "        if self.estampilla:\n",
    "            super().enviar()\n",
    "            enviado = True\n",
    "        return enviado\n",
    "\n",
    "\n",
    "class Paquete(Envio):\n",
    "    def __init__(self, emisor, receptor, max_volumen):\n",
    "        super().__init__(emisor, receptor)\n",
    "        self.max_volumen = max_volumen\n",
    "        self.abierto = True\n",
    "        self.peso_actual = 0\n",
    "        self.volumen_actual = 0\n",
    "\n",
    "    def agregar_producto(self, peso, volumen):\n",
    "        if self.abierto:\n",
    "            self.volumen_actual += volumen\n",
    "            self.peso_actual += peso\n",
    "        else:\n",
    "            self.abierto = True\n",
    "            self.volumen_actual += volumen\n",
    "            self.peso_actual += peso\n",
    "\n",
    "    def cerrar(self):\n",
    "        if self.volumen_actual < self.max_volumen:\n",
    "            self.abierto = False\n",
    "\n",
    "    def enviar(self):\n",
    "        if not self.abierto and (self.peso_actual <= 30):\n",
    "            super().enviar()"
   ]
  },
  {
   "cell_type": "code",
   "execution_count": 103,
   "metadata": {},
   "outputs": [],
   "source": [
    "paquete = Paquete(emisor=\"Remitente\", receptor=\"Destinatario\", max_volumen=50)\n",
    "paquete.agregar_producto(peso=10, volumen=5)\n",
    "paquete.cerrar()\n",
    "assert paquete.abierto == False"
   ]
  },
  {
   "cell_type": "code",
   "execution_count": 101,
   "metadata": {},
   "outputs": [
    {
     "name": "stdout",
     "output_type": "stream",
     "text": [
      "60\n",
      "120\n",
      "False\n",
      "60\n",
      "120\n",
      "True\n"
     ]
    }
   ],
   "source": [
    "paquete = Paquete(emisor=\"Remitente\", receptor=\"Destinatario\", max_volumen=50)\n",
    "paquete.agregar_producto(peso=20, volumen=10)\n",
    "paquete.agregar_producto(peso=20, volumen=10)\n",
    "paquete.agregar_producto(peso=20, volumen=10)\n",
    "paquete.agregar_producto(peso=20, volumen=10)\n",
    "paquete.agregar_producto(peso=20, volumen=10)\n",
    "paquete.agregar_producto(peso=20, volumen=10)\n",
    "paquete.cerrar()\n",
    "print(paquete.volumen_actual)\n",
    "print(paquete.peso_actual)\n",
    "print(paquete.abierto)"
   ]
  },
  {
   "cell_type": "code",
   "execution_count": null,
   "metadata": {},
   "outputs": [],
   "source": []
  }
 ],
 "metadata": {
  "kernelspec": {
   "display_name": ".env",
   "language": "python",
   "name": "python3"
  },
  "language_info": {
   "codemirror_mode": {
    "name": "ipython",
    "version": 3
   },
   "file_extension": ".py",
   "mimetype": "text/x-python",
   "name": "python",
   "nbconvert_exporter": "python",
   "pygments_lexer": "ipython3",
   "version": "3.12.2"
  }
 },
 "nbformat": 4,
 "nbformat_minor": 2
}
