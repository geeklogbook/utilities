{
 "cells": [
  {
   "cell_type": "markdown",
   "metadata": {},
   "source": [
    "1"
   ]
  },
  {
   "cell_type": "code",
   "execution_count": 3,
   "metadata": {},
   "outputs": [
    {
     "data": {
      "text/plain": [
       "{'Donde',\n",
       " 'En',\n",
       " 'Mis',\n",
       " 'Oigo',\n",
       " 'Pasar',\n",
       " 'Resuenan',\n",
       " 'Sólo',\n",
       " 'en',\n",
       " 'es',\n",
       " 'esta',\n",
       " 'la',\n",
       " 'niebla',\n",
       " 'otra',\n",
       " 'real'}"
      ]
     },
     "execution_count": 3,
     "metadata": {},
     "output_type": "execute_result"
    }
   ],
   "source": [
    "poema = ['Mis', 'pasos', 'en', 'esta', 'calle', 'Resuenan', 'En', 'otra', 'calle', 'Donde', 'Oigo', 'mis', 'pasos', 'Pasar', 'en', 'esta', 'calle', 'Donde', 'Sólo', 'es', 'real', 'la', 'niebla']\n",
    "prohibidas = set( ['calle', 'mis', 'pasos'] )\n",
    "poema = set(poema)\n",
    "poema = poema - prohibidas\n",
    "poema"
   ]
  },
  {
   "cell_type": "markdown",
   "metadata": {},
   "source": [
    "2"
   ]
  },
  {
   "cell_type": "code",
   "execution_count": 9,
   "metadata": {},
   "outputs": [],
   "source": [
    "lista = [1,2,1,1,5,6,4,4,4,6,7,5,1,1,7,7,7,2,1,2]"
   ]
  },
  {
   "cell_type": "markdown",
   "metadata": {},
   "source": [
    "3"
   ]
  },
  {
   "cell_type": "code",
   "execution_count": 10,
   "metadata": {},
   "outputs": [],
   "source": [
    "a1 = set( ['Pan', 'Salchichas', 'Mostaza', 'Ketchup'] )\n",
    "a2 = set( ['Pan', 'Cebolla', 'Tomate', 'Chucrut'] )\n",
    "a3 = set( ['Ketchup','Salchichas', 'Aji'] )\n",
    "a4 = set( ['Chucrut', 'Pan'] )\n",
    "ing_favoritos = set( ['Pan', 'Tomate', 'Salchichas', 'Chucrut', 'Mostaza', 'Ketchup','Mayonesa','Palta'] )"
   ]
  },
  {
   "cell_type": "code",
   "execution_count": 14,
   "metadata": {},
   "outputs": [
    {
     "name": "stdout",
     "output_type": "stream",
     "text": [
      "{'Palta', 'Mayonesa'}\n"
     ]
    }
   ],
   "source": [
    "faltantes = ing_favoritos - (a1 | a2 | a3 | a4) \n",
    "print(faltantes)\n"
   ]
  },
  {
   "cell_type": "markdown",
   "metadata": {},
   "source": [
    "4"
   ]
  },
  {
   "cell_type": "code",
   "execution_count": 23,
   "metadata": {},
   "outputs": [
    {
     "name": "stdout",
     "output_type": "stream",
     "text": [
      "{1: 6, 2: 3, 4: 3, 5: 2, 6: 2, 7: 4}\n"
     ]
    }
   ],
   "source": [
    "lista = [1,2,1,1,5,6,4,4,4,6,7,5,1,1,7,7,7,2,1,2]\n",
    "d = dict()\n",
    "for num in set(lista):\n",
    "    d[num] = lista.count(num)\n",
    "print(d)\n"
   ]
  },
  {
   "cell_type": "markdown",
   "metadata": {},
   "source": [
    "5"
   ]
  },
  {
   "cell_type": "code",
   "execution_count": 24,
   "metadata": {},
   "outputs": [
    {
     "name": "stdout",
     "output_type": "stream",
     "text": [
      "Alicia\n",
      "Bob\n"
     ]
    }
   ],
   "source": [
    "clientes = {\n",
    "'Alicia': (28, 'Chile', 1200),\n",
    "'Bob': (45, 'Francia', 2000),\n",
    "'Carlos': (30, 'Argentina', 500),\n",
    "'David': (23, 'Inglaterra', 0)\n",
    "}\n",
    "for cliente in clientes:\n",
    "    edad, residencia, deuda = clientes[cliente]\n",
    "    if deuda > 1000:\n",
    "        print(cliente)"
   ]
  },
  {
   "cell_type": "markdown",
   "metadata": {},
   "source": [
    "6"
   ]
  },
  {
   "cell_type": "code",
   "execution_count": 28,
   "metadata": {},
   "outputs": [
    {
     "name": "stdout",
     "output_type": "stream",
     "text": [
      "{'Bob': 3, 'Patricio': 1, 'Arenita': 1, 'Calamardo': 3, 'Don Cangrejo': 1}\n"
     ]
    }
   ],
   "source": [
    "amigos = {'Bob': ['Patricio', 'Calamardo', 'Arenita', 'Don Cangrejo'],\n",
    "'Patricio': ['Bob', 'Calamardo'],\n",
    "'Arenita': ['Bob'],\n",
    "'Calamardo': [],\n",
    "'Don Cangrejo': ['Bob', 'Calamardo']\n",
    "}\n",
    "otro = dict()\n",
    "for nombre in amigos:\n",
    "    otro[nombre] = 0\n",
    "\n",
    "otro = dict()\n",
    "for nombre in amigos:\n",
    "    otro[nombre] = 0\n",
    "for i in amigos:\n",
    "    lista_amigos = amigos[i]\n",
    "    for nombre in otro:\n",
    "        if nombre in lista_amigos:\n",
    "            otro[nombre] += 1\n",
    "print(otro)\n"
   ]
  },
  {
   "cell_type": "markdown",
   "metadata": {},
   "source": [
    "# Act 2"
   ]
  },
  {
   "cell_type": "markdown",
   "metadata": {},
   "source": [
    "1"
   ]
  },
  {
   "cell_type": "code",
   "execution_count": 3,
   "metadata": {},
   "outputs": [],
   "source": [
    "boletas = [\n",
    "    {'fecha_compra' : '29-05-22',\n",
    "     'precio' : 12000,\n",
    "     'productos' : {'Chocolate': 1,'Mantequilla': 1,'Huevos': 12, 'Pan' : 1}},\n",
    "    {'fecha_compra' : '31-05-22',\n",
    "     'precio' : 2400,\n",
    "     'productos' : {'Pan': 1, 'Leche' : 2}},\n",
    "    {'fecha_compra' : '01-06-22',\n",
    "     'precio' : 3000,\n",
    "     'productos' : {'Mantequilla': 2, 'Azucar' : 1}}\n",
    "]"
   ]
  },
  {
   "cell_type": "code",
   "execution_count": 4,
   "metadata": {},
   "outputs": [
    {
     "data": {
      "text/plain": [
       "[{'fecha_compra': '29-05-22',\n",
       "  'precio': 12000,\n",
       "  'productos': {'Chocolate': 1, 'Mantequilla': 1, 'Huevos': 12, 'Pan': 1}},\n",
       " {'fecha_compra': '31-05-22',\n",
       "  'precio': 2400,\n",
       "  'productos': {'Pan': 1, 'Leche': 2}},\n",
       " {'fecha_compra': '01-06-22',\n",
       "  'precio': 3000,\n",
       "  'productos': {'Mantequilla': 2, 'Azucar': 1}}]"
      ]
     },
     "execution_count": 4,
     "metadata": {},
     "output_type": "execute_result"
    }
   ],
   "source": [
    "boletas"
   ]
  },
  {
   "cell_type": "code",
   "execution_count": 5,
   "metadata": {},
   "outputs": [],
   "source": [
    "def precio_total(boletas):\n",
    "    total = 0\n",
    "    for item in boletas:\n",
    "        for k, v in item.items():\n",
    "            if k == 'precio':\n",
    "                total += v\n",
    "    return total"
   ]
  },
  {
   "cell_type": "code",
   "execution_count": 6,
   "metadata": {},
   "outputs": [
    {
     "data": {
      "text/plain": [
       "17400"
      ]
     },
     "execution_count": 6,
     "metadata": {},
     "output_type": "execute_result"
    }
   ],
   "source": [
    "precio_total(boletas)"
   ]
  },
  {
   "cell_type": "code",
   "execution_count": 15,
   "metadata": {},
   "outputs": [],
   "source": [
    "def precio_mes(boletas):\n",
    "    final_dict = {}\n",
    "    for item in boletas:\n",
    "        date_string = ''\n",
    "        precio = 0\n",
    "        for k, v in item.items():\n",
    "            if k == 'precio':\n",
    "                precio = v\n",
    "            if k == 'fecha_compra':\n",
    "                date_string = v.split('-',1)[-1]\n",
    "\n",
    "        if date_string in final_dict:\n",
    "            final_dict[date_string] += precio\n",
    "        else:\n",
    "            final_dict[date_string] = precio \n",
    "    return final_dict "
   ]
  },
  {
   "cell_type": "code",
   "execution_count": 16,
   "metadata": {},
   "outputs": [
    {
     "data": {
      "text/plain": [
       "{'05-22': 14400, '06-22': 3000}"
      ]
     },
     "execution_count": 16,
     "metadata": {},
     "output_type": "execute_result"
    }
   ],
   "source": [
    "precio_mes(boletas)"
   ]
  },
  {
   "cell_type": "code",
   "execution_count": 47,
   "metadata": {},
   "outputs": [],
   "source": [
    "def productos_frecuentes(boletas):\n",
    "    final_dic = {}\n",
    "    avg = len(boletas) * 0.5\n",
    "    for item in boletas:\n",
    "        x = list(item['productos'].keys())\n",
    "        for i in x:\n",
    "            final_dic[i] = final_dic.get(i, 0) + 1\n",
    "    filtered_dict = {key: value for key, value in final_dic.items() if value >= avg}\n",
    "    return set(filtered_dict.keys())"
   ]
  },
  {
   "cell_type": "code",
   "execution_count": 48,
   "metadata": {},
   "outputs": [
    {
     "data": {
      "text/plain": [
       "{'Mantequilla', 'Pan'}"
      ]
     },
     "execution_count": 48,
     "metadata": {},
     "output_type": "execute_result"
    }
   ],
   "source": [
    "productos_frecuentes(boletas)"
   ]
  },
  {
   "cell_type": "code",
   "execution_count": null,
   "metadata": {},
   "outputs": [],
   "source": []
  }
 ],
 "metadata": {
  "kernelspec": {
   "display_name": ".env",
   "language": "python",
   "name": "python3"
  },
  "language_info": {
   "codemirror_mode": {
    "name": "ipython",
    "version": 3
   },
   "file_extension": ".py",
   "mimetype": "text/x-python",
   "name": "python",
   "nbconvert_exporter": "python",
   "pygments_lexer": "ipython3",
   "version": "3.12.2"
  }
 },
 "nbformat": 4,
 "nbformat_minor": 2
}
