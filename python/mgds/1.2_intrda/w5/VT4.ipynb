{
 "cells": [
  {
   "cell_type": "markdown",
   "metadata": {},
   "source": [
    "5 - Visualizations"
   ]
  },
  {
   "cell_type": "code",
   "execution_count": null,
   "metadata": {},
   "outputs": [],
   "source": [
    "import pandas as pd\n",
    "import plotly.express as px"
   ]
  },
  {
   "cell_type": "code",
   "execution_count": null,
   "metadata": {},
   "outputs": [],
   "source": [
    "laliga_df2016_2017 = pd.read_excel(\"..\\\\data\\\\laligadata\\\\LaLiga16 17.xlsx\").dropna(how='all')\n",
    "laliga_df2017_2018 = pd.read_excel(\"..\\\\data\\\\laligadata\\\\LaLiga17 18.xlsx\").dropna(how='all')\n",
    "laliga_df2018_2019 = pd.read_excel(\"..\\\\data\\\\laligadata\\\\LaLiga18 19.xlsx\").dropna(how='all')\n",
    "laliga_df2019_2020 = pd.read_excel(\"..\\\\data\\\\laligadata\\\\LaLiga19 20.xlsx\").dropna(how='all')\n",
    "laliga_df2020_2021 = pd.read_excel(\"..\\\\data\\\\laligadata\\\\LaLiga20 21.xlsx\").dropna(how='all')\n",
    "laliga_df2021_2022 = pd.read_excel(\"..\\\\data\\\\laligadata\\\\LaLiga21 22.xlsx\").dropna(how='all')\n",
    "laliga123_df2016_2017 = pd.read_excel(\"..\\\\data\\\\laligadata\\\\LaLiga123 16 17.xlsx\").dropna(how='all')\n",
    "laliga123_df2017_2018 = pd.read_excel(\"..\\\\data\\\\laligadata\\\\LaLiga123 17 18.xlsx\").dropna(how='all')\n",
    "laliga123_df2018_2019 = pd.read_excel(\"..\\\\data\\\\laligadata\\\\LaLiga123 18 19.xlsx\").dropna(how='all')\n",
    "laliga123_df2019_2020 = pd.read_excel(\"..\\\\data\\\\laligadata\\\\LaLiga123 19 20.xlsx\").dropna(how='all')\n",
    "laliga123_df2020_2021 = pd.read_excel(\"..\\\\data\\\\laligadata\\\\LaLiga123 20 21.xlsx\").dropna(how='all')\n",
    "laliga123_df2021_2022 = pd.read_excel(\"..\\\\data\\\\laligadata\\\\LaLiga123 21 22.xlsx\").dropna(how='all')"
   ]
  },
  {
   "cell_type": "code",
   "execution_count": null,
   "metadata": {},
   "outputs": [],
   "source": [
    "laliga = pd.concat([laliga_df2016_2017, laliga_df2017_2018, laliga_df2018_2019, laliga_df2019_2020, laliga_df2020_2021, laliga_df2021_2022], ignore_index=True)\n",
    "segunda = pd.concat([laliga123_df2016_2017,laliga123_df2017_2018,laliga123_df2018_2019,laliga123_df2019_2020,laliga123_df2020_2021,laliga123_df2021_2022 ], ignore_index=True)"
   ]
  },
  {
   "cell_type": "code",
   "execution_count": null,
   "metadata": {},
   "outputs": [],
   "source": [
    "laliga.head(2)"
   ]
  },
  {
   "cell_type": "code",
   "execution_count": null,
   "metadata": {},
   "outputs": [],
   "source": [
    "def resultado(string):\n",
    "    goles = string.split(\"–\")\n",
    "    if int(goles[0]) > int(goles[1]):\n",
    "        return 'Local'\n",
    "    if int(goles[0]) < int(goles[1]):\n",
    "        return 'Visitante'\n",
    "    else:\n",
    "        return 'Empate'"
   ]
  },
  {
   "cell_type": "code",
   "execution_count": null,
   "metadata": {},
   "outputs": [],
   "source": [
    "def torneo(a,m):\n",
    "    if ((a==2016) & (m<=12) | (a==2017) & (m<=8)):\n",
    "        return '16/17'\n",
    "    elif ((a==2017) & (m<=12) | (a==2018) & (m<=8)):\n",
    "        return '17/18'\n",
    "    elif ((a==2018) & (m<=12) | (a==2019) & (m<=8)):\n",
    "        return '18/19'\n",
    "    elif ((a==2019) & (m<=12) | (a==2020) & (m<=8)):\n",
    "        return '19/20'\n",
    "    elif ((a==2020) & (m<=12) | (a==2021) & (m<=8)):\n",
    "        return '20/21'\n",
    "    elif ((a==2021) & (m<=12) | (a==2022) & (m<=8)):\n",
    "        return '21/22'"
   ]
  },
  {
   "cell_type": "code",
   "execution_count": null,
   "metadata": {},
   "outputs": [],
   "source": [
    "def golesvisita(marcador):\n",
    "    goles=marcador.split(\"–\")\n",
    "    return int(goles[1])\n",
    "def goleslocal(marcador):\n",
    "    goles=marcador.split(\"–\")\n",
    "    return int(goles[0])"
   ]
  },
  {
   "cell_type": "code",
   "execution_count": null,
   "metadata": {},
   "outputs": [],
   "source": [
    "laliga['Resultado'] = laliga['Score'].apply(resultado)\n",
    "laliga['Año'] = laliga['Date'].dt.year\n",
    "laliga['Mes'] = laliga['Date'].dt.month\n",
    "laliga['Temporada'] = laliga.apply(lambda x: torneo(x['Año'], x['Mes']),axis = 1) \n",
    "laliga['Goles Local'] = laliga['Score'].apply(goleslocal)\n",
    "laliga['Goles Visitante'] = laliga['Score'].apply(golesvisita)"
   ]
  },
  {
   "cell_type": "code",
   "execution_count": null,
   "metadata": {},
   "outputs": [],
   "source": [
    "segunda['Resultado'] = segunda['Score'].apply(resultado)\n",
    "segunda['Año'] = segunda['Date'].dt.year\n",
    "segunda['Mes'] = segunda['Date'].dt.month\n",
    "segunda['Temporada'] = segunda.apply(lambda x: torneo(x['Año'], x['Mes']),axis = 1) \n",
    "segunda['Goles Local'] = segunda['Score'].apply(goleslocal)\n",
    "segunda['Goles Visitante'] = segunda['Score'].apply(golesvisita)"
   ]
  },
  {
   "cell_type": "code",
   "execution_count": null,
   "metadata": {},
   "outputs": [],
   "source": [
    "cond_predominante_abs = laliga.groupby(['Resultado'])['Wk'].count().reset_index()\n",
    "cond_predominante_abs = cond_predominante_abs.set_axis(['Resultado', 'Cantidad'], axis='columns')"
   ]
  },
  {
   "cell_type": "code",
   "execution_count": null,
   "metadata": {},
   "outputs": [],
   "source": [
    "cond_predominante_abs"
   ]
  },
  {
   "cell_type": "code",
   "execution_count": null,
   "metadata": {},
   "outputs": [],
   "source": [
    "fig1 = px.pie(cond_predominante_abs, \n",
    "              values='Cantidad', \n",
    "              names='Resultado', \n",
    "              title='La liga 2016-2022',\n",
    "              color='Resultado',\n",
    "              color_discrete_map={'Local':'royalblue','Visitante':'orangered','Empate':'lightgreen'})\n",
    "\n",
    "fig1.update_traces(textposition='inside', textinfo='percent+value')\n",
    "fig1.show()"
   ]
  },
  {
   "cell_type": "code",
   "execution_count": null,
   "metadata": {},
   "outputs": [],
   "source": [
    "total_asist=laliga.groupby('Temporada')['Attendance'].agg('sum').reset_index()\n",
    "fig2 = px.line(total_asist, \n",
    "               x='Temporada', \n",
    "               y='Attendance',\n",
    "               title = 'Asistencia total por temporada de la Liga entre 2016-2022', line_shape='spline')\n",
    "fig2.show()"
   ]
  },
  {
   "cell_type": "code",
   "execution_count": null,
   "metadata": {},
   "outputs": [],
   "source": [
    "test1 = laliga.groupby('Local')['Goles Local'].agg('sum').reset_index()\n",
    "test1 = test1.rename(columns={'Local':'Equipo', 'Goles Local': 'Total de goles históricos de Local'})\n",
    "\n",
    "test2 = laliga.groupby('Visitante')['Goles Visitante'].agg('sum').reset_index()\n",
    "test2 = test2.rename(columns={'Goles Visitante': 'Total de goles históricos de Visitante'})"
   ]
  },
  {
   "cell_type": "code",
   "execution_count": null,
   "metadata": {},
   "outputs": [],
   "source": [
    "result = pd.concat([test1, test2], axis=1)\n",
    "dt = result.drop(['Visitante'], axis=1)"
   ]
  },
  {
   "cell_type": "code",
   "execution_count": null,
   "metadata": {},
   "outputs": [],
   "source": [
    "fig3 = px.bar(dt,\n",
    "              x=\"Equipo\",\n",
    "              y=['Total de goles históricos de Local', 'Total de goles históricos de Visitante'],\n",
    "              title='Total de goles desde 2016-2022 Equipos de LaLiga')\n",
    "fig3.show()"
   ]
  },
  {
   "cell_type": "markdown",
   "metadata": {},
   "source": [
    "# Construir un dashboard"
   ]
  },
  {
   "cell_type": "code",
   "execution_count": null,
   "metadata": {},
   "outputs": [],
   "source": [
    "import os\n",
    "import pandas as pd\n",
    "import numpy as np\n",
    "import plotly.express as px\n",
    "import pandas_bokeh"
   ]
  },
  {
   "cell_type": "code",
   "execution_count": null,
   "metadata": {},
   "outputs": [],
   "source": [
    "pandas_bokeh.output_notebook()"
   ]
  },
  {
   "cell_type": "code",
   "execution_count": null,
   "metadata": {},
   "outputs": [],
   "source": [
    "laliga.columns"
   ]
  },
  {
   "cell_type": "code",
   "execution_count": null,
   "metadata": {},
   "outputs": [],
   "source": [
    "laliga = laliga.loc[:,['Wk','Date', 'Local', 'Score', 'Visitante', 'Temporada','Attendance']]\n",
    "segunda = segunda.loc[:,['Wk','Date', 'Local', 'Score', 'Visitante', 'Temporada','Attendance']]"
   ]
  },
  {
   "cell_type": "code",
   "execution_count": null,
   "metadata": {},
   "outputs": [],
   "source": [
    "laliga['Attendance'] = laliga['Attendance']*1000\n",
    "laliga['Torneo'] = 'Primera division'\n",
    "segunda['Attendance'] = segunda['Attendance']*1000\n",
    "segunda['Torneo'] = 'Segunda division'"
   ]
  },
  {
   "cell_type": "code",
   "execution_count": null,
   "metadata": {},
   "outputs": [],
   "source": [
    "partidos6t = pd.concat([laliga,segunda], axis=0)"
   ]
  },
  {
   "cell_type": "code",
   "execution_count": null,
   "metadata": {},
   "outputs": [],
   "source": [
    "partidos6t"
   ]
  },
  {
   "cell_type": "code",
   "execution_count": null,
   "metadata": {},
   "outputs": [],
   "source": [
    "agrup_tortemp = partidos6t.groupby(['Torneo', 'Temporada'])['Attendance'].sum().reset_index()"
   ]
  },
  {
   "cell_type": "code",
   "execution_count": null,
   "metadata": {},
   "outputs": [],
   "source": [
    "agrup_tortemp"
   ]
  },
  {
   "cell_type": "code",
   "execution_count": null,
   "metadata": {},
   "outputs": [],
   "source": [
    "asist_pub = pd.DataFrame({\n",
    "    \"Primera division\": agrup_tortemp[agrup_tortemp['Torneo']=='Primera division']['Attendance'].to_list(),\n",
    "    \"Segunda division\": agrup_tortemp[agrup_tortemp['Torneo']=='Segunda division']['Attendance'].to_list()},\n",
    "    index=agrup_tortemp[agrup_tortemp['Torneo']=='Primera division']['Temporada'].to_list()\n",
    "    )"
   ]
  },
  {
   "cell_type": "code",
   "execution_count": null,
   "metadata": {},
   "outputs": [],
   "source": [
    "asist_pub"
   ]
  },
  {
   "cell_type": "code",
   "execution_count": null,
   "metadata": {},
   "outputs": [],
   "source": [
    "p_line = asist_pub.plot_bokeh(kind=\"line\", xlabel='Temporada', ylabel='Asistencia total', show_figure=False)"
   ]
  },
  {
   "cell_type": "code",
   "execution_count": null,
   "metadata": {},
   "outputs": [],
   "source": []
  }
 ],
 "metadata": {
  "kernelspec": {
   "display_name": ".env",
   "language": "python",
   "name": "python3"
  },
  "language_info": {
   "codemirror_mode": {
    "name": "ipython",
    "version": 3
   },
   "file_extension": ".py",
   "mimetype": "text/x-python",
   "name": "python",
   "nbconvert_exporter": "python",
   "pygments_lexer": "ipython3",
   "version": "3.12.2"
  }
 },
 "nbformat": 4,
 "nbformat_minor": 2
}
