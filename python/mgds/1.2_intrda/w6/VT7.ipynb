{
 "cells": [
  {
   "cell_type": "code",
   "execution_count": null,
   "metadata": {},
   "outputs": [],
   "source": [
    "import pandas as pd\n",
    "import numpy as np\n",
    "import warnings\n",
    "warnings.filterwarnings('ignore')"
   ]
  },
  {
   "cell_type": "code",
   "execution_count": null,
   "metadata": {},
   "outputs": [],
   "source": [
    "prod = pd.read_excel(\"..\\\\data\\\\products\\\\VT7-VT8.xlsx\", sheet_name='Productos')\n",
    "boleta = pd.read_excel(\"..\\\\data\\\\products\\\\VT7-VT8.xlsx\", sheet_name='Boletas Históricas')"
   ]
  },
  {
   "cell_type": "code",
   "execution_count": null,
   "metadata": {},
   "outputs": [],
   "source": [
    "boleta.isna().sum()"
   ]
  },
  {
   "cell_type": "code",
   "execution_count": null,
   "metadata": {},
   "outputs": [],
   "source": [
    "boleta.loc[:,'Producto 3']= boleta.loc[:, 'Producto 3'].fillna('-')\n",
    "boleta.loc[:,'Producto 4']= boleta.loc[:, 'Producto 4'].fillna('-')\n",
    "boleta.loc[:,'Producto 5']= boleta.loc[:, 'Producto 5'].fillna('-')\n",
    "boleta.loc[:,'Producto 6']= boleta.loc[:, 'Producto 6'].fillna('-')\n",
    "boleta.loc[:,'Producto 7']= boleta.loc[:, 'Producto 7'].fillna('-')\n",
    "boleta.loc[:,'Producto 8']= boleta.loc[:, 'Producto 8'].fillna('-')\n",
    "boleta.loc[:,'Producto 9']= boleta.loc[:, 'Producto 9'].fillna('-')\n",
    "boleta.loc[:,'Producto 10']= boleta.loc[:, 'Producto 10'].fillna('-')"
   ]
  },
  {
   "cell_type": "code",
   "execution_count": null,
   "metadata": {},
   "outputs": [],
   "source": [
    "len(boleta)"
   ]
  },
  {
   "cell_type": "code",
   "execution_count": null,
   "metadata": {},
   "outputs": [],
   "source": [
    "boleta = boleta.dropna(subset=[\"Descuento\", \"Valor Boleta\"], how='all')"
   ]
  },
  {
   "cell_type": "code",
   "execution_count": null,
   "metadata": {},
   "outputs": [],
   "source": [
    "len(boleta)"
   ]
  },
  {
   "cell_type": "code",
   "execution_count": null,
   "metadata": {},
   "outputs": [],
   "source": [
    "boleta.loc[:, 'Descuento'] = boleta.loc[:, 'Descuento'].fillna('-')"
   ]
  },
  {
   "cell_type": "code",
   "execution_count": null,
   "metadata": {},
   "outputs": [],
   "source": [
    "boleta_dsctofalt = boleta[(boleta['Descuento']=='-')]"
   ]
  },
  {
   "cell_type": "code",
   "execution_count": null,
   "metadata": {},
   "outputs": [],
   "source": [
    "len(boleta_dsctofalt)"
   ]
  },
  {
   "cell_type": "code",
   "execution_count": null,
   "metadata": {},
   "outputs": [],
   "source": [
    "def precio(p1,p2,p3,p4,p5,p6,p7,p8,p9,p10,precios):\n",
    "    productos = [p1,p2,p3,p4,p5,p6,p7,p8,p9,p10]\n",
    "    precio = 0\n",
    "    #i = 0\n",
    "    for producto in productos:\n",
    "        if producto == '':\n",
    "            pass\n",
    "        else:\n",
    "            #data = precios[precios[precios['Producto']==producto]]\n",
    "            precio += int(precios[precios['Producto']==producto]['Precio'])\n",
    "    return precio"
   ]
  },
  {
   "cell_type": "code",
   "execution_count": null,
   "metadata": {},
   "outputs": [],
   "source": [
    "def precio(p1,p2,p3,p4,p5,p6,p7,p8,p9,p10,precios):\n",
    "    productos = [p1,p2,p3,p4,p5,p6,p7,p8,p9,p10],\n",
    "    precio = 0,\n",
    "    i=0,\n",
    "    for producto in productos:\n",
    "        if producto == '-':\n",
    "                pass\n",
    "        else:\n",
    "                data = precios[precios['Producto']==producto]\n",
    "                precio += int(precios[precios['Producto']==producto]['Precio'])\n",
    "        return precio"
   ]
  },
  {
   "cell_type": "code",
   "execution_count": null,
   "metadata": {},
   "outputs": [],
   "source": [
    "boleta[\"Suma precio neto\"] = boleta.apply(lambda x: precio(x['Producto 1'],x['Producto 2'],x['Producto 3'],\n",
    "                                x['Producto 4'],x['Producto 5'],x['Producto 6'],x['Producto 7'],x['Producto 8'],\n",
    "                                x['Producto 9'],x['Producto 10'],prod),axis = 1)"
   ]
  },
  {
   "cell_type": "code",
   "execution_count": null,
   "metadata": {},
   "outputs": [],
   "source": [
    "boleta['Suma precio neto'] = boleta.apply(lambda x: precio(x['Producto 1'],x['Producto 2'],x['Producto 3'],x['Producto 4'],x['Producto 5'],x['Producto 6'],x['Producto 7'],x['Producto 8'],x['Producto 9'],x['Producto 10'],prod),axis=1)"
   ]
  },
  {
   "cell_type": "code",
   "execution_count": null,
   "metadata": {},
   "outputs": [],
   "source": []
  }
 ],
 "metadata": {
  "kernelspec": {
   "display_name": ".env",
   "language": "python",
   "name": "python3"
  },
  "language_info": {
   "codemirror_mode": {
    "name": "ipython",
    "version": 3
   },
   "file_extension": ".py",
   "mimetype": "text/x-python",
   "name": "python",
   "nbconvert_exporter": "python",
   "pygments_lexer": "ipython3",
   "version": "3.12.2"
  }
 },
 "nbformat": 4,
 "nbformat_minor": 2
}
