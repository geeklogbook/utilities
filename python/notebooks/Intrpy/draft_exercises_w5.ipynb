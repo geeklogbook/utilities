{
 "cells": [
  {
   "cell_type": "markdown",
   "metadata": {},
   "source": [
    "1"
   ]
  },
  {
   "cell_type": "code",
   "execution_count": 8,
   "metadata": {},
   "outputs": [],
   "source": [
    "class Planta():\n",
    "    def __init__(self, especie, altura):\n",
    "        self.especie=especie\n",
    "        self.altura=altura"
   ]
  },
  {
   "cell_type": "code",
   "execution_count": 9,
   "metadata": {},
   "outputs": [
    {
     "name": "stdout",
     "output_type": "stream",
     "text": [
      "Washingtonia filifera\n",
      "15\n"
     ]
    }
   ],
   "source": [
    "a = Planta( 'Washingtonia filifera', 15 )\n",
    "print(a.especie)\n",
    "print(a.altura)"
   ]
  },
  {
   "cell_type": "markdown",
   "metadata": {},
   "source": [
    "2"
   ]
  },
  {
   "cell_type": "code",
   "execution_count": 10,
   "metadata": {},
   "outputs": [],
   "source": [
    "class Casa():\n",
    "    def __init__(self, direccion, piezas, baños, metros_cuadrados, urbana):\n",
    "        self.direcccion=direccion\n",
    "        self.piezas=piezas\n",
    "        self.baños=baños\n",
    "        self.metros_cuadrados=metros_cuadrados\n",
    "        self.urbana=urbana\n",
    "\n",
    "    def precio(self):\n",
    "        resultado = (self.piezas + self.baños) * self.metros_cuadrados \n",
    "        if self.urbana:\n",
    "            resultado += 100\n",
    "        return resultado\n"
   ]
  },
  {
   "cell_type": "code",
   "execution_count": 11,
   "metadata": {},
   "outputs": [
    {
     "name": "stdout",
     "output_type": "stream",
     "text": [
      "140.0\n",
      "225.0\n"
     ]
    }
   ],
   "source": [
    "c1 = Casa('Frente al mall 321', 1, 1.0, 20, True)\n",
    "c2 = Casa('Frente al lago 123', 2, 2.5, 50, False)\n",
    "\n",
    "print( c1.precio() )\n",
    "print( c2.precio() )"
   ]
  },
  {
   "cell_type": "markdown",
   "metadata": {},
   "source": [
    "3"
   ]
  },
  {
   "cell_type": "code",
   "execution_count": 50,
   "metadata": {},
   "outputs": [],
   "source": [
    "class Menu():\n",
    "\n",
    "    def __init__(self, comidas, precios):\n",
    "        self.comidas = comidas\n",
    "        self.precios = precios\n",
    "\n",
    "    def __str__(self):\n",
    "        result = ''\n",
    "        len_list = len(self.comidas)\n",
    "        for i in range(len_list):\n",
    "            result += self.comidas[i] + \":\" + str(self.precios[i]) + \"#\"\n",
    "        return result"
   ]
  },
  {
   "cell_type": "code",
   "execution_count": 51,
   "metadata": {},
   "outputs": [
    {
     "name": "stdout",
     "output_type": "stream",
     "text": [
      "Pato a la mostaza:20000#Hamburguesa:8000#Ensalada:6000#Lasagna:9000#\n"
     ]
    }
   ],
   "source": [
    "comidas = ['Pato a la mostaza', 'Hamburguesa', 'Ensalada', 'Lasagna']\n",
    "precios = [20000, 8000, 6000, 9000]\n",
    "menu = Menu(comidas, precios)\n",
    "\n",
    "print(menu)"
   ]
  },
  {
   "cell_type": "markdown",
   "metadata": {},
   "source": [
    "4"
   ]
  },
  {
   "cell_type": "code",
   "execution_count": 44,
   "metadata": {},
   "outputs": [],
   "source": [
    "class Enemigo():\n",
    "    def __init__(self, nombre, vida, fuerza_ataque):\n",
    "        self.nombre = nombre\n",
    "        self.vida = vida\n",
    "        self.fuerza_ataque = fuerza_ataque\n",
    "\n",
    "    def recibir_ataque(self, daño):\n",
    "        self.vida -= daño\n",
    "        if self.vida < 0:\n",
    "            self.vida = 0\n",
    "        return self.vida\n",
    "\n",
    "    def atacar(self, otro):\n",
    "        otro.vida = otro.recibir_ataque(self.fuerza_ataque)\n",
    "        \n",
    "\n",
    "    def __str__(self):\n",
    "        resultado = self.nombre + ' - ' + str(self.vida)\n",
    "        return resultado\n"
   ]
  },
  {
   "cell_type": "code",
   "execution_count": 45,
   "metadata": {},
   "outputs": [
    {
     "name": "stdout",
     "output_type": "stream",
     "text": [
      "Esqueleto - 8\n",
      "Zombie - 10\n",
      "Esqueleto - 3\n",
      "Zombie - 4\n",
      "Zombie - 0\n"
     ]
    }
   ],
   "source": [
    "a = Enemigo( 'Esqueleto', 8, 6 )\n",
    "b = Enemigo( 'Zombie', 10, 5 )\n",
    "print(a)\n",
    "print(b)\n",
    "\n",
    "a.recibir_ataque(5)\n",
    "print(a)\n",
    "\n",
    "a.atacar(b)\n",
    "print(b)\n",
    "\n",
    "a.atacar(b)\n",
    "print(b)"
   ]
  },
  {
   "cell_type": "code",
   "execution_count": null,
   "metadata": {},
   "outputs": [],
   "source": []
  },
  {
   "cell_type": "markdown",
   "metadata": {},
   "source": [
    "5"
   ]
  },
  {
   "cell_type": "markdown",
   "metadata": {},
   "source": [
    "6"
   ]
  }
 ],
 "metadata": {
  "kernelspec": {
   "display_name": ".env",
   "language": "python",
   "name": "python3"
  },
  "language_info": {
   "codemirror_mode": {
    "name": "ipython",
    "version": 3
   },
   "file_extension": ".py",
   "mimetype": "text/x-python",
   "name": "python",
   "nbconvert_exporter": "python",
   "pygments_lexer": "ipython3",
   "version": "3.12.2"
  }
 },
 "nbformat": 4,
 "nbformat_minor": 2
}
