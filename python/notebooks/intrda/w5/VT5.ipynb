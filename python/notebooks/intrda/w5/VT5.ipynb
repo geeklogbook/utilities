{
 "cells": [
  {
   "cell_type": "markdown",
   "metadata": {},
   "source": [
    "VT5"
   ]
  },
  {
   "cell_type": "code",
   "execution_count": 69,
   "metadata": {},
   "outputs": [],
   "source": [
    "import pandas as pd\n",
    "import numpy as np\n",
    "import glob\n",
    "import plotly.express as px\n",
    "import matplotlib.pyplot as plt\n",
    "plt.style.use('default')\n",
    "\n",
    "%matplotlib inline\n",
    "\n",
    "import warnings\n",
    "warnings.filterwarnings('ignore')\n"
   ]
  },
  {
   "cell_type": "code",
   "execution_count": 70,
   "metadata": {},
   "outputs": [],
   "source": [
    "laliga_df2016_2017 = pd.read_excel(\"..\\\\data\\\\laligadata\\\\LaLiga16 17.xlsx\").dropna(how='all')\n",
    "laliga_df2017_2018 = pd.read_excel(\"..\\\\data\\\\laligadata\\\\LaLiga17 18.xlsx\").dropna(how='all')\n",
    "laliga_df2018_2019 = pd.read_excel(\"..\\\\data\\\\laligadata\\\\LaLiga18 19.xlsx\").dropna(how='all')\n",
    "laliga_df2019_2020 = pd.read_excel(\"..\\\\data\\\\laligadata\\\\LaLiga19 20.xlsx\").dropna(how='all')\n",
    "laliga_df2020_2021 = pd.read_excel(\"..\\\\data\\\\laligadata\\\\LaLiga20 21.xlsx\").dropna(how='all')\n",
    "laliga_df2021_2022 = pd.read_excel(\"..\\\\data\\\\laligadata\\\\LaLiga21 22.xlsx\").dropna(how='all')"
   ]
  },
  {
   "cell_type": "code",
   "execution_count": 71,
   "metadata": {},
   "outputs": [],
   "source": [
    "laliga = pd.concat([laliga_df2016_2017, laliga_df2017_2018, laliga_df2018_2019, laliga_df2019_2020, laliga_df2020_2021, laliga_df2021_2022], ignore_index=True)"
   ]
  },
  {
   "cell_type": "code",
   "execution_count": 72,
   "metadata": {},
   "outputs": [],
   "source": [
    "laliga = laliga.loc[:,[\"Wk\",'Date',\"Local\",\"Score\",'Visitante','Attendance']]"
   ]
  },
  {
   "cell_type": "code",
   "execution_count": 73,
   "metadata": {},
   "outputs": [],
   "source": [
    "laliga['Attendance'] = laliga['Attendance']*1000\n",
    "laliga['Torneo'] = 'Primera division'"
   ]
  },
  {
   "cell_type": "code",
   "execution_count": 74,
   "metadata": {},
   "outputs": [
    {
     "data": {
      "text/html": [
       "<div>\n",
       "<style scoped>\n",
       "    .dataframe tbody tr th:only-of-type {\n",
       "        vertical-align: middle;\n",
       "    }\n",
       "\n",
       "    .dataframe tbody tr th {\n",
       "        vertical-align: top;\n",
       "    }\n",
       "\n",
       "    .dataframe thead th {\n",
       "        text-align: right;\n",
       "    }\n",
       "</style>\n",
       "<table border=\"1\" class=\"dataframe\">\n",
       "  <thead>\n",
       "    <tr style=\"text-align: right;\">\n",
       "      <th></th>\n",
       "      <th>Wk</th>\n",
       "      <th>Date</th>\n",
       "      <th>Local</th>\n",
       "      <th>Score</th>\n",
       "      <th>Visitante</th>\n",
       "      <th>Attendance</th>\n",
       "      <th>Torneo</th>\n",
       "    </tr>\n",
       "  </thead>\n",
       "  <tbody>\n",
       "    <tr>\n",
       "      <th>0</th>\n",
       "      <td>1.0</td>\n",
       "      <td>2016-08-19</td>\n",
       "      <td>Málaga</td>\n",
       "      <td>1–1</td>\n",
       "      <td>Osasuna</td>\n",
       "      <td>22347.0</td>\n",
       "      <td>Primera division</td>\n",
       "    </tr>\n",
       "    <tr>\n",
       "      <th>1</th>\n",
       "      <td>1.0</td>\n",
       "      <td>2016-08-19</td>\n",
       "      <td>La Coruña</td>\n",
       "      <td>2–1</td>\n",
       "      <td>Eibar</td>\n",
       "      <td>21441.0</td>\n",
       "      <td>Primera division</td>\n",
       "    </tr>\n",
       "  </tbody>\n",
       "</table>\n",
       "</div>"
      ],
      "text/plain": [
       "    Wk       Date      Local Score Visitante  Attendance            Torneo\n",
       "0  1.0 2016-08-19     Málaga   1–1   Osasuna     22347.0  Primera division\n",
       "1  1.0 2016-08-19  La Coruña   2–1     Eibar     21441.0  Primera division"
      ]
     },
     "execution_count": 74,
     "metadata": {},
     "output_type": "execute_result"
    }
   ],
   "source": [
    "laliga.head(2)"
   ]
  },
  {
   "cell_type": "code",
   "execution_count": 75,
   "metadata": {},
   "outputs": [],
   "source": [
    "def golesvisita(marcador):\n",
    "    goles=marcador.split(\"–\")\n",
    "    return int(goles[1])\n",
    "def goleslocal(marcador):\n",
    "    goles=marcador.split(\"–\")\n",
    "    return int(goles[0])\n",
    "\n",
    "laliga['Goles Local'] = laliga['Score'].apply(goleslocal)\n",
    "laliga['Goles Visitante'] = laliga['Score'].apply(golesvisita)\n",
    "laliga['Total goles partido'] = laliga['Goles Local'] + laliga['Goles Visitante']"
   ]
  },
  {
   "cell_type": "code",
   "execution_count": 76,
   "metadata": {},
   "outputs": [],
   "source": [
    "def torneo(año,mes):\n",
    "    if ((año==2016) & (mes<=12)|(año==2017) & (mes<8)):\n",
    "        return '16/17'\n",
    "    elif ((año==2017) & (mes<=12)|(año==2018) & (mes<8)):\n",
    "        return '17/18'\n",
    "    elif ((año==2018) & (mes<=12)|(año==2019) & (mes<8)):\n",
    "        return '18/19'\n",
    "    elif ((año==2019) & (mes<=12)|(año==2020) & (mes<9)):\n",
    "        return '19/20'\n",
    "    elif ((año==2020) & (mes<=12)|(año==2021) & (mes<8)):\n",
    "        return '20/21'\n",
    "    elif ((año==2021) & (mes<=12)|(año==2022) & (mes<8)):\n",
    "        return '21/22'\n",
    "\n",
    "    \n",
    "laliga['Año'] = laliga['Date'].dt.year\n",
    "laliga['Mes'] = laliga['Date'].dt.month\n",
    "laliga['Temporada'] = laliga.apply(lambda x: torneo(x['Año'],x['Mes']),axis = 1)"
   ]
  },
  {
   "cell_type": "code",
   "execution_count": 77,
   "metadata": {},
   "outputs": [],
   "source": [
    "def resultado(string):\n",
    "    goles = string.split('–')\n",
    "    if int(goles[0])>int(goles[1]):\n",
    "        return 'Local'\n",
    "    if int(goles[0])<int(goles[1]):\n",
    "        return 'Visitante'\n",
    "    else: \n",
    "        return 'Empate'\n",
    "    \n",
    "def resultado_equipo(string, local, visita):\n",
    "    goles = string.split('–')\n",
    "    if int(goles[0])>int(goles[1]):\n",
    "        return local\n",
    "    if int(goles[0])<int(goles[1]):\n",
    "        return visita\n",
    "    else: \n",
    "        return 'Empate'\n",
    "    \n",
    "laliga['Resultado'] = laliga['Score'].apply(resultado)\n",
    "laliga['Ganador'] = laliga.apply(lambda x: resultado_equipo(x['Score'],x['Local'],x['Visitante']),axis=1)"
   ]
  },
  {
   "cell_type": "code",
   "execution_count": 78,
   "metadata": {},
   "outputs": [
    {
     "data": {
      "text/html": [
       "<div>\n",
       "<style scoped>\n",
       "    .dataframe tbody tr th:only-of-type {\n",
       "        vertical-align: middle;\n",
       "    }\n",
       "\n",
       "    .dataframe tbody tr th {\n",
       "        vertical-align: top;\n",
       "    }\n",
       "\n",
       "    .dataframe thead th {\n",
       "        text-align: right;\n",
       "    }\n",
       "</style>\n",
       "<table border=\"1\" class=\"dataframe\">\n",
       "  <thead>\n",
       "    <tr style=\"text-align: right;\">\n",
       "      <th></th>\n",
       "      <th>Wk</th>\n",
       "      <th>Date</th>\n",
       "      <th>Local</th>\n",
       "      <th>Score</th>\n",
       "      <th>Visitante</th>\n",
       "      <th>Attendance</th>\n",
       "      <th>Torneo</th>\n",
       "      <th>Goles Local</th>\n",
       "      <th>Goles Visitante</th>\n",
       "      <th>Total goles partido</th>\n",
       "      <th>Año</th>\n",
       "      <th>Mes</th>\n",
       "      <th>Temporada</th>\n",
       "      <th>Resultado</th>\n",
       "      <th>Ganador</th>\n",
       "    </tr>\n",
       "  </thead>\n",
       "  <tbody>\n",
       "    <tr>\n",
       "      <th>0</th>\n",
       "      <td>1.0</td>\n",
       "      <td>2016-08-19</td>\n",
       "      <td>Málaga</td>\n",
       "      <td>1–1</td>\n",
       "      <td>Osasuna</td>\n",
       "      <td>22347.0</td>\n",
       "      <td>Primera division</td>\n",
       "      <td>1</td>\n",
       "      <td>1</td>\n",
       "      <td>2</td>\n",
       "      <td>2016</td>\n",
       "      <td>8</td>\n",
       "      <td>16/17</td>\n",
       "      <td>Empate</td>\n",
       "      <td>Empate</td>\n",
       "    </tr>\n",
       "    <tr>\n",
       "      <th>1</th>\n",
       "      <td>1.0</td>\n",
       "      <td>2016-08-19</td>\n",
       "      <td>La Coruña</td>\n",
       "      <td>2–1</td>\n",
       "      <td>Eibar</td>\n",
       "      <td>21441.0</td>\n",
       "      <td>Primera division</td>\n",
       "      <td>2</td>\n",
       "      <td>1</td>\n",
       "      <td>3</td>\n",
       "      <td>2016</td>\n",
       "      <td>8</td>\n",
       "      <td>16/17</td>\n",
       "      <td>Local</td>\n",
       "      <td>La Coruña</td>\n",
       "    </tr>\n",
       "    <tr>\n",
       "      <th>2</th>\n",
       "      <td>1.0</td>\n",
       "      <td>2016-08-20</td>\n",
       "      <td>Barcelona</td>\n",
       "      <td>6–2</td>\n",
       "      <td>Betis</td>\n",
       "      <td>65731.0</td>\n",
       "      <td>Primera division</td>\n",
       "      <td>6</td>\n",
       "      <td>2</td>\n",
       "      <td>8</td>\n",
       "      <td>2016</td>\n",
       "      <td>8</td>\n",
       "      <td>16/17</td>\n",
       "      <td>Local</td>\n",
       "      <td>Barcelona</td>\n",
       "    </tr>\n",
       "    <tr>\n",
       "      <th>3</th>\n",
       "      <td>1.0</td>\n",
       "      <td>2016-08-20</td>\n",
       "      <td>Granada</td>\n",
       "      <td>1–1</td>\n",
       "      <td>Villarreal</td>\n",
       "      <td>15149.0</td>\n",
       "      <td>Primera division</td>\n",
       "      <td>1</td>\n",
       "      <td>1</td>\n",
       "      <td>2</td>\n",
       "      <td>2016</td>\n",
       "      <td>8</td>\n",
       "      <td>16/17</td>\n",
       "      <td>Empate</td>\n",
       "      <td>Empate</td>\n",
       "    </tr>\n",
       "    <tr>\n",
       "      <th>4</th>\n",
       "      <td>1.0</td>\n",
       "      <td>2016-08-20</td>\n",
       "      <td>Sevilla</td>\n",
       "      <td>6–4</td>\n",
       "      <td>Espanyol</td>\n",
       "      <td>29420.0</td>\n",
       "      <td>Primera division</td>\n",
       "      <td>6</td>\n",
       "      <td>4</td>\n",
       "      <td>10</td>\n",
       "      <td>2016</td>\n",
       "      <td>8</td>\n",
       "      <td>16/17</td>\n",
       "      <td>Local</td>\n",
       "      <td>Sevilla</td>\n",
       "    </tr>\n",
       "  </tbody>\n",
       "</table>\n",
       "</div>"
      ],
      "text/plain": [
       "    Wk       Date      Local Score   Visitante  Attendance            Torneo  \\\n",
       "0  1.0 2016-08-19     Málaga   1–1     Osasuna     22347.0  Primera division   \n",
       "1  1.0 2016-08-19  La Coruña   2–1       Eibar     21441.0  Primera division   \n",
       "2  1.0 2016-08-20  Barcelona   6–2       Betis     65731.0  Primera division   \n",
       "3  1.0 2016-08-20    Granada   1–1  Villarreal     15149.0  Primera division   \n",
       "4  1.0 2016-08-20    Sevilla   6–4    Espanyol     29420.0  Primera division   \n",
       "\n",
       "   Goles Local  Goles Visitante  Total goles partido   Año  Mes Temporada  \\\n",
       "0            1                1                    2  2016    8     16/17   \n",
       "1            2                1                    3  2016    8     16/17   \n",
       "2            6                2                    8  2016    8     16/17   \n",
       "3            1                1                    2  2016    8     16/17   \n",
       "4            6                4                   10  2016    8     16/17   \n",
       "\n",
       "  Resultado    Ganador  \n",
       "0    Empate     Empate  \n",
       "1     Local  La Coruña  \n",
       "2     Local  Barcelona  \n",
       "3    Empate     Empate  \n",
       "4     Local    Sevilla  "
      ]
     },
     "execution_count": 78,
     "metadata": {},
     "output_type": "execute_result"
    }
   ],
   "source": [
    "laliga.head(5)"
   ]
  },
  {
   "cell_type": "markdown",
   "metadata": {},
   "source": [
    "Evolucion"
   ]
  },
  {
   "cell_type": "code",
   "execution_count": 79,
   "metadata": {},
   "outputs": [],
   "source": [
    "ej2122 = laliga[(laliga['Temporada']=='21/22')&(laliga['Torneo']=='Primera division')]\n",
    "equip2122 = ej2122['Local'].unique().tolist()"
   ]
  },
  {
   "cell_type": "code",
   "execution_count": 80,
   "metadata": {},
   "outputs": [],
   "source": [
    "def tabla_posicion(data,fecha,equipos):\n",
    "    tabla = {}\n",
    "    for equipo in equipos:\n",
    "        data_usar = data[(data['Wk']<=fecha)&((data['Local']==equipo)|(data['Visitante']==equipo))]\n",
    "        puntos = 0\n",
    "        for i in range(len(data_usar)):\n",
    "            ganador = str(data_usar.iloc[i]['Ganador'])\n",
    "            if ganador == equipo:\n",
    "                puntos += 3\n",
    "            if ganador == 'Empate':\n",
    "                puntos +=1\n",
    "        tabla[equipo] = puntos\n",
    "    df = pd.DataFrame([[key, tabla[key]] for key in tabla.keys()], columns=['Equipo', 'Puntos'])\n",
    "    df = df.sort_values(by='Puntos',ascending = False).reset_index()\n",
    "    return df[['Equipo','Puntos']]"
   ]
  },
  {
   "cell_type": "code",
   "execution_count": 81,
   "metadata": {},
   "outputs": [
    {
     "data": {
      "text/html": [
       "<div>\n",
       "<style scoped>\n",
       "    .dataframe tbody tr th:only-of-type {\n",
       "        vertical-align: middle;\n",
       "    }\n",
       "\n",
       "    .dataframe tbody tr th {\n",
       "        vertical-align: top;\n",
       "    }\n",
       "\n",
       "    .dataframe thead th {\n",
       "        text-align: right;\n",
       "    }\n",
       "</style>\n",
       "<table border=\"1\" class=\"dataframe\">\n",
       "  <thead>\n",
       "    <tr style=\"text-align: right;\">\n",
       "      <th></th>\n",
       "      <th>Equipo</th>\n",
       "      <th>Puntos</th>\n",
       "    </tr>\n",
       "  </thead>\n",
       "  <tbody>\n",
       "    <tr>\n",
       "      <th>0</th>\n",
       "      <td>Real Madrid</td>\n",
       "      <td>78</td>\n",
       "    </tr>\n",
       "    <tr>\n",
       "      <th>1</th>\n",
       "      <td>Barcelona</td>\n",
       "      <td>63</td>\n",
       "    </tr>\n",
       "    <tr>\n",
       "      <th>2</th>\n",
       "      <td>Sevilla</td>\n",
       "      <td>63</td>\n",
       "    </tr>\n",
       "    <tr>\n",
       "      <th>3</th>\n",
       "      <td>Atlético Madrid</td>\n",
       "      <td>61</td>\n",
       "    </tr>\n",
       "    <tr>\n",
       "      <th>4</th>\n",
       "      <td>Betis</td>\n",
       "      <td>57</td>\n",
       "    </tr>\n",
       "    <tr>\n",
       "      <th>5</th>\n",
       "      <td>Real Sociedad</td>\n",
       "      <td>55</td>\n",
       "    </tr>\n",
       "    <tr>\n",
       "      <th>6</th>\n",
       "      <td>Villarreal</td>\n",
       "      <td>52</td>\n",
       "    </tr>\n",
       "    <tr>\n",
       "      <th>7</th>\n",
       "      <td>Athletic Club</td>\n",
       "      <td>48</td>\n",
       "    </tr>\n",
       "    <tr>\n",
       "      <th>8</th>\n",
       "      <td>Osasuna</td>\n",
       "      <td>44</td>\n",
       "    </tr>\n",
       "    <tr>\n",
       "      <th>9</th>\n",
       "      <td>Valencia</td>\n",
       "      <td>42</td>\n",
       "    </tr>\n",
       "    <tr>\n",
       "      <th>10</th>\n",
       "      <td>Rayo Vallecano</td>\n",
       "      <td>40</td>\n",
       "    </tr>\n",
       "    <tr>\n",
       "      <th>11</th>\n",
       "      <td>Celta Vigo</td>\n",
       "      <td>39</td>\n",
       "    </tr>\n",
       "    <tr>\n",
       "      <th>12</th>\n",
       "      <td>Espanyol</td>\n",
       "      <td>39</td>\n",
       "    </tr>\n",
       "    <tr>\n",
       "      <th>13</th>\n",
       "      <td>Elche</td>\n",
       "      <td>38</td>\n",
       "    </tr>\n",
       "    <tr>\n",
       "      <th>14</th>\n",
       "      <td>Getafe</td>\n",
       "      <td>35</td>\n",
       "    </tr>\n",
       "    <tr>\n",
       "      <th>15</th>\n",
       "      <td>Mallorca</td>\n",
       "      <td>32</td>\n",
       "    </tr>\n",
       "    <tr>\n",
       "      <th>16</th>\n",
       "      <td>Cádiz</td>\n",
       "      <td>31</td>\n",
       "    </tr>\n",
       "    <tr>\n",
       "      <th>17</th>\n",
       "      <td>Granada</td>\n",
       "      <td>30</td>\n",
       "    </tr>\n",
       "    <tr>\n",
       "      <th>18</th>\n",
       "      <td>Alavés</td>\n",
       "      <td>25</td>\n",
       "    </tr>\n",
       "    <tr>\n",
       "      <th>19</th>\n",
       "      <td>Levante</td>\n",
       "      <td>25</td>\n",
       "    </tr>\n",
       "  </tbody>\n",
       "</table>\n",
       "</div>"
      ],
      "text/plain": [
       "             Equipo  Puntos\n",
       "0       Real Madrid      78\n",
       "1         Barcelona      63\n",
       "2           Sevilla      63\n",
       "3   Atlético Madrid      61\n",
       "4             Betis      57\n",
       "5     Real Sociedad      55\n",
       "6        Villarreal      52\n",
       "7     Athletic Club      48\n",
       "8           Osasuna      44\n",
       "9          Valencia      42\n",
       "10   Rayo Vallecano      40\n",
       "11       Celta Vigo      39\n",
       "12         Espanyol      39\n",
       "13            Elche      38\n",
       "14           Getafe      35\n",
       "15         Mallorca      32\n",
       "16            Cádiz      31\n",
       "17          Granada      30\n",
       "18           Alavés      25\n",
       "19          Levante      25"
      ]
     },
     "execution_count": 81,
     "metadata": {},
     "output_type": "execute_result"
    }
   ],
   "source": [
    "tabla_33 = tabla_posicion(ej2122,33,equip2122)\n",
    "tabla_33"
   ]
  },
  {
   "cell_type": "code",
   "execution_count": 82,
   "metadata": {},
   "outputs": [],
   "source": [
    "ej2122 = laliga[(laliga['Temporada']=='21/22')&(laliga['Torneo']=='Primera division')]\n",
    "equip2122 = ej2122['Local'].unique().tolist()"
   ]
  },
  {
   "cell_type": "code",
   "execution_count": 94,
   "metadata": {},
   "outputs": [],
   "source": [
    "def tabla_posicion_equipo(data,fecha,equipos,eq):\n",
    "    tabla = {}\n",
    "    for equipo in equipos:\n",
    "        data_usar = data[(data['Wk']<=fecha)&((data['Local']==equipo)|(data['Visitante']==equipo))]\n",
    "        puntos = 0\n",
    "        for i in range(len(data_usar)):\n",
    "            ganador = str(data_usar.iloc[i]['Ganador'])\n",
    "            if ganador == equipo:\n",
    "                puntos += 3\n",
    "            if ganador == 'Empate':\n",
    "                puntos +=1\n",
    "        tabla[equipo] = puntos\n",
    "    df = pd.DataFrame([[key, tabla[key]] for key in tabla.keys()], columns=['Equipo', 'Puntos'])\n",
    "    df = df.sort_values(by='Puntos',ascending = False).reset_index()\n",
    "    df = df[['Equipo','Puntos']]\n",
    "    pos = df[df['Equipo']==eq].index.values[0]\n",
    "    return pos+1"
   ]
  },
  {
   "cell_type": "code",
   "execution_count": 95,
   "metadata": {},
   "outputs": [],
   "source": [
    "fechas = sorted(ej2122['Wk'].unique().tolist())"
   ]
  },
  {
   "cell_type": "code",
   "execution_count": 96,
   "metadata": {},
   "outputs": [],
   "source": [
    "fecha = 38\n",
    "equipo = \"Betis\""
   ]
  },
  {
   "cell_type": "code",
   "execution_count": 97,
   "metadata": {},
   "outputs": [],
   "source": [
    "posiciones = []\n",
    "for fec in fechas:\n",
    "    pos = tabla_posicion_equipo(ej2122,fec,equip2122,equipo)\n",
    "    posiciones.append(pos)\n",
    "    if fec == fecha:\n",
    "        break"
   ]
  },
  {
   "cell_type": "code",
   "execution_count": 98,
   "metadata": {},
   "outputs": [
    {
     "data": {
      "text/plain": [
       "[15,\n",
       " 15,\n",
       " 17,\n",
       " 11,\n",
       " 13,\n",
       " 10,\n",
       " 7,\n",
       " 11,\n",
       " 8,\n",
       " 5,\n",
       " 4,\n",
       " 5,\n",
       " 5,\n",
       " 5,\n",
       " 5,\n",
       " 3,\n",
       " 3,\n",
       " 3,\n",
       " 3,\n",
       " 3,\n",
       " 3,\n",
       " 3,\n",
       " 3,\n",
       " 3,\n",
       " 3,\n",
       " 3,\n",
       " 5,\n",
       " 5,\n",
       " 5,\n",
       " 5,\n",
       " 5,\n",
       " 5,\n",
       " 5,\n",
       " 5,\n",
       " 5,\n",
       " 5,\n",
       " 5,\n",
       " 5]"
      ]
     },
     "execution_count": 98,
     "metadata": {},
     "output_type": "execute_result"
    }
   ],
   "source": [
    "posiciones"
   ]
  },
  {
   "cell_type": "code",
   "execution_count": null,
   "metadata": {},
   "outputs": [],
   "source": []
  },
  {
   "cell_type": "code",
   "execution_count": null,
   "metadata": {},
   "outputs": [],
   "source": []
  },
  {
   "cell_type": "code",
   "execution_count": null,
   "metadata": {},
   "outputs": [],
   "source": []
  },
  {
   "cell_type": "code",
   "execution_count": null,
   "metadata": {},
   "outputs": [],
   "source": []
  },
  {
   "cell_type": "code",
   "execution_count": null,
   "metadata": {},
   "outputs": [],
   "source": []
  },
  {
   "cell_type": "code",
   "execution_count": null,
   "metadata": {},
   "outputs": [],
   "source": []
  },
  {
   "cell_type": "code",
   "execution_count": null,
   "metadata": {},
   "outputs": [],
   "source": [
    "cond_predominante_abs = laliga.groupby(['Resultado'])['Wk'].count().reset_index()\n",
    "cond_predominante_abs = cond_predominante_abs.set_axis(['Resultado', 'Cantidad'], axis='columns')"
   ]
  },
  {
   "cell_type": "code",
   "execution_count": null,
   "metadata": {},
   "outputs": [],
   "source": [
    "cond_predominante_abs"
   ]
  },
  {
   "cell_type": "code",
   "execution_count": null,
   "metadata": {},
   "outputs": [],
   "source": [
    "fig1 = px.pie(cond_predominante_abs, \n",
    "              values='Cantidad', \n",
    "              names='Resultado', \n",
    "              title='La liga 2016-2022',\n",
    "              color='Resultado',\n",
    "              color_discrete_map={'Local':'royalblue','Visitante':'orangered','Empate':'lightgreen'})\n",
    "\n",
    "fig1.update_traces(textposition='inside', textinfo='percent+value')\n",
    "fig1.show()"
   ]
  },
  {
   "cell_type": "code",
   "execution_count": null,
   "metadata": {},
   "outputs": [],
   "source": [
    "total_asist=laliga.groupby('Temporada')['Attendance'].agg('sum').reset_index()\n",
    "fig2 = px.line(total_asist, \n",
    "               x='Temporada', \n",
    "               y='Attendance',\n",
    "               title = 'Asistencia total por temporada de la Liga entre 2016-2022', line_shape='spline')\n",
    "fig2.show()"
   ]
  },
  {
   "cell_type": "code",
   "execution_count": null,
   "metadata": {},
   "outputs": [],
   "source": [
    "test1 = laliga.groupby('Local')['Goles Local'].agg('sum').reset_index()\n",
    "test1 = test1.rename(columns={'Local':'Equipo', 'Goles Local': 'Total de goles históricos de Local'})\n",
    "\n",
    "test2 = laliga.groupby('Visitante')['Goles Visitante'].agg('sum').reset_index()\n",
    "test2 = test2.rename(columns={'Goles Visitante': 'Total de goles históricos de Visitante'})"
   ]
  },
  {
   "cell_type": "code",
   "execution_count": null,
   "metadata": {},
   "outputs": [],
   "source": [
    "result = pd.concat([test1, test2], axis=1)\n",
    "dt = result.drop(['Visitante'], axis=1)"
   ]
  },
  {
   "cell_type": "code",
   "execution_count": null,
   "metadata": {},
   "outputs": [],
   "source": [
    "fig3 = px.bar(dt,\n",
    "              x=\"Equipo\",\n",
    "              y=['Total de goles históricos de Local', 'Total de goles históricos de Visitante'],\n",
    "              title='Total de goles desde 2016-2022 Equipos de LaLiga')\n",
    "fig3.show()"
   ]
  },
  {
   "cell_type": "markdown",
   "metadata": {},
   "source": [
    "# Construir un dashboard"
   ]
  },
  {
   "cell_type": "code",
   "execution_count": null,
   "metadata": {},
   "outputs": [],
   "source": [
    "laliga.columns"
   ]
  },
  {
   "cell_type": "code",
   "execution_count": null,
   "metadata": {},
   "outputs": [],
   "source": [
    "laliga = laliga.loc[:,['Wk','Date', 'Local', 'Score', 'Visitante', 'Temporada','Attendance']]\n",
    "segunda = segunda.loc[:,['Wk','Date', 'Local', 'Score', 'Visitante', 'Temporada','Attendance']]"
   ]
  },
  {
   "cell_type": "code",
   "execution_count": null,
   "metadata": {},
   "outputs": [],
   "source": [
    "\n",
    "segunda['Attendance'] = segunda['Attendance']*1000\n",
    "segunda['Torneo'] = 'Segunda division'"
   ]
  },
  {
   "cell_type": "code",
   "execution_count": null,
   "metadata": {},
   "outputs": [],
   "source": [
    "partidos6t = pd.concat([laliga,segunda], axis=0)"
   ]
  },
  {
   "cell_type": "code",
   "execution_count": null,
   "metadata": {},
   "outputs": [],
   "source": [
    "partidos6t"
   ]
  },
  {
   "cell_type": "code",
   "execution_count": null,
   "metadata": {},
   "outputs": [],
   "source": [
    "agrup_tortemp = partidos6t.groupby(['Torneo', 'Temporada'])['Attendance'].sum().reset_index()"
   ]
  },
  {
   "cell_type": "code",
   "execution_count": null,
   "metadata": {},
   "outputs": [],
   "source": [
    "agrup_tortemp"
   ]
  },
  {
   "cell_type": "code",
   "execution_count": null,
   "metadata": {},
   "outputs": [],
   "source": [
    "asist_pub = pd.DataFrame({\n",
    "    \"Primera division\": agrup_tortemp[agrup_tortemp['Torneo']=='Primera division']['Attendance'].to_list(),\n",
    "    \"Segunda division\": agrup_tortemp[agrup_tortemp['Torneo']=='Segunda division']['Attendance'].to_list()},\n",
    "    index=agrup_tortemp[agrup_tortemp['Torneo']=='Primera division']['Temporada'].to_list()\n",
    "    )"
   ]
  },
  {
   "cell_type": "code",
   "execution_count": null,
   "metadata": {},
   "outputs": [],
   "source": [
    "asist_pub"
   ]
  },
  {
   "cell_type": "code",
   "execution_count": null,
   "metadata": {},
   "outputs": [],
   "source": [
    "p_line = asist_pub.plot_bokeh(kind=\"line\", xlabel='Temporada', ylabel='Asistencia total', show_figure=False)"
   ]
  },
  {
   "cell_type": "code",
   "execution_count": null,
   "metadata": {},
   "outputs": [],
   "source": []
  }
 ],
 "metadata": {
  "kernelspec": {
   "display_name": ".env",
   "language": "python",
   "name": "python3"
  },
  "language_info": {
   "codemirror_mode": {
    "name": "ipython",
    "version": 3
   },
   "file_extension": ".py",
   "mimetype": "text/x-python",
   "name": "python",
   "nbconvert_exporter": "python",
   "pygments_lexer": "ipython3",
   "version": "3.12.2"
  }
 },
 "nbformat": 4,
 "nbformat_minor": 2
}
