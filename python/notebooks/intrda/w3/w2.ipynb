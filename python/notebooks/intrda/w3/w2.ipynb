{
 "cells": [
  {
   "cell_type": "code",
   "execution_count": 77,
   "metadata": {},
   "outputs": [],
   "source": [
    "import pandas as pd"
   ]
  },
  {
   "cell_type": "code",
   "execution_count": 78,
   "metadata": {},
   "outputs": [],
   "source": [
    "laliga_df2016_2017 = pd.read_excel(\"laligadata\\\\LaLiga16 17.xlsx\").dropna(how='all')\n",
    "laliga_df2017_2018 = pd.read_excel(\"laligadata\\\\LaLiga17 18.xlsx\").dropna(how='all')\n",
    "laliga_df2018_2019 = pd.read_excel(\"laligadata\\\\LaLiga18 19.xlsx\").dropna(how='all')\n",
    "laliga_df2019_2020 = pd.read_excel(\"laligadata\\\\LaLiga19 20.xlsx\").dropna(how='all')\n",
    "laliga_df2020_2021 = pd.read_excel(\"laligadata\\\\LaLiga20 21.xlsx\").dropna(how='all')\n",
    "laliga_df2021_2022 = pd.read_excel(\"laligadata\\\\LaLiga21 22.xlsx\").dropna(how='all')"
   ]
  },
  {
   "cell_type": "code",
   "execution_count": 79,
   "metadata": {},
   "outputs": [
    {
     "data": {
      "text/plain": [
       "array(['Wk', 'Day', 'Date', 'Time', 'Local', 'Score', 'Visitante',\n",
       "       'Attendance', 'Venue', 'Referee', 'Informe del partido', 'Notes'],\n",
       "      dtype=object)"
      ]
     },
     "execution_count": 79,
     "metadata": {},
     "output_type": "execute_result"
    }
   ],
   "source": [
    "laliga_df2016_2017.columns.values"
   ]
  },
  {
   "cell_type": "code",
   "execution_count": 80,
   "metadata": {},
   "outputs": [],
   "source": [
    "primera = pd.concat([laliga_df2016_2017, laliga_df2017_2018, laliga_df2018_2019, laliga_df2019_2020, laliga_df2020_2021, laliga_df2021_2022], ignore_index=True)"
   ]
  },
  {
   "cell_type": "code",
   "execution_count": 81,
   "metadata": {},
   "outputs": [
    {
     "data": {
      "text/html": [
       "<div>\n",
       "<style scoped>\n",
       "    .dataframe tbody tr th:only-of-type {\n",
       "        vertical-align: middle;\n",
       "    }\n",
       "\n",
       "    .dataframe tbody tr th {\n",
       "        vertical-align: top;\n",
       "    }\n",
       "\n",
       "    .dataframe thead th {\n",
       "        text-align: right;\n",
       "    }\n",
       "</style>\n",
       "<table border=\"1\" class=\"dataframe\">\n",
       "  <thead>\n",
       "    <tr style=\"text-align: right;\">\n",
       "      <th></th>\n",
       "      <th>Wk</th>\n",
       "      <th>Day</th>\n",
       "      <th>Date</th>\n",
       "      <th>Time</th>\n",
       "      <th>Local</th>\n",
       "      <th>Score</th>\n",
       "      <th>Visitante</th>\n",
       "      <th>Attendance</th>\n",
       "      <th>Venue</th>\n",
       "      <th>Referee</th>\n",
       "      <th>Informe del partido</th>\n",
       "      <th>Notes</th>\n",
       "      <th>xG</th>\n",
       "      <th>xG.1</th>\n",
       "    </tr>\n",
       "  </thead>\n",
       "  <tbody>\n",
       "    <tr>\n",
       "      <th>0</th>\n",
       "      <td>1.0</td>\n",
       "      <td>Vie</td>\n",
       "      <td>2016-08-19</td>\n",
       "      <td>20:45 (15:45)</td>\n",
       "      <td>Málaga</td>\n",
       "      <td>1–1</td>\n",
       "      <td>Osasuna</td>\n",
       "      <td>22.347</td>\n",
       "      <td>Estadio La Rosaleda</td>\n",
       "      <td>Santiago Jaime</td>\n",
       "      <td>Informe del partido</td>\n",
       "      <td>NaN</td>\n",
       "      <td>NaN</td>\n",
       "      <td>NaN</td>\n",
       "    </tr>\n",
       "    <tr>\n",
       "      <th>1</th>\n",
       "      <td>1.0</td>\n",
       "      <td>Vie</td>\n",
       "      <td>2016-08-19</td>\n",
       "      <td>22:00 (17:00)</td>\n",
       "      <td>La Coruña</td>\n",
       "      <td>2–1</td>\n",
       "      <td>Eibar</td>\n",
       "      <td>21.441</td>\n",
       "      <td>Estadio Municipal de Riazor</td>\n",
       "      <td>Mario Melero</td>\n",
       "      <td>Informe del partido</td>\n",
       "      <td>NaN</td>\n",
       "      <td>NaN</td>\n",
       "      <td>NaN</td>\n",
       "    </tr>\n",
       "  </tbody>\n",
       "</table>\n",
       "</div>"
      ],
      "text/plain": [
       "    Wk  Day       Date           Time      Local Score Visitante  Attendance  \\\n",
       "0  1.0  Vie 2016-08-19  20:45 (15:45)     Málaga   1–1   Osasuna      22.347   \n",
       "1  1.0  Vie 2016-08-19  22:00 (17:00)  La Coruña   2–1     Eibar      21.441   \n",
       "\n",
       "                         Venue         Referee  Informe del partido  Notes  \\\n",
       "0          Estadio La Rosaleda  Santiago Jaime  Informe del partido    NaN   \n",
       "1  Estadio Municipal de Riazor    Mario Melero  Informe del partido    NaN   \n",
       "\n",
       "   xG  xG.1  \n",
       "0 NaN   NaN  \n",
       "1 NaN   NaN  "
      ]
     },
     "execution_count": 81,
     "metadata": {},
     "output_type": "execute_result"
    }
   ],
   "source": [
    "primera.head(2)"
   ]
  },
  {
   "cell_type": "code",
   "execution_count": 82,
   "metadata": {},
   "outputs": [],
   "source": [
    "def total_goles(goles_str):\n",
    "    goles = goles_str.split(\"–\")\n",
    "    total_goles = int(goles[0]) + int(goles[1])\n",
    "    return total_goles"
   ]
  },
  {
   "cell_type": "code",
   "execution_count": 83,
   "metadata": {},
   "outputs": [],
   "source": [
    "def comp_goleslocal(marcador, xg):\n",
    "    goles = marcador.split(\"–\")\n",
    "    gol_local = int(goles[0])\n",
    "    if float(xg) > gol_local:\n",
    "        return 1\n",
    "    else:\n",
    "        return 0\n",
    "def comp_golesvisita(marcador, xg):\n",
    "    goles = marcador.split(\"–\")\n",
    "    gol_visita = int(goles[1])\n",
    "    if float(xg) > gol_visita:\n",
    "        return 1\n",
    "    else:\n",
    "        return 0"
   ]
  },
  {
   "cell_type": "code",
   "execution_count": 85,
   "metadata": {},
   "outputs": [],
   "source": [
    "primera['Total de goles'] = primera['Score'].apply(total_goles)"
   ]
  },
  {
   "cell_type": "code",
   "execution_count": 86,
   "metadata": {},
   "outputs": [],
   "source": [
    "primera['com_local_vs_xg'] = primera.apply(lambda x: comp_goleslocal(x['Score'], x['xG']), axis=1)\n",
    "primera['com_visita_vs_xg'] = primera.apply(lambda x: comp_golesvisita(x['Score'], x['xG.1']), axis=1)"
   ]
  },
  {
   "cell_type": "code",
   "execution_count": 88,
   "metadata": {},
   "outputs": [
    {
     "data": {
      "text/html": [
       "<div>\n",
       "<style scoped>\n",
       "    .dataframe tbody tr th:only-of-type {\n",
       "        vertical-align: middle;\n",
       "    }\n",
       "\n",
       "    .dataframe tbody tr th {\n",
       "        vertical-align: top;\n",
       "    }\n",
       "\n",
       "    .dataframe thead th {\n",
       "        text-align: right;\n",
       "    }\n",
       "</style>\n",
       "<table border=\"1\" class=\"dataframe\">\n",
       "  <thead>\n",
       "    <tr style=\"text-align: right;\">\n",
       "      <th></th>\n",
       "      <th>Date</th>\n",
       "      <th>Local</th>\n",
       "      <th>Score</th>\n",
       "      <th>Visitante</th>\n",
       "      <th>Total de goles</th>\n",
       "      <th>com_local_vs_xg</th>\n",
       "      <th>com_local_vs_xg</th>\n",
       "    </tr>\n",
       "  </thead>\n",
       "  <tbody>\n",
       "    <tr>\n",
       "      <th>0</th>\n",
       "      <td>2016-08-19</td>\n",
       "      <td>Málaga</td>\n",
       "      <td>1–1</td>\n",
       "      <td>Osasuna</td>\n",
       "      <td>2</td>\n",
       "      <td>0</td>\n",
       "      <td>0</td>\n",
       "    </tr>\n",
       "    <tr>\n",
       "      <th>1</th>\n",
       "      <td>2016-08-19</td>\n",
       "      <td>La Coruña</td>\n",
       "      <td>2–1</td>\n",
       "      <td>Eibar</td>\n",
       "      <td>3</td>\n",
       "      <td>0</td>\n",
       "      <td>0</td>\n",
       "    </tr>\n",
       "    <tr>\n",
       "      <th>2</th>\n",
       "      <td>2016-08-20</td>\n",
       "      <td>Barcelona</td>\n",
       "      <td>6–2</td>\n",
       "      <td>Betis</td>\n",
       "      <td>8</td>\n",
       "      <td>0</td>\n",
       "      <td>0</td>\n",
       "    </tr>\n",
       "    <tr>\n",
       "      <th>3</th>\n",
       "      <td>2016-08-20</td>\n",
       "      <td>Granada</td>\n",
       "      <td>1–1</td>\n",
       "      <td>Villarreal</td>\n",
       "      <td>2</td>\n",
       "      <td>0</td>\n",
       "      <td>0</td>\n",
       "    </tr>\n",
       "    <tr>\n",
       "      <th>4</th>\n",
       "      <td>2016-08-20</td>\n",
       "      <td>Sevilla</td>\n",
       "      <td>6–4</td>\n",
       "      <td>Espanyol</td>\n",
       "      <td>10</td>\n",
       "      <td>0</td>\n",
       "      <td>0</td>\n",
       "    </tr>\n",
       "    <tr>\n",
       "      <th>...</th>\n",
       "      <td>...</td>\n",
       "      <td>...</td>\n",
       "      <td>...</td>\n",
       "      <td>...</td>\n",
       "      <td>...</td>\n",
       "      <td>...</td>\n",
       "      <td>...</td>\n",
       "    </tr>\n",
       "    <tr>\n",
       "      <th>2275</th>\n",
       "      <td>2022-05-22</td>\n",
       "      <td>Alavés</td>\n",
       "      <td>0–1</td>\n",
       "      <td>Cádiz</td>\n",
       "      <td>1</td>\n",
       "      <td>1</td>\n",
       "      <td>1</td>\n",
       "    </tr>\n",
       "    <tr>\n",
       "      <th>2276</th>\n",
       "      <td>2022-05-22</td>\n",
       "      <td>Granada</td>\n",
       "      <td>0–0</td>\n",
       "      <td>Espanyol</td>\n",
       "      <td>0</td>\n",
       "      <td>1</td>\n",
       "      <td>1</td>\n",
       "    </tr>\n",
       "    <tr>\n",
       "      <th>2277</th>\n",
       "      <td>2022-05-22</td>\n",
       "      <td>Real Sociedad</td>\n",
       "      <td>1–2</td>\n",
       "      <td>Atlético Madrid</td>\n",
       "      <td>3</td>\n",
       "      <td>1</td>\n",
       "      <td>1</td>\n",
       "    </tr>\n",
       "    <tr>\n",
       "      <th>2278</th>\n",
       "      <td>2022-05-22</td>\n",
       "      <td>Barcelona</td>\n",
       "      <td>0–2</td>\n",
       "      <td>Villarreal</td>\n",
       "      <td>2</td>\n",
       "      <td>1</td>\n",
       "      <td>1</td>\n",
       "    </tr>\n",
       "    <tr>\n",
       "      <th>2279</th>\n",
       "      <td>2022-05-22</td>\n",
       "      <td>Sevilla</td>\n",
       "      <td>1–0</td>\n",
       "      <td>Athletic Club</td>\n",
       "      <td>1</td>\n",
       "      <td>1</td>\n",
       "      <td>1</td>\n",
       "    </tr>\n",
       "  </tbody>\n",
       "</table>\n",
       "<p>2280 rows × 7 columns</p>\n",
       "</div>"
      ],
      "text/plain": [
       "           Date          Local Score        Visitante  Total de goles  \\\n",
       "0    2016-08-19         Málaga   1–1          Osasuna               2   \n",
       "1    2016-08-19      La Coruña   2–1            Eibar               3   \n",
       "2    2016-08-20      Barcelona   6–2            Betis               8   \n",
       "3    2016-08-20        Granada   1–1       Villarreal               2   \n",
       "4    2016-08-20        Sevilla   6–4         Espanyol              10   \n",
       "...         ...            ...   ...              ...             ...   \n",
       "2275 2022-05-22         Alavés   0–1            Cádiz               1   \n",
       "2276 2022-05-22        Granada   0–0         Espanyol               0   \n",
       "2277 2022-05-22  Real Sociedad   1–2  Atlético Madrid               3   \n",
       "2278 2022-05-22      Barcelona   0–2       Villarreal               2   \n",
       "2279 2022-05-22        Sevilla   1–0    Athletic Club               1   \n",
       "\n",
       "      com_local_vs_xg  com_local_vs_xg  \n",
       "0                   0                0  \n",
       "1                   0                0  \n",
       "2                   0                0  \n",
       "3                   0                0  \n",
       "4                   0                0  \n",
       "...               ...              ...  \n",
       "2275                1                1  \n",
       "2276                1                1  \n",
       "2277                1                1  \n",
       "2278                1                1  \n",
       "2279                1                1  \n",
       "\n",
       "[2280 rows x 7 columns]"
      ]
     },
     "execution_count": 88,
     "metadata": {},
     "output_type": "execute_result"
    }
   ],
   "source": [
    "primera.loc[:, ['Date', 'Local', 'Score', 'Visitante', 'Total de goles', 'com_local_vs_xg', 'com_local_vs_xg']]"
   ]
  },
  {
   "cell_type": "code",
   "execution_count": 33,
   "metadata": {},
   "outputs": [],
   "source": [
    "laliga123_df2016_2017 = pd.read_excel(\"laligadata\\\\LaLiga123 16 17.xlsx\").dropna(how='all')\n",
    "laliga123_df2017_2018 = pd.read_excel(\"laligadata\\\\LaLiga123 17 18.xlsx\").dropna(how='all')\n",
    "laliga123_df2018_2019 = pd.read_excel(\"laligadata\\\\LaLiga123 18 19.xlsx\").dropna(how='all')\n",
    "laliga123_df2019_2020 = pd.read_excel(\"laligadata\\\\LaLiga123 19 20.xlsx\").dropna(how='all')\n",
    "laliga123_df2020_2021 = pd.read_excel(\"laligadata\\\\LaLiga123 20 21.xlsx\").dropna(how='all')\n",
    "laliga123_df2021_2022 = pd.read_excel(\"laligadata\\\\LaLiga123 21 22.xlsx\").dropna(how='all')"
   ]
  },
  {
   "cell_type": "code",
   "execution_count": 34,
   "metadata": {},
   "outputs": [
    {
     "data": {
      "text/plain": [
       "array(['Round', 'Wk', 'Day', 'Date', 'Time', 'Local', 'Score',\n",
       "       'Visitante', 'Attendance', 'Venue', 'Referee',\n",
       "       'Informe del partido', 'Notes'], dtype=object)"
      ]
     },
     "execution_count": 34,
     "metadata": {},
     "output_type": "execute_result"
    }
   ],
   "source": [
    "laliga123_df2016_2017.columns.values"
   ]
  },
  {
   "cell_type": "code",
   "execution_count": 35,
   "metadata": {},
   "outputs": [],
   "source": [
    "segunda = pd.concat([laliga123_df2016_2017,laliga123_df2017_2018,laliga123_df2018_2019,laliga123_df2019_2020,laliga123_df2020_2021,laliga123_df2021_2022 ], ignore_index=True)"
   ]
  },
  {
   "cell_type": "code",
   "execution_count": 37,
   "metadata": {},
   "outputs": [
    {
     "data": {
      "text/html": [
       "<div>\n",
       "<style scoped>\n",
       "    .dataframe tbody tr th:only-of-type {\n",
       "        vertical-align: middle;\n",
       "    }\n",
       "\n",
       "    .dataframe tbody tr th {\n",
       "        vertical-align: top;\n",
       "    }\n",
       "\n",
       "    .dataframe thead th {\n",
       "        text-align: right;\n",
       "    }\n",
       "</style>\n",
       "<table border=\"1\" class=\"dataframe\">\n",
       "  <thead>\n",
       "    <tr style=\"text-align: right;\">\n",
       "      <th></th>\n",
       "      <th>Round</th>\n",
       "      <th>Wk</th>\n",
       "      <th>Day</th>\n",
       "      <th>Date</th>\n",
       "      <th>Time</th>\n",
       "      <th>Local</th>\n",
       "      <th>Score</th>\n",
       "      <th>Visitante</th>\n",
       "      <th>Attendance</th>\n",
       "      <th>Venue</th>\n",
       "      <th>Referee</th>\n",
       "      <th>Informe del partido</th>\n",
       "      <th>Notes</th>\n",
       "    </tr>\n",
       "  </thead>\n",
       "  <tbody>\n",
       "    <tr>\n",
       "      <th>0</th>\n",
       "      <td>Temporada Regular</td>\n",
       "      <td>1.0</td>\n",
       "      <td>Vie</td>\n",
       "      <td>2016-08-19</td>\n",
       "      <td>20:00 (15:00)</td>\n",
       "      <td>Mirandés</td>\n",
       "      <td>1–1</td>\n",
       "      <td>Getafe</td>\n",
       "      <td>3.041</td>\n",
       "      <td>Estadio Municipal de Anduva</td>\n",
       "      <td>Alberola Rojas</td>\n",
       "      <td>Informe del partido</td>\n",
       "      <td>NaN</td>\n",
       "    </tr>\n",
       "    <tr>\n",
       "      <th>1</th>\n",
       "      <td>Temporada Regular</td>\n",
       "      <td>1.0</td>\n",
       "      <td>Vie</td>\n",
       "      <td>2016-08-19</td>\n",
       "      <td>22:00 (17:00)</td>\n",
       "      <td>Almería</td>\n",
       "      <td>1–1</td>\n",
       "      <td>Cádiz</td>\n",
       "      <td>8.771</td>\n",
       "      <td>Estadio de los Juegos Mediterráneos</td>\n",
       "      <td>Francisco Arias</td>\n",
       "      <td>Informe del partido</td>\n",
       "      <td>NaN</td>\n",
       "    </tr>\n",
       "  </tbody>\n",
       "</table>\n",
       "</div>"
      ],
      "text/plain": [
       "               Round   Wk  Day       Date           Time     Local Score  \\\n",
       "0  Temporada Regular  1.0  Vie 2016-08-19  20:00 (15:00)  Mirandés   1–1   \n",
       "1  Temporada Regular  1.0  Vie 2016-08-19  22:00 (17:00)   Almería   1–1   \n",
       "\n",
       "  Visitante  Attendance                                Venue          Referee  \\\n",
       "0    Getafe       3.041          Estadio Municipal de Anduva   Alberola Rojas   \n",
       "1     Cádiz       8.771  Estadio de los Juegos Mediterráneos  Francisco Arias   \n",
       "\n",
       "   Informe del partido Notes  \n",
       "0  Informe del partido   NaN  \n",
       "1  Informe del partido   NaN  "
      ]
     },
     "execution_count": 37,
     "metadata": {},
     "output_type": "execute_result"
    }
   ],
   "source": [
    "segunda.head(2)"
   ]
  },
  {
   "cell_type": "code",
   "execution_count": null,
   "metadata": {},
   "outputs": [],
   "source": []
  }
 ],
 "metadata": {
  "kernelspec": {
   "display_name": ".env",
   "language": "python",
   "name": "python3"
  },
  "language_info": {
   "codemirror_mode": {
    "name": "ipython",
    "version": 3
   },
   "file_extension": ".py",
   "mimetype": "text/x-python",
   "name": "python",
   "nbconvert_exporter": "python",
   "pygments_lexer": "ipython3",
   "version": "3.12.2"
  }
 },
 "nbformat": 4,
 "nbformat_minor": 2
}
