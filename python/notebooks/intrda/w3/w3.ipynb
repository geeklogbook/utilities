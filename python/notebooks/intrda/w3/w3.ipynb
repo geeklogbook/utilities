{
 "cells": [
  {
   "cell_type": "code",
   "execution_count": 150,
   "metadata": {},
   "outputs": [],
   "source": [
    "import pandas as pd"
   ]
  },
  {
   "cell_type": "code",
   "execution_count": null,
   "metadata": {},
   "outputs": [],
   "source": [
    "laliga_df2016_2017 = pd.read_excel(\"laligadata\\\\LaLiga16 17.xlsx\").dropna(how='all')\n",
    "laliga_df2017_2018 = pd.read_excel(\"laligadata\\\\LaLiga17 18.xlsx\").dropna(how='all')\n",
    "laliga_df2018_2019 = pd.read_excel(\"laligadata\\\\LaLiga18 19.xlsx\").dropna(how='all')\n",
    "laliga_df2019_2020 = pd.read_excel(\"laligadata\\\\LaLiga19 20.xlsx\").dropna(how='all')\n",
    "laliga_df2020_2021 = pd.read_excel(\"laligadata\\\\LaLiga20 21.xlsx\").dropna(how='all')\n",
    "laliga_df2021_2022 = pd.read_excel(\"laligadata\\\\LaLiga21 22.xlsx\").dropna(how='all')"
   ]
  },
  {
   "cell_type": "code",
   "execution_count": null,
   "metadata": {},
   "outputs": [],
   "source": [
    "laliga_df2016_2017.columns.values"
   ]
  },
  {
   "cell_type": "code",
   "execution_count": null,
   "metadata": {},
   "outputs": [],
   "source": [
    "primera = pd.concat([laliga_df2016_2017, laliga_df2017_2018, laliga_df2018_2019, laliga_df2019_2020, laliga_df2020_2021, laliga_df2021_2022], ignore_index=True)"
   ]
  },
  {
   "cell_type": "code",
   "execution_count": null,
   "metadata": {},
   "outputs": [],
   "source": [
    "primera.head(2)"
   ]
  },
  {
   "cell_type": "code",
   "execution_count": null,
   "metadata": {},
   "outputs": [],
   "source": [
    "def total_goles(goles_str):\n",
    "    goles = goles_str.split(\"–\")\n",
    "    total_goles = int(goles[0]) + int(goles[1])\n",
    "    return total_goles"
   ]
  },
  {
   "cell_type": "code",
   "execution_count": null,
   "metadata": {},
   "outputs": [],
   "source": [
    "def comp_goleslocal(marcador, xg):\n",
    "    goles = marcador.split(\"–\")\n",
    "    gol_local = int(goles[0])\n",
    "    if float(xg) > gol_local:\n",
    "        return 1\n",
    "    else:\n",
    "        return 0\n",
    "def comp_golesvisita(marcador, xg):\n",
    "    goles = marcador.split(\"–\")\n",
    "    gol_visita = int(goles[1])\n",
    "    if float(xg) > gol_visita:\n",
    "        return 1\n",
    "    else:\n",
    "        return 0"
   ]
  },
  {
   "cell_type": "code",
   "execution_count": null,
   "metadata": {},
   "outputs": [],
   "source": [
    "primera['Total de goles'] = primera['Score'].apply(total_goles)"
   ]
  },
  {
   "cell_type": "code",
   "execution_count": null,
   "metadata": {},
   "outputs": [],
   "source": [
    "primera['com_local_vs_xg'] = primera.apply(lambda x: comp_goleslocal(x['Score'], x['xG']), axis=1)\n",
    "primera['com_visita_vs_xg'] = primera.apply(lambda x: comp_golesvisita(x['Score'], x['xG.1']), axis=1)"
   ]
  },
  {
   "cell_type": "code",
   "execution_count": null,
   "metadata": {},
   "outputs": [],
   "source": [
    "primera.loc[:, ['Date', 'Local', 'Score', 'Visitante', 'Total de goles', 'com_local_vs_xg', 'com_local_vs_xg']].head(5)"
   ]
  },
  {
   "cell_type": "code",
   "execution_count": null,
   "metadata": {},
   "outputs": [],
   "source": [
    "laliga123_df2016_2017 = pd.read_excel(\"laligadata\\\\LaLiga123 16 17.xlsx\").dropna(how='all')\n",
    "laliga123_df2017_2018 = pd.read_excel(\"laligadata\\\\LaLiga123 17 18.xlsx\").dropna(how='all')\n",
    "laliga123_df2018_2019 = pd.read_excel(\"laligadata\\\\LaLiga123 18 19.xlsx\").dropna(how='all')\n",
    "laliga123_df2019_2020 = pd.read_excel(\"laligadata\\\\LaLiga123 19 20.xlsx\").dropna(how='all')\n",
    "laliga123_df2020_2021 = pd.read_excel(\"laligadata\\\\LaLiga123 20 21.xlsx\").dropna(how='all')\n",
    "laliga123_df2021_2022 = pd.read_excel(\"laligadata\\\\LaLiga123 21 22.xlsx\").dropna(how='all')"
   ]
  },
  {
   "cell_type": "code",
   "execution_count": null,
   "metadata": {},
   "outputs": [],
   "source": [
    "laliga123_df2016_2017.columns.values"
   ]
  },
  {
   "cell_type": "code",
   "execution_count": null,
   "metadata": {},
   "outputs": [],
   "source": [
    "segunda = pd.concat([laliga123_df2016_2017,laliga123_df2017_2018,laliga123_df2018_2019,laliga123_df2019_2020,laliga123_df2020_2021,laliga123_df2021_2022 ], ignore_index=True)"
   ]
  },
  {
   "cell_type": "code",
   "execution_count": null,
   "metadata": {},
   "outputs": [],
   "source": [
    "segunda.head(2)"
   ]
  },
  {
   "cell_type": "markdown",
   "metadata": {},
   "source": [
    "# Consolidated Information"
   ]
  },
  {
   "cell_type": "code",
   "execution_count": null,
   "metadata": {},
   "outputs": [],
   "source": [
    "primera.head(4)"
   ]
  },
  {
   "cell_type": "code",
   "execution_count": null,
   "metadata": {},
   "outputs": [],
   "source": [
    "laliga = primera.loc[:,['Wk', 'Date', 'Local', 'Score', 'Visitante', 'Attendance']]\n",
    "laliga['Attendance'] = laliga['Attendance'] * 1000\n",
    "laliga['Torneo'] = 'Primera Division'"
   ]
  },
  {
   "cell_type": "code",
   "execution_count": null,
   "metadata": {},
   "outputs": [],
   "source": [
    "laliga.head(3)"
   ]
  },
  {
   "cell_type": "code",
   "execution_count": null,
   "metadata": {},
   "outputs": [],
   "source": [
    "def golesvisita(marcador):\n",
    "    goles=marcador.split(\"–\")\n",
    "    return int(goles[1])\n",
    "def goleslocal(marcador):\n",
    "    goles=marcador.split(\"–\")\n",
    "    return int(goles[0])\n",
    "\n",
    "# laliga['Goles Local'] = laliga['Score'].apply(goleslocal)\n",
    "# laliga['Goles Visitante'] = laliga['Score'].apply(golesvisita)\n",
    "# laliga['Total goles partido'] = laliga['Goles Local'] + laliga['Goles Visitante'] "
   ]
  },
  {
   "cell_type": "code",
   "execution_count": null,
   "metadata": {},
   "outputs": [],
   "source": [
    "def resultado_equipo(string, local, visita):\n",
    "    goles= string.split(\"–\")\n",
    "    if int(goles[0])>int(goles[1]):\n",
    "        return local\n",
    "    if int(goles[0])<int(goles[1]):\n",
    "        return visita\n",
    "    else:\n",
    "        return \"Empate\"\n",
    "\n",
    "laliga['Ganador'] = laliga.apply(lambda x: resultado_equipo(x['Score'], x['Local'],x['Visitante']),axis=1)   "
   ]
  },
  {
   "cell_type": "code",
   "execution_count": null,
   "metadata": {},
   "outputs": [],
   "source": [
    "laliga.head(3)"
   ]
  },
  {
   "cell_type": "code",
   "execution_count": null,
   "metadata": {},
   "outputs": [],
   "source": [
    "def puntos(equipo1, equipo2, data):\n",
    "    usos = data[((data['Local']==equipo1)&(data['Visitante']==equipo2))|((data['Local']==equipo2)&(data['Visitante']==equipo1))]\n",
    "    puntos = 0\n",
    "    for i in range(len(usos)):\n",
    "        ganador = str(usos.iloc[i]['Ganador'])\n",
    "        if ganador == equipo1:\n",
    "            puntos += 3\n",
    "        if ganador == \"Empate\":\n",
    "            puntos =+ 1\n",
    "    return puntos\n"
   ]
  },
  {
   "cell_type": "code",
   "execution_count": null,
   "metadata": {},
   "outputs": [],
   "source": [
    "laliga['puntos'] = laliga.apply(lambda x: puntos(x['Local'],x['Visitante'],laliga),axis=1)"
   ]
  },
  {
   "cell_type": "code",
   "execution_count": null,
   "metadata": {},
   "outputs": [],
   "source": [
    "laliga"
   ]
  },
  {
   "cell_type": "code",
   "execution_count": null,
   "metadata": {},
   "outputs": [],
   "source": [
    "agrup_equip = laliga[laliga['Ganador'] != 'Empate'].groupby(['Ganador'])['Wk'].count().reset_index()[['Ganador']]\n",
    "agrup_equip"
   ]
  },
  {
   "cell_type": "code",
   "execution_count": null,
   "metadata": {},
   "outputs": [],
   "source": [
    "equipos = sorted(laliga['Local'].unique().tolist())\n",
    "equipos"
   ]
  },
  {
   "cell_type": "code",
   "execution_count": null,
   "metadata": {},
   "outputs": [],
   "source": [
    "for equipo in equipos:\n",
    "    agrup_equip[equipo] = agrup_equip.apply(lambda x: puntos(x['Ganador'], equipo, laliga), axis=1)"
   ]
  },
  {
   "cell_type": "code",
   "execution_count": null,
   "metadata": {},
   "outputs": [],
   "source": [
    "agrup_equip = agrup_equip.rename(columns={'Ganador':'Equipo1\\Equipo2'})\n",
    "agrup_equip.head(3)"
   ]
  },
  {
   "cell_type": "markdown",
   "metadata": {},
   "source": [
    "# Summative"
   ]
  },
  {
   "cell_type": "markdown",
   "metadata": {},
   "source": [
    "## Question 1"
   ]
  },
  {
   "cell_type": "code",
   "execution_count": 192,
   "metadata": {},
   "outputs": [],
   "source": [
    "laliga_df2021_2022 = pd.read_excel(\"laligadata\\\\LaLiga21 22.xlsx\").dropna(how='all')\n",
    "laliga_df2021_2022 = laliga_df2021_2022.loc[:,['Wk', 'Date', 'Local', 'Score', 'Visitante', 'Attendance']]"
   ]
  },
  {
   "cell_type": "code",
   "execution_count": 193,
   "metadata": {},
   "outputs": [],
   "source": [
    "team = \"Real Sociedad\"\n",
    "filter_local = laliga_df2021_2022['Local'] == team\n",
    "filter_visitante = laliga_df2021_2022['Visitante'] == team\n",
    "filter_week_inicio = laliga_df2021_2022['Wk'] >= 30\n",
    "filter_week_final = laliga_df2021_2022['Wk'] <= 30\n",
    "laliga_df2021_2022 = laliga_df2021_2022[(filter_week_inicio)]\n",
    "#laliga_df2021_2022 ['Goles Local'] = laliga_df2021_2022 ['Score'].apply(goleslocal)\n",
    "#laliga_df2021_2022 ['Goles Visitante'] = laliga_df2021_2022 ['Score'].apply(golesvisita)\n",
    "#laliga_df2021_2022 ['Total goles partido'] = laliga_df2021_2022 ['Goles Local'] + laliga_df2021_2022 ['Goles Visitante'] \n",
    "#laliga_df2021_2022['Ganador'] = laliga_df2021_2022.apply(lambda x: resultado_equipo(x['Score'], x['Local'],x['Visitante']),axis=1) \n",
    "#laliga_df2021_2022['puntos']  = laliga_df2021_2022.apply(lambda x: puntos(x['Local'],x['Visitante'],laliga_df2021_2022),axis=1)"
   ]
  },
  {
   "cell_type": "code",
   "execution_count": 194,
   "metadata": {},
   "outputs": [
    {
     "data": {
      "text/plain": [
       "Wk                   float64\n",
       "Date          datetime64[ns]\n",
       "Local                 object\n",
       "Score                 object\n",
       "Visitante             object\n",
       "Attendance           float64\n",
       "dtype: object"
      ]
     },
     "execution_count": 194,
     "metadata": {},
     "output_type": "execute_result"
    }
   ],
   "source": [
    "laliga_df2021_2022.dtypes"
   ]
  },
  {
   "cell_type": "code",
   "execution_count": 195,
   "metadata": {},
   "outputs": [],
   "source": [
    "laliga_df2021_2022[\"gente\"] = laliga_df2021_2022['Attendance'] * 1000 "
   ]
  },
  {
   "cell_type": "code",
   "execution_count": 196,
   "metadata": {},
   "outputs": [
    {
     "data": {
      "text/plain": [
       "2392319.0"
      ]
     },
     "execution_count": 196,
     "metadata": {},
     "output_type": "execute_result"
    }
   ],
   "source": [
    "laliga_df2021_2022[\"gente\"].sum()"
   ]
  },
  {
   "cell_type": "code",
   "execution_count": 178,
   "metadata": {},
   "outputs": [
    {
     "data": {
      "text/html": [
       "<div>\n",
       "<style scoped>\n",
       "    .dataframe tbody tr th:only-of-type {\n",
       "        vertical-align: middle;\n",
       "    }\n",
       "\n",
       "    .dataframe tbody tr th {\n",
       "        vertical-align: top;\n",
       "    }\n",
       "\n",
       "    .dataframe thead th {\n",
       "        text-align: right;\n",
       "    }\n",
       "</style>\n",
       "<table border=\"1\" class=\"dataframe\">\n",
       "  <thead>\n",
       "    <tr style=\"text-align: right;\">\n",
       "      <th></th>\n",
       "      <th>Wk</th>\n",
       "      <th>Date</th>\n",
       "      <th>Local</th>\n",
       "      <th>Score</th>\n",
       "      <th>Visitante</th>\n",
       "      <th>Attendance</th>\n",
       "    </tr>\n",
       "  </thead>\n",
       "  <tbody>\n",
       "    <tr>\n",
       "      <th>0</th>\n",
       "      <td>1.0</td>\n",
       "      <td>2021-08-13</td>\n",
       "      <td>Valencia</td>\n",
       "      <td>1–0</td>\n",
       "      <td>Getafe</td>\n",
       "      <td>9.868</td>\n",
       "    </tr>\n",
       "    <tr>\n",
       "      <th>1</th>\n",
       "      <td>1.0</td>\n",
       "      <td>2021-08-14</td>\n",
       "      <td>Cádiz</td>\n",
       "      <td>1–1</td>\n",
       "      <td>Levante</td>\n",
       "      <td>6.941</td>\n",
       "    </tr>\n",
       "    <tr>\n",
       "      <th>2</th>\n",
       "      <td>1.0</td>\n",
       "      <td>2021-08-14</td>\n",
       "      <td>Mallorca</td>\n",
       "      <td>1–1</td>\n",
       "      <td>Betis</td>\n",
       "      <td>6.279</td>\n",
       "    </tr>\n",
       "    <tr>\n",
       "      <th>3</th>\n",
       "      <td>1.0</td>\n",
       "      <td>2021-08-14</td>\n",
       "      <td>Osasuna</td>\n",
       "      <td>0–0</td>\n",
       "      <td>Espanyol</td>\n",
       "      <td>6.715</td>\n",
       "    </tr>\n",
       "    <tr>\n",
       "      <th>4</th>\n",
       "      <td>1.0</td>\n",
       "      <td>2021-08-14</td>\n",
       "      <td>Alavés</td>\n",
       "      <td>1–4</td>\n",
       "      <td>Real Madrid</td>\n",
       "      <td>3.968</td>\n",
       "    </tr>\n",
       "    <tr>\n",
       "      <th>5</th>\n",
       "      <td>1.0</td>\n",
       "      <td>2021-08-15</td>\n",
       "      <td>Celta Vigo</td>\n",
       "      <td>1–2</td>\n",
       "      <td>Atlético Madrid</td>\n",
       "      <td>5.401</td>\n",
       "    </tr>\n",
       "    <tr>\n",
       "      <th>6</th>\n",
       "      <td>1.0</td>\n",
       "      <td>2021-08-15</td>\n",
       "      <td>Barcelona</td>\n",
       "      <td>4–2</td>\n",
       "      <td>Real Sociedad</td>\n",
       "      <td>20.384</td>\n",
       "    </tr>\n",
       "    <tr>\n",
       "      <th>7</th>\n",
       "      <td>1.0</td>\n",
       "      <td>2021-08-15</td>\n",
       "      <td>Sevilla</td>\n",
       "      <td>3–0</td>\n",
       "      <td>Rayo Vallecano</td>\n",
       "      <td>13.962</td>\n",
       "    </tr>\n",
       "    <tr>\n",
       "      <th>8</th>\n",
       "      <td>1.0</td>\n",
       "      <td>2021-08-16</td>\n",
       "      <td>Villarreal</td>\n",
       "      <td>0–0</td>\n",
       "      <td>Granada</td>\n",
       "      <td>7.837</td>\n",
       "    </tr>\n",
       "    <tr>\n",
       "      <th>9</th>\n",
       "      <td>1.0</td>\n",
       "      <td>2021-08-16</td>\n",
       "      <td>Elche</td>\n",
       "      <td>0–0</td>\n",
       "      <td>Athletic Club</td>\n",
       "      <td>9.145</td>\n",
       "    </tr>\n",
       "    <tr>\n",
       "      <th>11</th>\n",
       "      <td>2.0</td>\n",
       "      <td>2021-08-20</td>\n",
       "      <td>Betis</td>\n",
       "      <td>1–1</td>\n",
       "      <td>Cádiz</td>\n",
       "      <td>23.745</td>\n",
       "    </tr>\n",
       "    <tr>\n",
       "      <th>12</th>\n",
       "      <td>2.0</td>\n",
       "      <td>2021-08-21</td>\n",
       "      <td>Alavés</td>\n",
       "      <td>0–1</td>\n",
       "      <td>Mallorca</td>\n",
       "      <td>2.896</td>\n",
       "    </tr>\n",
       "    <tr>\n",
       "      <th>13</th>\n",
       "      <td>2.0</td>\n",
       "      <td>2021-08-21</td>\n",
       "      <td>Granada</td>\n",
       "      <td>1–1</td>\n",
       "      <td>Valencia</td>\n",
       "      <td>6.267</td>\n",
       "    </tr>\n",
       "    <tr>\n",
       "      <th>14</th>\n",
       "      <td>2.0</td>\n",
       "      <td>2021-08-21</td>\n",
       "      <td>Espanyol</td>\n",
       "      <td>0–0</td>\n",
       "      <td>Villarreal</td>\n",
       "      <td>11.095</td>\n",
       "    </tr>\n",
       "    <tr>\n",
       "      <th>15</th>\n",
       "      <td>2.0</td>\n",
       "      <td>2021-08-21</td>\n",
       "      <td>Athletic Club</td>\n",
       "      <td>1–1</td>\n",
       "      <td>Barcelona</td>\n",
       "      <td>9.394</td>\n",
       "    </tr>\n",
       "    <tr>\n",
       "      <th>16</th>\n",
       "      <td>2.0</td>\n",
       "      <td>2021-08-22</td>\n",
       "      <td>Real Sociedad</td>\n",
       "      <td>1–0</td>\n",
       "      <td>Rayo Vallecano</td>\n",
       "      <td>7.652</td>\n",
       "    </tr>\n",
       "    <tr>\n",
       "      <th>17</th>\n",
       "      <td>2.0</td>\n",
       "      <td>2021-08-22</td>\n",
       "      <td>Atlético Madrid</td>\n",
       "      <td>1–0</td>\n",
       "      <td>Elche</td>\n",
       "      <td>24.926</td>\n",
       "    </tr>\n",
       "    <tr>\n",
       "      <th>18</th>\n",
       "      <td>2.0</td>\n",
       "      <td>2021-08-22</td>\n",
       "      <td>Levante</td>\n",
       "      <td>3–3</td>\n",
       "      <td>Real Madrid</td>\n",
       "      <td>9.838</td>\n",
       "    </tr>\n",
       "    <tr>\n",
       "      <th>19</th>\n",
       "      <td>2.0</td>\n",
       "      <td>2021-08-23</td>\n",
       "      <td>Getafe</td>\n",
       "      <td>0–1</td>\n",
       "      <td>Sevilla</td>\n",
       "      <td>4.810</td>\n",
       "    </tr>\n",
       "    <tr>\n",
       "      <th>20</th>\n",
       "      <td>2.0</td>\n",
       "      <td>2021-08-23</td>\n",
       "      <td>Osasuna</td>\n",
       "      <td>0–0</td>\n",
       "      <td>Celta Vigo</td>\n",
       "      <td>7.189</td>\n",
       "    </tr>\n",
       "    <tr>\n",
       "      <th>22</th>\n",
       "      <td>3.0</td>\n",
       "      <td>2021-08-27</td>\n",
       "      <td>Mallorca</td>\n",
       "      <td>1–0</td>\n",
       "      <td>Espanyol</td>\n",
       "      <td>7.529</td>\n",
       "    </tr>\n",
       "    <tr>\n",
       "      <th>23</th>\n",
       "      <td>3.0</td>\n",
       "      <td>2021-08-27</td>\n",
       "      <td>Valencia</td>\n",
       "      <td>3–0</td>\n",
       "      <td>Alavés</td>\n",
       "      <td>10.627</td>\n",
       "    </tr>\n",
       "    <tr>\n",
       "      <th>24</th>\n",
       "      <td>3.0</td>\n",
       "      <td>2021-08-28</td>\n",
       "      <td>Celta Vigo</td>\n",
       "      <td>0–1</td>\n",
       "      <td>Athletic Club</td>\n",
       "      <td>5.492</td>\n",
       "    </tr>\n",
       "    <tr>\n",
       "      <th>25</th>\n",
       "      <td>3.0</td>\n",
       "      <td>2021-08-28</td>\n",
       "      <td>Real Sociedad</td>\n",
       "      <td>1–0</td>\n",
       "      <td>Levante</td>\n",
       "      <td>7.758</td>\n",
       "    </tr>\n",
       "    <tr>\n",
       "      <th>26</th>\n",
       "      <td>3.0</td>\n",
       "      <td>2021-08-28</td>\n",
       "      <td>Elche</td>\n",
       "      <td>1–1</td>\n",
       "      <td>Sevilla</td>\n",
       "      <td>10.385</td>\n",
       "    </tr>\n",
       "    <tr>\n",
       "      <th>27</th>\n",
       "      <td>3.0</td>\n",
       "      <td>2021-08-28</td>\n",
       "      <td>Betis</td>\n",
       "      <td>0–1</td>\n",
       "      <td>Real Madrid</td>\n",
       "      <td>22.590</td>\n",
       "    </tr>\n",
       "    <tr>\n",
       "      <th>28</th>\n",
       "      <td>3.0</td>\n",
       "      <td>2021-08-29</td>\n",
       "      <td>Barcelona</td>\n",
       "      <td>2–1</td>\n",
       "      <td>Getafe</td>\n",
       "      <td>26.543</td>\n",
       "    </tr>\n",
       "    <tr>\n",
       "      <th>29</th>\n",
       "      <td>3.0</td>\n",
       "      <td>2021-08-29</td>\n",
       "      <td>Rayo Vallecano</td>\n",
       "      <td>4–0</td>\n",
       "      <td>Granada</td>\n",
       "      <td>583.000</td>\n",
       "    </tr>\n",
       "    <tr>\n",
       "      <th>30</th>\n",
       "      <td>3.0</td>\n",
       "      <td>2021-08-29</td>\n",
       "      <td>Cádiz</td>\n",
       "      <td>2–3</td>\n",
       "      <td>Osasuna</td>\n",
       "      <td>7.452</td>\n",
       "    </tr>\n",
       "    <tr>\n",
       "      <th>31</th>\n",
       "      <td>3.0</td>\n",
       "      <td>2021-08-29</td>\n",
       "      <td>Atlético Madrid</td>\n",
       "      <td>2–2</td>\n",
       "      <td>Villarreal</td>\n",
       "      <td>26.840</td>\n",
       "    </tr>\n",
       "    <tr>\n",
       "      <th>33</th>\n",
       "      <td>4.0</td>\n",
       "      <td>2021-09-11</td>\n",
       "      <td>Levante</td>\n",
       "      <td>1–1</td>\n",
       "      <td>Rayo Vallecano</td>\n",
       "      <td>12.974</td>\n",
       "    </tr>\n",
       "    <tr>\n",
       "      <th>34</th>\n",
       "      <td>4.0</td>\n",
       "      <td>2021-09-11</td>\n",
       "      <td>Athletic Club</td>\n",
       "      <td>2–0</td>\n",
       "      <td>Mallorca</td>\n",
       "      <td>14.566</td>\n",
       "    </tr>\n",
       "    <tr>\n",
       "      <th>35</th>\n",
       "      <td>4.0</td>\n",
       "      <td>2021-09-12</td>\n",
       "      <td>Espanyol</td>\n",
       "      <td>1–2</td>\n",
       "      <td>Atlético Madrid</td>\n",
       "      <td>15.321</td>\n",
       "    </tr>\n",
       "    <tr>\n",
       "      <th>36</th>\n",
       "      <td>4.0</td>\n",
       "      <td>2021-09-12</td>\n",
       "      <td>Osasuna</td>\n",
       "      <td>1–4</td>\n",
       "      <td>Valencia</td>\n",
       "      <td>13.940</td>\n",
       "    </tr>\n",
       "    <tr>\n",
       "      <th>37</th>\n",
       "      <td>4.0</td>\n",
       "      <td>2021-09-12</td>\n",
       "      <td>Cádiz</td>\n",
       "      <td>0–2</td>\n",
       "      <td>Real Sociedad</td>\n",
       "      <td>11.826</td>\n",
       "    </tr>\n",
       "    <tr>\n",
       "      <th>38</th>\n",
       "      <td>4.0</td>\n",
       "      <td>2021-09-12</td>\n",
       "      <td>Real Madrid</td>\n",
       "      <td>5–2</td>\n",
       "      <td>Celta Vigo</td>\n",
       "      <td>19.874</td>\n",
       "    </tr>\n",
       "    <tr>\n",
       "      <th>39</th>\n",
       "      <td>4.0</td>\n",
       "      <td>2021-09-13</td>\n",
       "      <td>Getafe</td>\n",
       "      <td>0–1</td>\n",
       "      <td>Elche</td>\n",
       "      <td>6.853</td>\n",
       "    </tr>\n",
       "    <tr>\n",
       "      <th>40</th>\n",
       "      <td>4.0</td>\n",
       "      <td>2021-09-13</td>\n",
       "      <td>Granada</td>\n",
       "      <td>1–2</td>\n",
       "      <td>Betis</td>\n",
       "      <td>10.201</td>\n",
       "    </tr>\n",
       "    <tr>\n",
       "      <th>42</th>\n",
       "      <td>5.0</td>\n",
       "      <td>2021-09-17</td>\n",
       "      <td>Celta Vigo</td>\n",
       "      <td>1–2</td>\n",
       "      <td>Cádiz</td>\n",
       "      <td>6.754</td>\n",
       "    </tr>\n",
       "    <tr>\n",
       "      <th>43</th>\n",
       "      <td>5.0</td>\n",
       "      <td>2021-09-18</td>\n",
       "      <td>Rayo Vallecano</td>\n",
       "      <td>3–0</td>\n",
       "      <td>Getafe</td>\n",
       "      <td>3.280</td>\n",
       "    </tr>\n",
       "    <tr>\n",
       "      <th>44</th>\n",
       "      <td>5.0</td>\n",
       "      <td>2021-09-18</td>\n",
       "      <td>Atlético Madrid</td>\n",
       "      <td>0–0</td>\n",
       "      <td>Athletic Club</td>\n",
       "      <td>38.798</td>\n",
       "    </tr>\n",
       "    <tr>\n",
       "      <th>45</th>\n",
       "      <td>5.0</td>\n",
       "      <td>2021-09-18</td>\n",
       "      <td>Elche</td>\n",
       "      <td>1–1</td>\n",
       "      <td>Levante</td>\n",
       "      <td>11.507</td>\n",
       "    </tr>\n",
       "    <tr>\n",
       "      <th>46</th>\n",
       "      <td>5.0</td>\n",
       "      <td>2021-09-18</td>\n",
       "      <td>Alavés</td>\n",
       "      <td>0–2</td>\n",
       "      <td>Osasuna</td>\n",
       "      <td>8.176</td>\n",
       "    </tr>\n",
       "    <tr>\n",
       "      <th>47</th>\n",
       "      <td>5.0</td>\n",
       "      <td>2021-09-19</td>\n",
       "      <td>Mallorca</td>\n",
       "      <td>0–0</td>\n",
       "      <td>Villarreal</td>\n",
       "      <td>9.168</td>\n",
       "    </tr>\n",
       "    <tr>\n",
       "      <th>48</th>\n",
       "      <td>5.0</td>\n",
       "      <td>2021-09-19</td>\n",
       "      <td>Real Sociedad</td>\n",
       "      <td>0–0</td>\n",
       "      <td>Sevilla</td>\n",
       "      <td>23.757</td>\n",
       "    </tr>\n",
       "    <tr>\n",
       "      <th>49</th>\n",
       "      <td>5.0</td>\n",
       "      <td>2021-09-19</td>\n",
       "      <td>Betis</td>\n",
       "      <td>2–2</td>\n",
       "      <td>Espanyol</td>\n",
       "      <td>30.189</td>\n",
       "    </tr>\n",
       "    <tr>\n",
       "      <th>50</th>\n",
       "      <td>5.0</td>\n",
       "      <td>2021-09-19</td>\n",
       "      <td>Valencia</td>\n",
       "      <td>1–2</td>\n",
       "      <td>Real Madrid</td>\n",
       "      <td>26.689</td>\n",
       "    </tr>\n",
       "    <tr>\n",
       "      <th>51</th>\n",
       "      <td>5.0</td>\n",
       "      <td>2021-09-20</td>\n",
       "      <td>Barcelona</td>\n",
       "      <td>1–1</td>\n",
       "      <td>Granada</td>\n",
       "      <td>27.097</td>\n",
       "    </tr>\n",
       "    <tr>\n",
       "      <th>53</th>\n",
       "      <td>6.0</td>\n",
       "      <td>2021-09-21</td>\n",
       "      <td>Getafe</td>\n",
       "      <td>1–2</td>\n",
       "      <td>Atlético Madrid</td>\n",
       "      <td>8.950</td>\n",
       "    </tr>\n",
       "    <tr>\n",
       "      <th>54</th>\n",
       "      <td>6.0</td>\n",
       "      <td>2021-09-21</td>\n",
       "      <td>Levante</td>\n",
       "      <td>0–2</td>\n",
       "      <td>Celta Vigo</td>\n",
       "      <td>11.989</td>\n",
       "    </tr>\n",
       "  </tbody>\n",
       "</table>\n",
       "</div>"
      ],
      "text/plain": [
       "     Wk       Date            Local Score        Visitante  Attendance\n",
       "0   1.0 2021-08-13         Valencia   1–0           Getafe       9.868\n",
       "1   1.0 2021-08-14            Cádiz   1–1          Levante       6.941\n",
       "2   1.0 2021-08-14         Mallorca   1–1            Betis       6.279\n",
       "3   1.0 2021-08-14          Osasuna   0–0         Espanyol       6.715\n",
       "4   1.0 2021-08-14           Alavés   1–4      Real Madrid       3.968\n",
       "5   1.0 2021-08-15       Celta Vigo   1–2  Atlético Madrid       5.401\n",
       "6   1.0 2021-08-15        Barcelona   4–2    Real Sociedad      20.384\n",
       "7   1.0 2021-08-15          Sevilla   3–0   Rayo Vallecano      13.962\n",
       "8   1.0 2021-08-16       Villarreal   0–0          Granada       7.837\n",
       "9   1.0 2021-08-16            Elche   0–0    Athletic Club       9.145\n",
       "11  2.0 2021-08-20            Betis   1–1            Cádiz      23.745\n",
       "12  2.0 2021-08-21           Alavés   0–1         Mallorca       2.896\n",
       "13  2.0 2021-08-21          Granada   1–1         Valencia       6.267\n",
       "14  2.0 2021-08-21         Espanyol   0–0       Villarreal      11.095\n",
       "15  2.0 2021-08-21    Athletic Club   1–1        Barcelona       9.394\n",
       "16  2.0 2021-08-22    Real Sociedad   1–0   Rayo Vallecano       7.652\n",
       "17  2.0 2021-08-22  Atlético Madrid   1–0            Elche      24.926\n",
       "18  2.0 2021-08-22          Levante   3–3      Real Madrid       9.838\n",
       "19  2.0 2021-08-23           Getafe   0–1          Sevilla       4.810\n",
       "20  2.0 2021-08-23          Osasuna   0–0       Celta Vigo       7.189\n",
       "22  3.0 2021-08-27         Mallorca   1–0         Espanyol       7.529\n",
       "23  3.0 2021-08-27         Valencia   3–0           Alavés      10.627\n",
       "24  3.0 2021-08-28       Celta Vigo   0–1    Athletic Club       5.492\n",
       "25  3.0 2021-08-28    Real Sociedad   1–0          Levante       7.758\n",
       "26  3.0 2021-08-28            Elche   1–1          Sevilla      10.385\n",
       "27  3.0 2021-08-28            Betis   0–1      Real Madrid      22.590\n",
       "28  3.0 2021-08-29        Barcelona   2–1           Getafe      26.543\n",
       "29  3.0 2021-08-29   Rayo Vallecano   4–0          Granada     583.000\n",
       "30  3.0 2021-08-29            Cádiz   2–3          Osasuna       7.452\n",
       "31  3.0 2021-08-29  Atlético Madrid   2–2       Villarreal      26.840\n",
       "33  4.0 2021-09-11          Levante   1–1   Rayo Vallecano      12.974\n",
       "34  4.0 2021-09-11    Athletic Club   2–0         Mallorca      14.566\n",
       "35  4.0 2021-09-12         Espanyol   1–2  Atlético Madrid      15.321\n",
       "36  4.0 2021-09-12          Osasuna   1–4         Valencia      13.940\n",
       "37  4.0 2021-09-12            Cádiz   0–2    Real Sociedad      11.826\n",
       "38  4.0 2021-09-12      Real Madrid   5–2       Celta Vigo      19.874\n",
       "39  4.0 2021-09-13           Getafe   0–1            Elche       6.853\n",
       "40  4.0 2021-09-13          Granada   1–2            Betis      10.201\n",
       "42  5.0 2021-09-17       Celta Vigo   1–2            Cádiz       6.754\n",
       "43  5.0 2021-09-18   Rayo Vallecano   3–0           Getafe       3.280\n",
       "44  5.0 2021-09-18  Atlético Madrid   0–0    Athletic Club      38.798\n",
       "45  5.0 2021-09-18            Elche   1–1          Levante      11.507\n",
       "46  5.0 2021-09-18           Alavés   0–2          Osasuna       8.176\n",
       "47  5.0 2021-09-19         Mallorca   0–0       Villarreal       9.168\n",
       "48  5.0 2021-09-19    Real Sociedad   0–0          Sevilla      23.757\n",
       "49  5.0 2021-09-19            Betis   2–2         Espanyol      30.189\n",
       "50  5.0 2021-09-19         Valencia   1–2      Real Madrid      26.689\n",
       "51  5.0 2021-09-20        Barcelona   1–1          Granada      27.097\n",
       "53  6.0 2021-09-21           Getafe   1–2  Atlético Madrid       8.950\n",
       "54  6.0 2021-09-21          Levante   0–2       Celta Vigo      11.989"
      ]
     },
     "execution_count": 178,
     "metadata": {},
     "output_type": "execute_result"
    }
   ],
   "source": [
    "laliga_df2021_2022.head(50)\n",
    "#Mallorca"
   ]
  },
  {
   "cell_type": "code",
   "execution_count": null,
   "metadata": {},
   "outputs": [],
   "source": []
  },
  {
   "cell_type": "code",
   "execution_count": 167,
   "metadata": {},
   "outputs": [],
   "source": [
    "def goals_favour(df, team):\n",
    "    home_goals = df.loc[df['Local'] == team, 'Goles Local'].sum()\n",
    "    away_goals = df.loc[df['Visitante'] == team, 'Goles Visitante'].sum()\n",
    "    total_goals = home_goals + away_goals\n",
    "    \n",
    "    return total_goals\n",
    "\n",
    "def goals_against(df, team):\n",
    "    home_goals_against = df.loc[df['Local'] == team, 'Goles Visitante'].sum()\n",
    "    away_goals_against = df.loc[df['Visitante'] == team, 'Goles Local'].sum()\n",
    "    total_goals_against = home_goals_against + away_goals_against\n",
    "    \n",
    "    return total_goals_against"
   ]
  },
  {
   "cell_type": "code",
   "execution_count": 168,
   "metadata": {},
   "outputs": [
    {
     "data": {
      "text/plain": [
       "22"
      ]
     },
     "execution_count": 168,
     "metadata": {},
     "output_type": "execute_result"
    }
   ],
   "source": [
    "goals_favour(laliga_df2021_2022, team)"
   ]
  },
  {
   "cell_type": "code",
   "execution_count": 155,
   "metadata": {},
   "outputs": [
    {
     "data": {
      "text/plain": [
       "16"
      ]
     },
     "execution_count": 155,
     "metadata": {},
     "output_type": "execute_result"
    }
   ],
   "source": [
    "goals_against(laliga_df2021_2022, team)"
   ]
  },
  {
   "cell_type": "code",
   "execution_count": null,
   "metadata": {},
   "outputs": [],
   "source": []
  }
 ],
 "metadata": {
  "kernelspec": {
   "display_name": ".env",
   "language": "python",
   "name": "python3"
  },
  "language_info": {
   "codemirror_mode": {
    "name": "ipython",
    "version": 3
   },
   "file_extension": ".py",
   "mimetype": "text/x-python",
   "name": "python",
   "nbconvert_exporter": "python",
   "pygments_lexer": "ipython3",
   "version": "3.12.2"
  }
 },
 "nbformat": 4,
 "nbformat_minor": 2
}
