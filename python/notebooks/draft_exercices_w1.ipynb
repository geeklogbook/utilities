{
 "cells": [
  {
   "cell_type": "code",
   "execution_count": null,
   "metadata": {},
   "outputs": [],
   "source": [
    "print(\"Hello\")"
   ]
  },
  {
   "cell_type": "markdown",
   "metadata": {},
   "source": [
    "1 - Average"
   ]
  },
  {
   "cell_type": "code",
   "execution_count": null,
   "metadata": {},
   "outputs": [],
   "source": [
    "tupla = ('Camila', 5.0, 6.2, 4.8, 6.0)"
   ]
  },
  {
   "cell_type": "code",
   "execution_count": null,
   "metadata": {},
   "outputs": [],
   "source": [
    "def sacar_promedio(tupla):\n",
    "    nombre, notas = tupla[0], tupla[1::]\n",
    "    prom_notas = sum(notas) / len(notas)\n",
    "    return (nombre, prom_notas)\n"
   ]
  },
  {
   "cell_type": "code",
   "execution_count": null,
   "metadata": {},
   "outputs": [],
   "source": [
    "sacar_promedio(tupla)"
   ]
  },
  {
   "cell_type": "markdown",
   "metadata": {},
   "source": [
    "2 - Order"
   ]
  },
  {
   "cell_type": "code",
   "execution_count": null,
   "metadata": {},
   "outputs": [],
   "source": [
    "lista = [-40, -1, 1, 5, 16, 72, 100]"
   ]
  },
  {
   "cell_type": "code",
   "execution_count": null,
   "metadata": {},
   "outputs": [],
   "source": [
    "def agregar_entero(lista, entero):\n",
    "    nueva_lista = []\n",
    "    for n in range(len(lista)):\n",
    "        if lista[n] < entero:\n",
    "            nueva_lista.append(lista[n])\n",
    "        else:\n",
    "            nueva_lista.append(entero)\n",
    "            nueva_lista.extend(lista[n:])\n",
    "            break\n",
    "    else:\n",
    "        nueva_lista.append(entero)\n",
    "    return nueva_lista"
   ]
  },
  {
   "cell_type": "code",
   "execution_count": null,
   "metadata": {},
   "outputs": [],
   "source": [
    "agregar_entero(lista, 13)"
   ]
  },
  {
   "cell_type": "markdown",
   "metadata": {},
   "source": [
    "3 - Repetir"
   ]
  },
  {
   "cell_type": "code",
   "execution_count": null,
   "metadata": {},
   "outputs": [],
   "source": [
    "lista = [1,4,6,2,4,3,1,1,3,5,6,7,3,4,5,5,5,3,3,2,1,2,1,1,1,2,6,6]"
   ]
  },
  {
   "cell_type": "code",
   "execution_count": null,
   "metadata": {},
   "outputs": [],
   "source": [
    "def max_repetido(lista):\n",
    "    counts = dict()\n",
    "    for i in lista:\n",
    "        counts[i] = counts.get(i, 0) + 1\n",
    "    max_cant = max(zip(counts.values(), counts.keys()))[0]\n",
    "    return max_cant\n"
   ]
  },
  {
   "cell_type": "code",
   "execution_count": null,
   "metadata": {},
   "outputs": [],
   "source": [
    "max_repetido(lista)"
   ]
  },
  {
   "cell_type": "markdown",
   "metadata": {},
   "source": [
    "4 - Orden Alfabetico"
   ]
  },
  {
   "cell_type": "code",
   "execution_count": 30,
   "metadata": {},
   "outputs": [],
   "source": [
    "estudiantes = [\n",
    "'Mario Avedaño',\n",
    "'Policarpo Avedaño',\n",
    "'Juan Bodoque',\n",
    "'Juanin Harry',\n",
    "'Mario Hugo',\n",
    "'Dylan Manguera',\n",
    "'Eusebio Manguera',\n",
    "]"
   ]
  },
  {
   "cell_type": "code",
   "execution_count": 31,
   "metadata": {},
   "outputs": [],
   "source": [
    "def agregar_estudiante(lista, estudiante):\n",
    "    nueva_lista = []\n",
    "    for n in range(len(lista)):\n",
    "        if lista[n] > estudiante:\n",
    "            nueva_lista.append(lista[n])\n",
    "        else: \n",
    "            if lista[n] < estudiante:\n",
    "                nueva_lista.append(lista[n])\n",
    "                nueva_lista.append(estudiante)\n",
    "    return nueva_lista"
   ]
  },
  {
   "cell_type": "code",
   "execution_count": 32,
   "metadata": {},
   "outputs": [
    {
     "data": {
      "text/plain": [
       "['Mario Avedaño',\n",
       " 'Policarpo Avedaño',\n",
       " 'Juan Bodoque',\n",
       " 'Juanin Harry',\n",
       " 'Mario Hugo',\n",
       " 'Dylan Manguera',\n",
       " 'Eliza Manguera',\n",
       " 'Eusebio Manguera']"
      ]
     },
     "execution_count": 32,
     "metadata": {},
     "output_type": "execute_result"
    }
   ],
   "source": [
    "lista_resultado = agregar_estudiante(estudiantes, 'Eliza Manguera')\n",
    "lista_resultado"
   ]
  },
  {
   "cell_type": "code",
   "execution_count": null,
   "metadata": {},
   "outputs": [],
   "source": [
    "lista_test =['Mario Avedaño',\n",
    "            'Policarpo Avedaño',\n",
    "            'Juan Bodoque',\n",
    "            'Juanin Harry',\n",
    "            'Mario Hugo',\n",
    "            'Dylan Manguera',\n",
    "            'Eliza Manguera',\n",
    "            'Eusebio Manguera']"
   ]
  },
  {
   "cell_type": "code",
   "execution_count": null,
   "metadata": {},
   "outputs": [],
   "source": [
    "lista_resultado == lista_test"
   ]
  },
  {
   "cell_type": "code",
   "execution_count": null,
   "metadata": {},
   "outputs": [],
   "source": []
  }
 ],
 "metadata": {
  "kernelspec": {
   "display_name": ".env",
   "language": "python",
   "name": "python3"
  },
  "language_info": {
   "codemirror_mode": {
    "name": "ipython",
    "version": 3
   },
   "file_extension": ".py",
   "mimetype": "text/x-python",
   "name": "python",
   "nbconvert_exporter": "python",
   "pygments_lexer": "ipython3",
   "version": "3.12.2"
  }
 },
 "nbformat": 4,
 "nbformat_minor": 2
}
