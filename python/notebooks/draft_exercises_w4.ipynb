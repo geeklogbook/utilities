{
 "cells": [
  {
   "cell_type": "markdown",
   "metadata": {},
   "source": [
    "1"
   ]
  },
  {
   "cell_type": "code",
   "execution_count": 3,
   "metadata": {},
   "outputs": [],
   "source": [
    "boletas = [\n",
    "    {'fecha_compra' : '29-05-22',\n",
    "     'precio' : 12000,\n",
    "     'productos' : {'Chocolate': 1,'Mantequilla': 1,'Huevos': 12, 'Pan' : 1}},\n",
    "    {'fecha_compra' : '31-05-22',\n",
    "     'precio' : 2400,\n",
    "     'productos' : {'Pan': 1, 'Leche' : 2}},\n",
    "    {'fecha_compra' : '01-06-22',\n",
    "     'precio' : 3000,\n",
    "     'productos' : {'Mantequilla': 2, 'Azucar' : 1}}\n",
    "]"
   ]
  },
  {
   "cell_type": "code",
   "execution_count": 4,
   "metadata": {},
   "outputs": [
    {
     "data": {
      "text/plain": [
       "[{'fecha_compra': '29-05-22',\n",
       "  'precio': 12000,\n",
       "  'productos': {'Chocolate': 1, 'Mantequilla': 1, 'Huevos': 12, 'Pan': 1}},\n",
       " {'fecha_compra': '31-05-22',\n",
       "  'precio': 2400,\n",
       "  'productos': {'Pan': 1, 'Leche': 2}},\n",
       " {'fecha_compra': '01-06-22',\n",
       "  'precio': 3000,\n",
       "  'productos': {'Mantequilla': 2, 'Azucar': 1}}]"
      ]
     },
     "execution_count": 4,
     "metadata": {},
     "output_type": "execute_result"
    }
   ],
   "source": [
    "boletas"
   ]
  },
  {
   "cell_type": "code",
   "execution_count": 5,
   "metadata": {},
   "outputs": [],
   "source": [
    "def precio_total(boletas):\n",
    "    total = 0\n",
    "    for item in boletas:\n",
    "        for k, v in item.items():\n",
    "            if k == 'precio':\n",
    "                total += v\n",
    "    return total"
   ]
  },
  {
   "cell_type": "code",
   "execution_count": 6,
   "metadata": {},
   "outputs": [
    {
     "data": {
      "text/plain": [
       "17400"
      ]
     },
     "execution_count": 6,
     "metadata": {},
     "output_type": "execute_result"
    }
   ],
   "source": [
    "precio_total(boletas)"
   ]
  },
  {
   "cell_type": "code",
   "execution_count": 15,
   "metadata": {},
   "outputs": [],
   "source": [
    "def precio_mes(boletas):\n",
    "    final_dict = {}\n",
    "    for item in boletas:\n",
    "        date_string = ''\n",
    "        precio = 0\n",
    "        for k, v in item.items():\n",
    "            if k == 'precio':\n",
    "                precio = v\n",
    "            if k == 'fecha_compra':\n",
    "                date_string = v.split('-',1)[-1]\n",
    "\n",
    "        if date_string in final_dict:\n",
    "            final_dict[date_string] += precio\n",
    "        else:\n",
    "            final_dict[date_string] = precio \n",
    "    return final_dict "
   ]
  },
  {
   "cell_type": "code",
   "execution_count": 16,
   "metadata": {},
   "outputs": [
    {
     "data": {
      "text/plain": [
       "{'05-22': 14400, '06-22': 3000}"
      ]
     },
     "execution_count": 16,
     "metadata": {},
     "output_type": "execute_result"
    }
   ],
   "source": [
    "precio_mes(boletas)"
   ]
  },
  {
   "cell_type": "code",
   "execution_count": 47,
   "metadata": {},
   "outputs": [],
   "source": [
    "def productos_frecuentes(boletas):\n",
    "    final_dic = {}\n",
    "    avg = len(boletas) * 0.5\n",
    "    for item in boletas:\n",
    "        x = list(item['productos'].keys())\n",
    "        for i in x:\n",
    "            final_dic[i] = final_dic.get(i, 0) + 1\n",
    "    filtered_dict = {key: value for key, value in final_dic.items() if value >= avg}\n",
    "    return set(filtered_dict.keys())"
   ]
  },
  {
   "cell_type": "code",
   "execution_count": 48,
   "metadata": {},
   "outputs": [
    {
     "data": {
      "text/plain": [
       "{'Mantequilla', 'Pan'}"
      ]
     },
     "execution_count": 48,
     "metadata": {},
     "output_type": "execute_result"
    }
   ],
   "source": [
    "productos_frecuentes(boletas)"
   ]
  },
  {
   "cell_type": "code",
   "execution_count": null,
   "metadata": {},
   "outputs": [],
   "source": []
  }
 ],
 "metadata": {
  "kernelspec": {
   "display_name": ".env",
   "language": "python",
   "name": "python3"
  },
  "language_info": {
   "codemirror_mode": {
    "name": "ipython",
    "version": 3
   },
   "file_extension": ".py",
   "mimetype": "text/x-python",
   "name": "python",
   "nbconvert_exporter": "python",
   "pygments_lexer": "ipython3",
   "version": "3.12.2"
  }
 },
 "nbformat": 4,
 "nbformat_minor": 2
}
