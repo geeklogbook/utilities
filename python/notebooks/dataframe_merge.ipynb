{
 "cells": [
  {
   "cell_type": "code",
   "execution_count": null,
   "metadata": {},
   "outputs": [
    {
     "name": "stdout",
     "output_type": "stream",
     "text": [
      "Hello World\n"
     ]
    }
   ],
   "source": [
    "#Idea inspired by: https://stackoverflow.com/questions/74018385/merging-2-dataframes-row-wise\n",
    "print(\"Hello World\")"
   ]
  },
  {
   "cell_type": "code",
   "execution_count": 2,
   "metadata": {},
   "outputs": [],
   "source": [
    "import pandas as pd"
   ]
  },
  {
   "cell_type": "code",
   "execution_count": 3,
   "metadata": {},
   "outputs": [
    {
     "name": "stdout",
     "output_type": "stream",
     "text": [
      "   time     A     B     C     D\n",
      "0  val1  None  None  None  None\n",
      "1  val2  None  None  None  None\n",
      "2  val3  None  None  None  None\n",
      "3  val4  None  None  None  None\n"
     ]
    }
   ],
   "source": [
    "data_1 = {\n",
    "        'time': ['val1', 'val2', 'val3', 'val4'], \n",
    "        'A': [None, None, None, None],\n",
    "        'B': [None, None, None, None],\n",
    "        'C': [None, None, None, None],\n",
    "        'D': [None, None, None, None],\n",
    "        }  \n",
    "df_1 = pd.DataFrame(data_1)  \n",
    "print(df_1)"
   ]
  },
  {
   "cell_type": "code",
   "execution_count": 4,
   "metadata": {},
   "outputs": [
    {
     "name": "stdout",
     "output_type": "stream",
     "text": [
      "  Name   fruit\n",
      "0    A   apple\n",
      "1    B  banana\n",
      "2    G   grape\n",
      "3    F     fig\n"
     ]
    }
   ],
   "source": [
    "data_2 = {\n",
    "        'Name': ['A', 'B', 'G', 'F'], \n",
    "        'fruit': ['apple', 'banana', 'grape', 'fig']\n",
    "        }  \n",
    "df_2 = pd.DataFrame(data_2)  \n",
    "print(df_2)"
   ]
  },
  {
   "cell_type": "code",
   "execution_count": 21,
   "metadata": {},
   "outputs": [
    {
     "name": "stdout",
     "output_type": "stream",
     "text": [
      "   time     A     B     G     D Name   fruit\n",
      "0  val1  None  None  None  None  NaN     NaN\n",
      "1  val2  None  None  None  None  NaN     NaN\n",
      "2  val3  None  None  None  None  NaN     NaN\n",
      "3  val4  None  None  None  None  NaN     NaN\n",
      "0   NaN   NaN   NaN   NaN   NaN    A   apple\n",
      "1   NaN   NaN   NaN   NaN   NaN    B  banana\n",
      "2   NaN   NaN   NaN   NaN   NaN    G   grape\n",
      "3   NaN   NaN   NaN   NaN   NaN    F     fig\n"
     ]
    }
   ],
   "source": []
  },
  {
   "cell_type": "code",
   "execution_count": null,
   "metadata": {},
   "outputs": [],
   "source": []
  }
 ],
 "metadata": {
  "kernelspec": {
   "display_name": "Python 3.8.8 ('base')",
   "language": "python",
   "name": "python3"
  },
  "language_info": {
   "codemirror_mode": {
    "name": "ipython",
    "version": 3
   },
   "file_extension": ".py",
   "mimetype": "text/x-python",
   "name": "python",
   "nbconvert_exporter": "python",
   "pygments_lexer": "ipython3",
   "version": "3.12.2"
  },
  "orig_nbformat": 4,
  "vscode": {
   "interpreter": {
    "hash": "9ab98185235db9633ce31088ccfb17c556b0c814d29a2a28dd8fd50712409acd"
   }
  }
 },
 "nbformat": 4,
 "nbformat_minor": 2
}
