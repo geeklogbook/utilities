{
 "cells": [
  {
   "cell_type": "markdown",
   "metadata": {},
   "source": [
    "1"
   ]
  },
  {
   "cell_type": "code",
   "execution_count": 4,
   "metadata": {},
   "outputs": [
    {
     "data": {
      "text/plain": [
       "5"
      ]
     },
     "execution_count": 4,
     "metadata": {},
     "output_type": "execute_result"
    }
   ],
   "source": [
    "def fib(n):\n",
    "    if n == 0 or n == 1:\n",
    "        return 1\n",
    "    return fib(n-1) + fib(n-2)\n",
    "fib(4)"
   ]
  },
  {
   "cell_type": "code",
   "execution_count": 5,
   "metadata": {},
   "outputs": [
    {
     "name": "stdout",
     "output_type": "stream",
     "text": [
      "casa\n",
      "palabra\n",
      "codigo\n",
      "pala\n",
      "fuente\n",
      "fuerte\n"
     ]
    }
   ],
   "source": [
    "a = ['casa', 'palabra', 'codigo', 'pala', 'fuente', 'fuerte']\n",
    "def imprimir_lista(lista):\n",
    "    primer_elemento = lista.pop(0)\n",
    "    print( primer_elemento )\n",
    "    if len(lista) > 0:\n",
    "        imprimir_lista(lista)\n",
    "\n",
    "imprimir_lista(a)\n"
   ]
  },
  {
   "cell_type": "markdown",
   "metadata": {},
   "source": [
    "2"
   ]
  },
  {
   "cell_type": "code",
   "execution_count": 14,
   "metadata": {},
   "outputs": [
    {
     "ename": "TypeError",
     "evalue": "can only concatenate str (not \"int\") to str",
     "output_type": "error",
     "traceback": [
      "\u001b[1;31m---------------------------------------------------------------------------\u001b[0m",
      "\u001b[1;31mTypeError\u001b[0m                                 Traceback (most recent call last)",
      "Cell \u001b[1;32mIn[14], line 14\u001b[0m\n\u001b[0;32m     10\u001b[0m         \u001b[38;5;28;01mreturn\u001b[39;00m \u001b[38;5;124m'\u001b[39m\u001b[38;5;124multimo_digito no puede ser 1 ni 4\u001b[39m\u001b[38;5;124m'\u001b[39m\n\u001b[0;32m     12\u001b[0m     \u001b[38;5;28;01mreturn\u001b[39;00m func(a)\n\u001b[1;32m---> 14\u001b[0m \u001b[38;5;28mprint\u001b[39m(\u001b[43mfunc\u001b[49m\u001b[43m(\u001b[49m\u001b[38;5;241;43m33\u001b[39;49m\u001b[43m)\u001b[49m)\n",
      "Cell \u001b[1;32mIn[14], line 12\u001b[0m, in \u001b[0;36mfunc\u001b[1;34m(a)\u001b[0m\n\u001b[0;32m      9\u001b[0m \u001b[38;5;28;01mif\u001b[39;00m ultimo_digito \u001b[38;5;241m==\u001b[39m \u001b[38;5;241m1\u001b[39m \u001b[38;5;129;01mor\u001b[39;00m ultimo_digito \u001b[38;5;241m==\u001b[39m \u001b[38;5;241m4\u001b[39m:\n\u001b[0;32m     10\u001b[0m     \u001b[38;5;28;01mreturn\u001b[39;00m \u001b[38;5;124m'\u001b[39m\u001b[38;5;124multimo_digito no puede ser 1 ni 4\u001b[39m\u001b[38;5;124m'\u001b[39m\n\u001b[1;32m---> 12\u001b[0m \u001b[38;5;28;01mreturn\u001b[39;00m \u001b[43mfunc\u001b[49m\u001b[43m(\u001b[49m\u001b[43ma\u001b[49m\u001b[43m)\u001b[49m\n",
      "Cell \u001b[1;32mIn[14], line 2\u001b[0m, in \u001b[0;36mfunc\u001b[1;34m(a)\u001b[0m\n\u001b[0;32m      1\u001b[0m \u001b[38;5;28;01mdef\u001b[39;00m \u001b[38;5;21mfunc\u001b[39m( a ):\n\u001b[1;32m----> 2\u001b[0m     \u001b[43ma\u001b[49m\u001b[43m \u001b[49m\u001b[38;5;241;43m+\u001b[39;49m\u001b[38;5;241;43m=\u001b[39;49m\u001b[43m \u001b[49m\u001b[38;5;241;43m24\u001b[39;49m\n\u001b[0;32m      4\u001b[0m     \u001b[38;5;28;01mif\u001b[39;00m a \u001b[38;5;241m>\u001b[39m \u001b[38;5;241m100\u001b[39m:\n\u001b[0;32m      5\u001b[0m         \u001b[38;5;28;01mreturn\u001b[39;00m  \u001b[38;5;124m'\u001b[39m\u001b[38;5;124ma es muy grande\u001b[39m\u001b[38;5;124m'\u001b[39m\n",
      "\u001b[1;31mTypeError\u001b[0m: can only concatenate str (not \"int\") to str"
     ]
    }
   ],
   "source": [
    "def func( a ):\n",
    "    a += 24\n",
    "\n",
    "    if a > 100:\n",
    "        return  'a es muy grande'\n",
    "\n",
    "    a = str(a)\n",
    "    ultimo_digito = a[ len(a) - 1 ]\n",
    "    if ultimo_digito == 1 or ultimo_digito == 4:\n",
    "        return 'ultimo_digito no puede ser 1 ni 4'\n",
    "\n",
    "    return func(a)\n",
    "\n",
    "print(func(33))"
   ]
  },
  {
   "cell_type": "markdown",
   "metadata": {},
   "source": [
    "4"
   ]
  },
  {
   "cell_type": "code",
   "execution_count": 5,
   "metadata": {},
   "outputs": [
    {
     "name": "stdout",
     "output_type": "stream",
     "text": [
      "Gana: Equipo 2 \n",
      "Gana: Equipo 3 \n",
      "Gana: Equipo 3 \n",
      "Gana: Equipo 5 \n",
      "Gana: Equipo 8 \n",
      "Gana: Equipo 5 \n",
      "Gana: Equipo 5 \n"
     ]
    },
    {
     "data": {
      "text/plain": [
       "('Equipo 2 ', 7)"
      ]
     },
     "execution_count": 5,
     "metadata": {},
     "output_type": "execute_result"
    }
   ],
   "source": [
    "equipos = [\n",
    "( 'Equipo 1 ', 5 ),\n",
    "( 'Equipo 2 ', 7 ),\n",
    "( 'Equipo 3 ', 8 ),\n",
    "( 'Equipo 4 ', 2 ),\n",
    "( 'Equipo 5 ', 9 ),\n",
    "( 'Equipo 6 ', 1 ),\n",
    "( 'Equipo 7 ', 3 ),\n",
    "( 'Equipo 8 ', 4 )\n",
    "]\n",
    "\n",
    "def partido( equipos ):\n",
    "    if len(equipos) == 1:\n",
    "        return equipos[0]\n",
    "    else:\n",
    "        mitad = len(equipos)//2\n",
    "        gan_izq = partido( equipos[:mitad] )\n",
    "        gan_der = partido( equipos[mitad:] )\n",
    "        nom1, hab1 = gan_izq\n",
    "        nom2, hab2 = gan_der\n",
    "\n",
    "    if hab1 > hab2:\n",
    "        print('Gana: ' + nom1)\n",
    "        return equipos[0]\n",
    "    else:\n",
    "        print('Gana: ' + nom2)\n",
    "        return equipos[1]\n",
    "\n",
    "partido( equipos )\n"
   ]
  },
  {
   "cell_type": "markdown",
   "metadata": {},
   "source": [
    "5"
   ]
  },
  {
   "cell_type": "code",
   "execution_count": 19,
   "metadata": {},
   "outputs": [
    {
     "name": "stdout",
     "output_type": "stream",
     "text": [
      "Ganador: Bob\n"
     ]
    }
   ],
   "source": [
    "jugadores = [ 'Bob', 'Patricio', 'Calamardo', 'Arenita' ]\n",
    "\n",
    "from random import randint\n",
    "\n",
    "def juego(jugadores):\n",
    "    if len(jugadores) == 1:\n",
    "        return 'Ganador: ' + jugadores[0]\n",
    "\n",
    "    jugador = jugadores[0]\n",
    "    if randint(0,1) == 0:\n",
    "        jugadores.remove(jugador)\n",
    "    else:\n",
    "        jugadores.append(jugador)\n",
    "    return juego(jugadores)\n",
    "\n",
    "print( juego(jugadores) )"
   ]
  },
  {
   "cell_type": "markdown",
   "metadata": {},
   "source": [
    "6"
   ]
  },
  {
   "cell_type": "code",
   "execution_count": 25,
   "metadata": {},
   "outputs": [],
   "source": [
    "lista = [0,0,0,1,1,1,2,2,2,3,3,3,4,4,4]"
   ]
  },
  {
   "cell_type": "code",
   "execution_count": 26,
   "metadata": {},
   "outputs": [
    {
     "name": "stdout",
     "output_type": "stream",
     "text": [
      "0\n",
      "0\n",
      "0\n",
      "1\n",
      "1\n",
      "1\n",
      "2\n",
      "2\n",
      "2\n",
      "3\n",
      "3\n",
      "3\n",
      "4\n",
      "4\n",
      "4\n"
     ]
    }
   ],
   "source": [
    "def imprimir(lista, pos):\n",
    "    if pos < len(lista):\n",
    "        print(lista[pos])\n",
    "        imprimir(lista, pos+1)\n",
    "\n",
    "imprimir(lista, 0)\n"
   ]
  },
  {
   "cell_type": "markdown",
   "metadata": {},
   "source": [
    "Sumativo"
   ]
  },
  {
   "cell_type": "markdown",
   "metadata": {},
   "source": [
    "1"
   ]
  },
  {
   "cell_type": "code",
   "execution_count": 30,
   "metadata": {},
   "outputs": [],
   "source": [
    "def agregar_enteros(lista, num):\n",
    "    res_lista = lista\n",
    "    if num == 0:\n",
    "        res_lista\n",
    "    else:\n",
    "        res_lista.append(num)\n",
    "        agregar_enteros(res_lista, num-1)\n",
    "    return res_lista"
   ]
  },
  {
   "cell_type": "code",
   "execution_count": 31,
   "metadata": {},
   "outputs": [
    {
     "name": "stdout",
     "output_type": "stream",
     "text": [
      "[8, 7, 6, 5, 4, 3, 2, 1]\n"
     ]
    }
   ],
   "source": [
    "lista = []\n",
    "agregar_enteros(lista, 8)\n",
    "print(lista)"
   ]
  },
  {
   "cell_type": "code",
   "execution_count": 32,
   "metadata": {},
   "outputs": [
    {
     "name": "stdout",
     "output_type": "stream",
     "text": [
      "['Alicia', 47, 3, 2, 1]\n"
     ]
    }
   ],
   "source": [
    "lista = ['Alicia', 47]\n",
    "agregar_enteros(lista, 3)\n",
    "print(lista)"
   ]
  },
  {
   "cell_type": "markdown",
   "metadata": {},
   "source": [
    "2"
   ]
  },
  {
   "cell_type": "code",
   "execution_count": 86,
   "metadata": {},
   "outputs": [],
   "source": [
    "def en_orden(lista, ordenada):\n",
    "    len_lista = len(lista)\n",
    "    if len_lista > 0:\n",
    "        ordenada.append(lista)\n",
    "        for elem in lista:\n",
    "            if isinstance(elem, list):\n",
    "                en_orden(elem, ordenada)\n",
    "    return ordenada\n"
   ]
  },
  {
   "cell_type": "code",
   "execution_count": 87,
   "metadata": {},
   "outputs": [
    {
     "name": "stdout",
     "output_type": "stream",
     "text": [
      "[['a'], [['b'], 'c']]\n",
      "['a']\n",
      "[['b'], 'c']\n",
      "['b']\n"
     ]
    }
   ],
   "source": [
    "lista =  [['a'], [['b'], 'c']]\n",
    "ordenada = []\n",
    "en_orden(lista, ordenada)\n",
    "for x in ordenada:\n",
    "    print(x)"
   ]
  },
  {
   "cell_type": "code",
   "execution_count": 88,
   "metadata": {},
   "outputs": [
    {
     "name": "stdout",
     "output_type": "stream",
     "text": [
      "[[['a'], ['b', 'c']], ['d', ['e']], 'f', ['g', 'h']]\n",
      "[['a'], ['b', 'c']]\n",
      "['a']\n",
      "['b', 'c']\n",
      "['d', ['e']]\n",
      "['e']\n",
      "['g', 'h']\n"
     ]
    }
   ],
   "source": [
    "lista = [\n",
    "        [['a'], ['b', 'c']],\n",
    "        ['d', ['e']],\n",
    "        'f',\n",
    "        ['g', 'h']\n",
    "]\n",
    "\n",
    "ordenada = []\n",
    "en_orden(lista, ordenada)\n",
    "for x in ordenada:\n",
    "    print(x)"
   ]
  },
  {
   "cell_type": "code",
   "execution_count": 89,
   "metadata": {},
   "outputs": [
    {
     "data": {
      "text/plain": [
       "4"
      ]
     },
     "execution_count": 89,
     "metadata": {},
     "output_type": "execute_result"
    }
   ],
   "source": [
    "4"
   ]
  },
  {
   "cell_type": "code",
   "execution_count": 92,
   "metadata": {},
   "outputs": [],
   "source": [
    "class Alcancia:\n",
    "    def __init__(self, nombre, dinero, alcancia):\n",
    "        self.nombre = nombre\n",
    "        self.dinero = dinero\n",
    "        self.siguiente_alcancia = alcancia\n"
   ]
  },
  {
   "cell_type": "code",
   "execution_count": 134,
   "metadata": {},
   "outputs": [],
   "source": [
    "def sacar_dinero(alcancia, monto):\n",
    "    alcancia.dinero -= monto\n",
    "    monto_restante = alcancia.dinero * -1\n",
    "    if monto_restante and alcancia.siguiente_alcancia != None:\n",
    "        alcancia.dinero = 0\n",
    "        sacar_dinero(alcancia.siguiente_alcancia, monto_restante)"
   ]
  },
  {
   "cell_type": "code",
   "execution_count": 135,
   "metadata": {},
   "outputs": [
    {
     "name": "stdout",
     "output_type": "stream",
     "text": [
      "900\n",
      "100\n",
      "SACO DINERO\n",
      "700\n",
      "0\n"
     ]
    }
   ],
   "source": [
    "a1 = Alcancia('Chanchito de greda', 900, None)\n",
    "a2 = Alcancia('Debajo del Colchón', 100, a1)\n",
    "print(a1.dinero)\n",
    "print(a2.dinero)\n",
    "sacar_dinero(a2, 300)\n",
    "print(\"SACO DINERO\")\n",
    "print(a1.dinero)\n",
    "print(a2.dinero)"
   ]
  },
  {
   "cell_type": "code",
   "execution_count": null,
   "metadata": {},
   "outputs": [],
   "source": []
  }
 ],
 "metadata": {
  "kernelspec": {
   "display_name": ".env",
   "language": "python",
   "name": "python3"
  },
  "language_info": {
   "codemirror_mode": {
    "name": "ipython",
    "version": 3
   },
   "file_extension": ".py",
   "mimetype": "text/x-python",
   "name": "python",
   "nbconvert_exporter": "python",
   "pygments_lexer": "ipython3",
   "version": "3.12.2"
  }
 },
 "nbformat": 4,
 "nbformat_minor": 2
}
