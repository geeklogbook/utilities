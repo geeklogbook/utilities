{
 "cells": [
  {
   "cell_type": "code",
   "execution_count": 1,
   "metadata": {},
   "outputs": [
    {
     "name": "stdout",
     "output_type": "stream",
     "text": [
      "Hello World\n"
     ]
    }
   ],
   "source": [
    "print(\"Hello World\")"
   ]
  },
  {
   "cell_type": "markdown",
   "metadata": {},
   "source": [
    "1"
   ]
  },
  {
   "cell_type": "code",
   "execution_count": 2,
   "metadata": {},
   "outputs": [],
   "source": [
    "from collections import deque"
   ]
  },
  {
   "cell_type": "code",
   "execution_count": 6,
   "metadata": {},
   "outputs": [
    {
     "name": "stdout",
     "output_type": "stream",
     "text": [
      "1\n",
      "2\n",
      "3\n",
      "4\n",
      "5\n"
     ]
    }
   ],
   "source": [
    "deq = deque( (1,4,5,3,2) )\n",
    "print( deq.popleft() )\n",
    "print( deq.pop() )\n",
    "print( deq.pop() )\n",
    "print( deq.popleft() )\n",
    "print( deq.count(5) * 5 )\n"
   ]
  },
  {
   "cell_type": "markdown",
   "metadata": {},
   "source": [
    "2"
   ]
  },
  {
   "cell_type": "code",
   "execution_count": 5,
   "metadata": {},
   "outputs": [
    {
     "data": {
      "text/plain": [
       "deque(['Community', 'Breaking Bad'])"
      ]
     },
     "execution_count": 5,
     "metadata": {},
     "output_type": "execute_result"
    }
   ],
   "source": [
    "series = deque()\n",
    "series.append('You')\n",
    "series.append('Community')\n",
    "series.append('Breaking Bad')\n",
    "series.popleft()\n",
    "series"
   ]
  },
  {
   "cell_type": "markdown",
   "metadata": {},
   "source": [
    "3"
   ]
  },
  {
   "cell_type": "code",
   "execution_count": 8,
   "metadata": {},
   "outputs": [],
   "source": [
    "fila1 = deque()\n",
    "fila2 = deque()\n",
    "fila3 = deque()\n",
    "filas = ( fila1, fila2, fila3 )"
   ]
  },
  {
   "cell_type": "markdown",
   "metadata": {},
   "source": [
    "4"
   ]
  },
  {
   "cell_type": "code",
   "execution_count": 21,
   "metadata": {},
   "outputs": [],
   "source": [
    "deq = deque( (1,2,3,4,5) )"
   ]
  },
  {
   "cell_type": "code",
   "execution_count": 22,
   "metadata": {},
   "outputs": [],
   "source": [
    "deq2 = deque()\n",
    "for i in deq:\n",
    "    deq2.append( i )\n",
    "deq = deq2\n"
   ]
  },
  {
   "cell_type": "code",
   "execution_count": 23,
   "metadata": {},
   "outputs": [
    {
     "data": {
      "text/plain": [
       "deque([1, 2, 3, 4, 5])"
      ]
     },
     "execution_count": 23,
     "metadata": {},
     "output_type": "execute_result"
    }
   ],
   "source": [
    "deq"
   ]
  },
  {
   "cell_type": "markdown",
   "metadata": {},
   "source": [
    "Summative"
   ]
  },
  {
   "cell_type": "markdown",
   "metadata": {},
   "source": [
    "1"
   ]
  },
  {
   "cell_type": "code",
   "execution_count": 24,
   "metadata": {},
   "outputs": [],
   "source": [
    "vuelos = [ ['Origen', 'Destino', 'precio', 'asientos disponibles', 'Fecha'],\n",
    "           ['Santiago', 'Puerto Montt', 35000, 30, '11 Enero 2023'],\n",
    "           ['Santiago', 'Concepción', 30000, 40, '20 Febrero 2023'],\n",
    "           ['Santiago', 'Puerto Montt', 28000, 2, '19 Enero 2023'],\n",
    "           ['Santiago', 'Puerto Montt', 12000, 100, '20 Mayo 2023'],\n",
    "           ['Antofagasta', 'Santiago', 27000, 14, '18 Abril 2023' ]\n",
    "]"
   ]
  },
  {
   "cell_type": "code",
   "execution_count": 58,
   "metadata": {},
   "outputs": [],
   "source": [
    "from collections import deque\n",
    "def vuelos_disponibles(vuelos, origen, destino, pasajeros):\n",
    "    res_stack = deque()\n",
    "    header = vuelos[0]\n",
    "    res_stack.append(header)\n",
    "    for vuelo in vuelos:\n",
    "        if vuelo[0] == origen and vuelo[1] == destino and vuelo[3] >= pasajeros:\n",
    "            res_stack.append(vuelo)\n",
    "    return res_stack"
   ]
  },
  {
   "cell_type": "code",
   "execution_count": 59,
   "metadata": {},
   "outputs": [],
   "source": [
    "resultado = vuelos_disponibles(vuelos, 'Santiago', 'Puerto Montt', 5)"
   ]
  },
  {
   "cell_type": "code",
   "execution_count": 60,
   "metadata": {},
   "outputs": [
    {
     "data": {
      "text/plain": [
       "deque([['Origen', 'Destino', 'precio', 'asientos disponibles', 'Fecha'],\n",
       "       ['Santiago', 'Puerto Montt', 35000, 30, '11 Enero 2023'],\n",
       "       ['Santiago', 'Puerto Montt', 12000, 100, '20 Mayo 2023']])"
      ]
     },
     "execution_count": 60,
     "metadata": {},
     "output_type": "execute_result"
    }
   ],
   "source": [
    "resultado"
   ]
  },
  {
   "cell_type": "code",
   "execution_count": null,
   "metadata": {},
   "outputs": [],
   "source": [
    "2"
   ]
  }
 ],
 "metadata": {
  "kernelspec": {
   "display_name": ".env",
   "language": "python",
   "name": "python3"
  },
  "language_info": {
   "codemirror_mode": {
    "name": "ipython",
    "version": 3
   },
   "file_extension": ".py",
   "mimetype": "text/x-python",
   "name": "python",
   "nbconvert_exporter": "python",
   "pygments_lexer": "ipython3",
   "version": "3.12.2"
  }
 },
 "nbformat": 4,
 "nbformat_minor": 2
}
