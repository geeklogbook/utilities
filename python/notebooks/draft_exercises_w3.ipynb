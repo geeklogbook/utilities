{
 "cells": [
  {
   "cell_type": "code",
   "execution_count": null,
   "metadata": {},
   "outputs": [],
   "source": [
    "print(\"Hello World\")"
   ]
  },
  {
   "cell_type": "markdown",
   "metadata": {},
   "source": [
    "1"
   ]
  },
  {
   "cell_type": "code",
   "execution_count": null,
   "metadata": {},
   "outputs": [],
   "source": [
    "from collections import deque"
   ]
  },
  {
   "cell_type": "code",
   "execution_count": null,
   "metadata": {},
   "outputs": [],
   "source": [
    "deq = deque( (1,4,5,3,2) )\n",
    "print( deq.popleft() )\n",
    "print( deq.pop() )\n",
    "print( deq.pop() )\n",
    "print( deq.popleft() )\n",
    "print( deq.count(5) * 5 )\n"
   ]
  },
  {
   "cell_type": "markdown",
   "metadata": {},
   "source": [
    "2"
   ]
  },
  {
   "cell_type": "code",
   "execution_count": null,
   "metadata": {},
   "outputs": [],
   "source": [
    "series = deque()\n",
    "series.append('You')\n",
    "series.append('Community')\n",
    "series.append('Breaking Bad')\n",
    "series.popleft()\n",
    "series"
   ]
  },
  {
   "cell_type": "markdown",
   "metadata": {},
   "source": [
    "3"
   ]
  },
  {
   "cell_type": "code",
   "execution_count": null,
   "metadata": {},
   "outputs": [],
   "source": [
    "fila1 = deque()\n",
    "fila2 = deque()\n",
    "fila3 = deque()\n",
    "filas = ( fila1, fila2, fila3 )"
   ]
  },
  {
   "cell_type": "markdown",
   "metadata": {},
   "source": [
    "4"
   ]
  },
  {
   "cell_type": "code",
   "execution_count": null,
   "metadata": {},
   "outputs": [],
   "source": [
    "deq = deque( (1,2,3,4,5) )"
   ]
  },
  {
   "cell_type": "code",
   "execution_count": null,
   "metadata": {},
   "outputs": [],
   "source": [
    "deq2 = deque()\n",
    "for i in deq:\n",
    "    deq2.append( i )\n",
    "deq = deq2\n"
   ]
  },
  {
   "cell_type": "code",
   "execution_count": null,
   "metadata": {},
   "outputs": [],
   "source": [
    "deq"
   ]
  },
  {
   "cell_type": "markdown",
   "metadata": {},
   "source": [
    "Summative"
   ]
  },
  {
   "cell_type": "markdown",
   "metadata": {},
   "source": [
    "1"
   ]
  },
  {
   "cell_type": "code",
   "execution_count": 67,
   "metadata": {},
   "outputs": [],
   "source": [
    "vuelos = [ ['Origen', 'Destino', 'precio', 'asientos disponibles', 'Fecha'],\n",
    "           ['Santiago', 'Puerto Montt', 35000, 30, '11 Enero 2023'],\n",
    "           ['Santiago', 'Concepción', 30000, 40, '20 Febrero 2023'],\n",
    "           ['Santiago', 'Puerto Montt', 28000, 2, '19 Enero 2023'],\n",
    "           ['Santiago', 'Puerto Montt', 12000, 100, '20 Mayo 2023'],\n",
    "           ['Antofagasta', 'Santiago', 27000, 14, '18 Abril 2023' ]\n",
    "]"
   ]
  },
  {
   "cell_type": "code",
   "execution_count": 71,
   "metadata": {},
   "outputs": [],
   "source": [
    "def vuelos_disponibles(vuelos, origen, destino, pasajeros):\n",
    "    res_stack = []\n",
    "    header = vuelos[0]\n",
    "    res_stack.append(header)\n",
    "    for vuelo in vuelos:\n",
    "        if vuelo[0] == origen and vuelo[1] == destino and vuelo[3] >= pasajeros:\n",
    "            res_stack.append(vuelo)\n",
    "    return res_stack"
   ]
  },
  {
   "cell_type": "code",
   "execution_count": 72,
   "metadata": {},
   "outputs": [],
   "source": [
    "resultado = vuelos_disponibles(vuelos, 'Santiago', 'Puerto Montt', 5)"
   ]
  },
  {
   "cell_type": "code",
   "execution_count": 73,
   "metadata": {},
   "outputs": [
    {
     "data": {
      "text/plain": [
       "[['Origen', 'Destino', 'precio', 'asientos disponibles', 'Fecha'],\n",
       " ['Santiago', 'Puerto Montt', 35000, 30, '11 Enero 2023'],\n",
       " ['Santiago', 'Puerto Montt', 12000, 100, '20 Mayo 2023']]"
      ]
     },
     "execution_count": 73,
     "metadata": {},
     "output_type": "execute_result"
    }
   ],
   "source": [
    "resultado"
   ]
  },
  {
   "cell_type": "markdown",
   "metadata": {},
   "source": [
    "2"
   ]
  },
  {
   "cell_type": "code",
   "execution_count": null,
   "metadata": {},
   "outputs": [],
   "source": [
    "lista = [\n",
    "['palabra', '32', '50', '70'],\n",
    "['cod1go', 'pelea2', '12', '50s'],\n",
    "['111a111', 'aqui', 'no', 'si', 'si', 'si', 'si'],\n",
    "['6', '7', '8', '9', '10']\n",
    "]"
   ]
  },
  {
   "cell_type": "code",
   "execution_count": null,
   "metadata": {},
   "outputs": [],
   "source": [
    "from collections import deque\n",
    "def arreglar_lista( lista ):\n",
    "    final_list = []\n",
    "    for list_a in lista:\n",
    "        intermediate_list = []\n",
    "        for elem in list_a:\n",
    "            if elem.isnumeric():\n",
    "                intermediate_list.append(int(elem))\n",
    "            else:\n",
    "                intermediate_list.append(elem)\n",
    "        final_list.append(intermediate_list)\n",
    "    return final_list"
   ]
  },
  {
   "cell_type": "code",
   "execution_count": null,
   "metadata": {},
   "outputs": [],
   "source": [
    "sol_3 = arreglar_lista( lista )"
   ]
  },
  {
   "cell_type": "code",
   "execution_count": null,
   "metadata": {},
   "outputs": [],
   "source": [
    "sol_3"
   ]
  },
  {
   "cell_type": "markdown",
   "metadata": {},
   "source": [
    "3"
   ]
  },
  {
   "cell_type": "code",
   "execution_count": null,
   "metadata": {},
   "outputs": [],
   "source": [
    "lista_1 = [\n",
    "['Nombre', 'Numero alumno', 'Correo', 'Nota final'],\n",
    "['Alicia', 16848, 'amartinez@gmail.com', 5.7],\n",
    "['Marco', 19845, 'marenas@gmail.com', 4.8]\n",
    "]"
   ]
  },
  {
   "cell_type": "code",
   "execution_count": null,
   "metadata": {},
   "outputs": [],
   "source": [
    "lista_2 = [\n",
    "['Numero alumno', 'Nota final', 'Nombre', 'Color favorito'],\n",
    "[16848, 5.7, 'Alicia', 'Rojo'],\n",
    "[19845, 4.8, 'Marco', 'Verde'],\n",
    "[19515, 6.2, 'Federico', 'Azul']\n",
    "]"
   ]
  },
  {
   "cell_type": "code",
   "execution_count": null,
   "metadata": {},
   "outputs": [],
   "source": [
    "def notas_alumnos(lista):\n",
    "    i_nombre = lista[0].index(\"Nombre\")\n",
    "    i_nota = lista[0].index(\"Nota final\")\n",
    "    alumnos = []\n",
    "    for elem in lista[1:]:\n",
    "        nombre = elem[i_nombre]\n",
    "        nota = elem[i_nota]\n",
    "        alumnos.append((nombre, nota))\n",
    "    return alumnos"
   ]
  },
  {
   "cell_type": "code",
   "execution_count": null,
   "metadata": {},
   "outputs": [],
   "source": [
    "notas_alumnos(lista_1)"
   ]
  },
  {
   "cell_type": "code",
   "execution_count": null,
   "metadata": {},
   "outputs": [],
   "source": [
    "notas_alumnos(lista_2)"
   ]
  },
  {
   "cell_type": "markdown",
   "metadata": {},
   "source": [
    "4"
   ]
  },
  {
   "cell_type": "code",
   "execution_count": null,
   "metadata": {},
   "outputs": [],
   "source": [
    "paises = [\n",
    "[0, 'España', 'Madrid'],\n",
    "[2, 'Alemania', 'Berlin'],\n",
    "[1, 'Francia', 'Paris'],\n",
    "[3, 'Italia', 'Roma']\n",
    "]"
   ]
  },
  {
   "cell_type": "code",
   "execution_count": null,
   "metadata": {},
   "outputs": [],
   "source": [
    "belleza = [\n",
    "[2, 0.57],\n",
    "[1, 0.81],\n",
    "[3, 0.68],\n",
    "[0, 0.62]\n",
    "]"
   ]
  },
  {
   "cell_type": "code",
   "execution_count": null,
   "metadata": {},
   "outputs": [],
   "source": [
    "def paises_bellos(paises, belleza):\n",
    "    result = []\n",
    "    for b in belleza:\n",
    "        for p in paises:\n",
    "            if b[0] == p[0]:\n",
    "                pais = p[1]\n",
    "                belleza = b[1]\n",
    "                result.append((pais, belleza))\n",
    "    sorted_list = sorted(result, key=lambda tup: tup[1], reverse=True)\n",
    "    return sorted_list"
   ]
  },
  {
   "cell_type": "code",
   "execution_count": null,
   "metadata": {},
   "outputs": [],
   "source": [
    "paises_bellos(paises, belleza)"
   ]
  },
  {
   "cell_type": "code",
   "execution_count": null,
   "metadata": {},
   "outputs": [],
   "source": []
  }
 ],
 "metadata": {
  "kernelspec": {
   "display_name": ".env",
   "language": "python",
   "name": "python3"
  },
  "language_info": {
   "codemirror_mode": {
    "name": "ipython",
    "version": 3
   },
   "file_extension": ".py",
   "mimetype": "text/x-python",
   "name": "python",
   "nbconvert_exporter": "python",
   "pygments_lexer": "ipython3",
   "version": "3.12.2"
  }
 },
 "nbformat": 4,
 "nbformat_minor": 2
}
