{
 "cells": [
  {
   "cell_type": "code",
   "execution_count": 1,
   "id": "82c488fc",
   "metadata": {},
   "outputs": [
    {
     "name": "stdout",
     "output_type": "stream",
     "text": [
      "Start\n"
     ]
    }
   ],
   "source": [
    "print(\"Start\")"
   ]
  },
  {
   "cell_type": "markdown",
   "id": "7d27aa19",
   "metadata": {},
   "source": [
    "Some funny problems seeing in that youtube video: https://www.youtube.com/watch?v=Peq4GCPNC5c"
   ]
  },
  {
   "cell_type": "markdown",
   "id": "1fa70b6c",
   "metadata": {},
   "source": [
    "# 1 - Anagram"
   ]
  },
  {
   "cell_type": "markdown",
   "id": "10a980c0",
   "metadata": {},
   "source": [
    "My solution"
   ]
  },
  {
   "cell_type": "code",
   "execution_count": 148,
   "id": "d7e8bedd",
   "metadata": {},
   "outputs": [],
   "source": [
    "def make_dictionary(string):\n",
    "    dic = dict()\n",
    "    for letter in string:\n",
    "        if letter in dic:\n",
    "            dic[letter] += 1\n",
    "        else:\n",
    "            dic[letter] = 1\n",
    "    #dic = {x: (dic[x] + 1 if x in dic else 1) for x in string} Have the problem that not sum the letters. All letters are \"1\"\n",
    "    return dic"
   ]
  },
  {
   "cell_type": "code",
   "execution_count": 149,
   "id": "9bd3063a",
   "metadata": {},
   "outputs": [
    {
     "data": {
      "text/plain": [
       "{'n': 1, 'a': 1, 'm': 1, 'e': 2, 'l': 1, 's': 2}"
      ]
     },
     "execution_count": 149,
     "metadata": {},
     "output_type": "execute_result"
    }
   ],
   "source": [
    "make_dictionary(\"nameless\")"
   ]
  },
  {
   "cell_type": "code",
   "execution_count": 150,
   "id": "f61344bb",
   "metadata": {},
   "outputs": [
    {
     "data": {
      "text/plain": [
       "{'s': 2, 'a': 2, 'l': 1, 'e': 1, 'm': 1, 'n': 1}"
      ]
     },
     "execution_count": 150,
     "metadata": {},
     "output_type": "execute_result"
    }
   ],
   "source": [
    "make_dictionary(\"salesman\")"
   ]
  },
  {
   "cell_type": "code",
   "execution_count": 152,
   "id": "646d0f37",
   "metadata": {},
   "outputs": [],
   "source": [
    "def is_anagram(string_one, string_two):\n",
    "    result = False\n",
    "    \n",
    "    if len(string_one) != len(string_two):\n",
    "        return result\n",
    "    else:\n",
    "        string_one_dic = make_dictionary(string_one)\n",
    "        string_two_dic = make_dictionary(string_two)\n",
    "        if string_one_dic == string_two_dic:\n",
    "            result = True\n",
    "        return result\n",
    "        "
   ]
  },
  {
   "cell_type": "code",
   "execution_count": 153,
   "id": "487c69eb",
   "metadata": {},
   "outputs": [
    {
     "data": {
      "text/plain": [
       "True"
      ]
     },
     "execution_count": 153,
     "metadata": {},
     "output_type": "execute_result"
    }
   ],
   "source": [
    "is_anagram(\"danger\", \"garden\")"
   ]
  },
  {
   "cell_type": "code",
   "execution_count": 154,
   "id": "3d281596",
   "metadata": {},
   "outputs": [
    {
     "data": {
      "text/plain": [
       "False"
      ]
     },
     "execution_count": 154,
     "metadata": {},
     "output_type": "execute_result"
    }
   ],
   "source": [
    "is_anagram(\"nameless\", \"salesman\")"
   ]
  },
  {
   "cell_type": "markdown",
   "id": "259c7aab",
   "metadata": {},
   "source": [
    "Video"
   ]
  },
  {
   "cell_type": "markdown",
   "id": "e98fb033",
   "metadata": {},
   "source": [
    "Option 1"
   ]
  },
  {
   "cell_type": "code",
   "execution_count": 155,
   "id": "acb5bf7e",
   "metadata": {},
   "outputs": [],
   "source": [
    "def are_anagrams1(s1,s2):\n",
    "    if len(s1) != len(s2):\n",
    "        return False\n",
    "    freq1 = {}\n",
    "    freq2 = {}\n",
    "    for ch in s1:\n",
    "        if ch in freq1:\n",
    "            freq1[ch] += 1\n",
    "        else:\n",
    "            freq1[ch] = 1\n",
    "    for ch in s2:\n",
    "        if ch in freq2:\n",
    "            freq2[ch] += 1\n",
    "        else:\n",
    "            freq2[ch] = 1\n",
    "    for key in freq1:\n",
    "        if key not in freq2 or freq1[key] != freq2[key]:\n",
    "            return False, freq1, freq2\n",
    "    return freq1, freq2, True"
   ]
  },
  {
   "cell_type": "code",
   "execution_count": 156,
   "id": "53468257",
   "metadata": {},
   "outputs": [
    {
     "data": {
      "text/plain": [
       "({'d': 1, 'a': 1, 'n': 1, 'g': 1, 'e': 1, 'r': 1},\n",
       " {'g': 1, 'a': 1, 'r': 1, 'd': 1, 'e': 1, 'n': 1},\n",
       " True)"
      ]
     },
     "execution_count": 156,
     "metadata": {},
     "output_type": "execute_result"
    }
   ],
   "source": [
    "are_anagrams1(\"danger\", \"garden\")"
   ]
  },
  {
   "cell_type": "code",
   "execution_count": 157,
   "id": "70809650",
   "metadata": {},
   "outputs": [
    {
     "data": {
      "text/plain": [
       "(False,\n",
       " {'n': 1, 'a': 1, 'm': 1, 'e': 2, 'l': 1, 's': 2},\n",
       " {'s': 2, 'a': 2, 'l': 1, 'e': 1, 'm': 1, 'n': 1})"
      ]
     },
     "execution_count": 157,
     "metadata": {},
     "output_type": "execute_result"
    }
   ],
   "source": [
    "are_anagrams1(\"nameless\", \"salesman\")"
   ]
  },
  {
   "cell_type": "markdown",
   "id": "bf97b838",
   "metadata": {},
   "source": [
    "Option 2"
   ]
  },
  {
   "cell_type": "code",
   "execution_count": 164,
   "id": "7ce28f2b",
   "metadata": {},
   "outputs": [],
   "source": [
    "from collections import Counter\n",
    "def are_anagrams2(s1,s2):\n",
    "    if len(s1) != len(s2):\n",
    "        return False\n",
    "    return Counter(s1) == Counter(s2)"
   ]
  },
  {
   "cell_type": "code",
   "execution_count": 165,
   "id": "d700e027",
   "metadata": {},
   "outputs": [
    {
     "data": {
      "text/plain": [
       "True"
      ]
     },
     "execution_count": 165,
     "metadata": {},
     "output_type": "execute_result"
    }
   ],
   "source": [
    "are_anagrams2(\"danger\", \"garden\")"
   ]
  },
  {
   "cell_type": "code",
   "execution_count": 166,
   "id": "06e0221c",
   "metadata": {},
   "outputs": [
    {
     "data": {
      "text/plain": [
       "False"
      ]
     },
     "execution_count": 166,
     "metadata": {},
     "output_type": "execute_result"
    }
   ],
   "source": [
    "are_anagrams2(\"nameless\", \"salesman\")"
   ]
  },
  {
   "cell_type": "markdown",
   "id": "7f185a69",
   "metadata": {},
   "source": [
    "Option 3"
   ]
  },
  {
   "cell_type": "code",
   "execution_count": 167,
   "id": "c1b6a402",
   "metadata": {},
   "outputs": [],
   "source": [
    "def are_anagrams3(s1, s2):\n",
    "    if len(s1) != len(s2):\n",
    "        return False\n",
    "    return sorted(s1) == sorted(s2)"
   ]
  },
  {
   "cell_type": "code",
   "execution_count": 168,
   "id": "0c5b5bc5",
   "metadata": {},
   "outputs": [
    {
     "data": {
      "text/plain": [
       "True"
      ]
     },
     "execution_count": 168,
     "metadata": {},
     "output_type": "execute_result"
    }
   ],
   "source": [
    "are_anagrams3(\"danger\", \"garden\")"
   ]
  },
  {
   "cell_type": "code",
   "execution_count": 169,
   "id": "d3d0e49f",
   "metadata": {},
   "outputs": [
    {
     "data": {
      "text/plain": [
       "False"
      ]
     },
     "execution_count": 169,
     "metadata": {},
     "output_type": "execute_result"
    }
   ],
   "source": [
    "are_anagrams3(\"nameless\", \"salesman\")"
   ]
  },
  {
   "cell_type": "markdown",
   "id": "58aaa53d",
   "metadata": {},
   "source": [
    "# 2 - Index"
   ]
  },
  {
   "cell_type": "code",
   "execution_count": 234,
   "id": "a2c2c269",
   "metadata": {},
   "outputs": [],
   "source": [
    "import numpy as np\n",
    "example_array = sorted(np.random.randint(0,50,15))\n",
    "arr = [2,4,5,5,5,5,5,7,9,9]"
   ]
  },
  {
   "cell_type": "code",
   "execution_count": 182,
   "id": "f018d56f",
   "metadata": {},
   "outputs": [
    {
     "data": {
      "text/plain": [
       "[2, 7, 8, 8, 8, 11, 15, 17, 21, 21, 31, 36, 36, 40, 43]"
      ]
     },
     "execution_count": 182,
     "metadata": {},
     "output_type": "execute_result"
    }
   ],
   "source": [
    "example_array"
   ]
  },
  {
   "cell_type": "markdown",
   "id": "4b64f94a",
   "metadata": {},
   "source": [
    "My Solution"
   ]
  },
  {
   "cell_type": "code",
   "execution_count": 229,
   "id": "dbd1d003",
   "metadata": {},
   "outputs": [],
   "source": [
    "def number_indexes(array, number_to_find):\n",
    "    first = -1\n",
    "    last = -1\n",
    "    indx = 0\n",
    "    for number in array:\n",
    "        if number == number_to_find and first == -1:\n",
    "            first = indx\n",
    "        if number == number_to_find and last < indx:\n",
    "            last = indx\n",
    "        indx += 1\n",
    "    return [first, last]"
   ]
  },
  {
   "cell_type": "code",
   "execution_count": 233,
   "id": "8bd8d315",
   "metadata": {},
   "outputs": [
    {
     "data": {
      "text/plain": [
       "[8, 9]"
      ]
     },
     "execution_count": 233,
     "metadata": {},
     "output_type": "execute_result"
    }
   ],
   "source": [
    "number_indexes(example_array, 21)"
   ]
  },
  {
   "cell_type": "code",
   "execution_count": 235,
   "id": "16c340fd",
   "metadata": {},
   "outputs": [
    {
     "data": {
      "text/plain": [
       "[2, 6]"
      ]
     },
     "execution_count": 235,
     "metadata": {},
     "output_type": "execute_result"
    }
   ],
   "source": [
    "number_indexes(arr, 5)"
   ]
  },
  {
   "cell_type": "markdown",
   "id": "90fd261b",
   "metadata": {},
   "source": [
    "Solution 1"
   ]
  },
  {
   "cell_type": "code",
   "execution_count": 243,
   "id": "dd1e7d37",
   "metadata": {},
   "outputs": [],
   "source": [
    "def first_and_last(arr, target):\n",
    "    for i in range(len(arr)):\n",
    "        if arr[i] == target:\n",
    "            start = i\n",
    "            while i + 1 < len(arr) and arr[i+1] == target:\n",
    "                i += 1\n",
    "            return [start, i]\n",
    "    return[-1, 1]"
   ]
  },
  {
   "cell_type": "code",
   "execution_count": 244,
   "id": "3e63f4db",
   "metadata": {},
   "outputs": [
    {
     "data": {
      "text/plain": [
       "[2, 6]"
      ]
     },
     "execution_count": 244,
     "metadata": {},
     "output_type": "execute_result"
    }
   ],
   "source": [
    "first_and_last(arr, 5)"
   ]
  },
  {
   "cell_type": "markdown",
   "id": "19a72786",
   "metadata": {},
   "source": [
    "Solution 2"
   ]
  },
  {
   "cell_type": "code",
   "execution_count": 246,
   "id": "148357f1",
   "metadata": {},
   "outputs": [],
   "source": [
    "def find_start(arr, target):\n",
    "    if arr[0] == target:\n",
    "        return 0\n",
    "    left, right = 0, len(arr) - 1\n",
    "    while left <= right:\n",
    "        mid = (left + right)//2\n",
    "        if arr[mid] == target and arr[mid-1] < target:\n",
    "            return mid\n",
    "        elif arr[mid] < target:\n",
    "            left = mid + 1\n",
    "        else:\n",
    "            right = mid - 1\n",
    "    return -1"
   ]
  },
  {
   "cell_type": "code",
   "execution_count": 248,
   "id": "24354a1c",
   "metadata": {},
   "outputs": [
    {
     "data": {
      "text/plain": [
       "2"
      ]
     },
     "execution_count": 248,
     "metadata": {},
     "output_type": "execute_result"
    }
   ],
   "source": [
    "find_start(arr, 5)"
   ]
  },
  {
   "cell_type": "code",
   "execution_count": 254,
   "id": "234a82b4",
   "metadata": {},
   "outputs": [],
   "source": [
    "def find_end(arr,target):\n",
    "    if arr[-1] == target:\n",
    "        return len(arr) -1 \n",
    "    left, right = 0, len(arr)-1\n",
    "    while left <= right:\n",
    "        mid = (left + right)//2\n",
    "        if arr[mid] == target and arr[mid+1] > target:\n",
    "            return mid\n",
    "        elif arr[mid] > target:\n",
    "            right = mid -1\n",
    "        else:\n",
    "            left = mid + 1\n",
    "    return -1"
   ]
  },
  {
   "cell_type": "code",
   "execution_count": 255,
   "id": "eaf2f066",
   "metadata": {},
   "outputs": [
    {
     "data": {
      "text/plain": [
       "6"
      ]
     },
     "execution_count": 255,
     "metadata": {},
     "output_type": "execute_result"
    }
   ],
   "source": [
    "find_end(arr, 5)"
   ]
  },
  {
   "cell_type": "code",
   "execution_count": 251,
   "id": "f8d17fde",
   "metadata": {},
   "outputs": [],
   "source": [
    "def first_and_last2(arr, target):\n",
    "    if len(arr) == 0:\n",
    "        return [-1, -1]\n",
    "    start = find_start(arr, target)\n",
    "    if start == -1:\n",
    "        return [-1, -1]\n",
    "    end = start\n",
    "    while end + 1 < len(arr) and arr[end + 1] == target:\n",
    "        end += 1\n",
    "    return [start, end]"
   ]
  },
  {
   "cell_type": "code",
   "execution_count": 252,
   "id": "7e971464",
   "metadata": {},
   "outputs": [
    {
     "data": {
      "text/plain": [
       "[2, 6]"
      ]
     },
     "execution_count": 252,
     "metadata": {},
     "output_type": "execute_result"
    }
   ],
   "source": [
    "first_and_last2(arr, 5)"
   ]
  },
  {
   "cell_type": "code",
   "execution_count": 257,
   "id": "e296e0e7",
   "metadata": {},
   "outputs": [],
   "source": [
    "def first_and_last3(arr, target):\n",
    "    if len(arr) == 0 or arr[0] > target or arr[-1] < target:\n",
    "        return [-1, -1]\n",
    "    start = find_start(arr, target)\n",
    "    end = find_end(arr, target)\n",
    "    return [start, end]"
   ]
  },
  {
   "cell_type": "code",
   "execution_count": 258,
   "id": "0ed5e784",
   "metadata": {},
   "outputs": [
    {
     "data": {
      "text/plain": [
       "[2, 6]"
      ]
     },
     "execution_count": 258,
     "metadata": {},
     "output_type": "execute_result"
    }
   ],
   "source": [
    "first_and_last3(arr, 5)"
   ]
  },
  {
   "cell_type": "code",
   "execution_count": null,
   "id": "04cf4026",
   "metadata": {},
   "outputs": [],
   "source": []
  }
 ],
 "metadata": {
  "kernelspec": {
   "display_name": "Python 3",
   "language": "python",
   "name": "python3"
  },
  "language_info": {
   "codemirror_mode": {
    "name": "ipython",
    "version": 3
   },
   "file_extension": ".py",
   "mimetype": "text/x-python",
   "name": "python",
   "nbconvert_exporter": "python",
   "pygments_lexer": "ipython3",
   "version": "3.8.8"
  }
 },
 "nbformat": 4,
 "nbformat_minor": 5
}
